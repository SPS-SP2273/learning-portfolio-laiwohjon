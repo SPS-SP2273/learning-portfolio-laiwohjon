{
 "cells": [
  {
   "cell_type": "markdown",
   "id": "123456",
   "metadata": {},
   "source": [
    "<div style=\"text-align:left;font-size:2em\"><span style=\"font-weight:bolder;font-size:1.25em\">SP2273 | Learning Portfolio</span><br><br><span style=\"font-weight:bold;color:darkred\">Functions (Need) Exercises</span></div>"
   ]
  },
  {
   "cell_type": "markdown",
   "id": "a38cdcb9",
   "metadata": {},
   "source": [
    "### Exercise 1(Total recall?)"
   ]
  },
  {
   "cell_type": "markdown",
   "id": "19bf4df8",
   "metadata": {},
   "source": [
    "1. Purely from memory, list as many of the basic Python features I mentioned in my notes as you remember. Use a Markdown cell for this list.\n"
   ]
  },
  {
   "cell_type": "markdown",
   "id": "57051855",
   "metadata": {},
   "source": [
    "1. print()\n",
    "1. type()\n",
    "1. str(), int() etc (typecasting)\n",
    "1. import numpy as np (importing packages)\n",
    "1. \\ escape sequences (\\n, \\t)\n",
    "1. *, -, +, /, **, %\n",
    "1. x += 2\n",
    "1. np.sqrt \n"
   ]
  },
  {
   "cell_type": "markdown",
   "id": "46e0147c",
   "metadata": {},
   "source": [
    "2. Now, visit the notes and complete the list with the ones you missed. Indicate those you missed by putting them in italics."
   ]
  },
  {
   "cell_type": "markdown",
   "id": "24409e1f",
   "metadata": {},
   "source": [
    "### Exercise 2 (Debug me)"
   ]
  },
  {
   "cell_type": "markdown",
   "id": "ac7d26cf",
   "metadata": {},
   "source": [
    "Fix (debug) the following code to create a Pythagorean triple 3, 4, 5 (because $ 3^2 + 4^2 = 5^2 $)"
   ]
  },
  {
   "cell_type": "markdown",
   "id": "8076ea48",
   "metadata": {},
   "source": [
    "Original code:"
   ]
  },
  {
   "cell_type": "code",
   "execution_count": 2,
   "id": "8dccf281",
   "metadata": {},
   "outputs": [
    {
     "ename": "IndentationError",
     "evalue": "unindent does not match any outer indentation level (<tokenize>, line 3)",
     "output_type": "error",
     "traceback": [
      "\u001b[1;36m  File \u001b[1;32m<tokenize>:3\u001b[1;36m\u001b[0m\n\u001b[1;33m    Print(x, y, z)\u001b[0m\n\u001b[1;37m    ^\u001b[0m\n\u001b[1;31mIndentationError\u001b[0m\u001b[1;31m:\u001b[0m unindent does not match any outer indentation level\n"
     ]
    }
   ],
   "source": [
    "x, y = 3, 4\n",
    "        z = sqrt(x*2 + y**2)\n",
    "    Print(x, y, z)"
   ]
  },
  {
   "cell_type": "markdown",
   "id": "c8235ff8",
   "metadata": {},
   "source": [
    "New code:"
   ]
  },
  {
   "cell_type": "code",
   "execution_count": 4,
   "id": "e9982e16",
   "metadata": {},
   "outputs": [
    {
     "name": "stdout",
     "output_type": "stream",
     "text": [
      "3 4 5.0\n"
     ]
    }
   ],
   "source": [
    "import math \n",
    "\n",
    "x, y = 3, 4\n",
    "z = math.sqrt(x**2 + y**2)\n",
    "print(x, y, z)"
   ]
  }
 ],
 "metadata": {
  "kernelspec": {
   "display_name": "Python 3 (ipykernel)",
   "language": "python",
   "name": "python3"
  },
  "language_info": {
   "codemirror_mode": {
    "name": "ipython",
    "version": 3
   },
   "file_extension": ".py",
   "mimetype": "text/x-python",
   "name": "python",
   "nbconvert_exporter": "python",
   "pygments_lexer": "ipython3",
   "version": "3.11.5"
  },
  "toc": {
   "base_numbering": 1,
   "nav_menu": {},
   "number_sections": true,
   "sideBar": true,
   "skip_h1_title": false,
   "title_cell": "Table of Contents",
   "title_sidebar": "Contents",
   "toc_cell": false,
   "toc_position": {},
   "toc_section_display": true,
   "toc_window_display": false
  },
  "vscode": {
   "interpreter": {
    "hash": "31f2aee4e71d21fbe5cf8b01ff0e069b9275f58929596ceb00d14d90e3e16cd6"
   }
  }
 },
 "nbformat": 4,
 "nbformat_minor": 5
}
