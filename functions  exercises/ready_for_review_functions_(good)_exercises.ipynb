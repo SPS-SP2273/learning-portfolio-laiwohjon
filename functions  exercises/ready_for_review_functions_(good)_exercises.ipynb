{
 "cells": [
  {
   "cell_type": "markdown",
   "id": "123456",
   "metadata": {},
   "source": [
    "<div style=\"text-align:left;font-size:2em\"><span style=\"font-weight:bolder;font-size:1.25em\">SP2273 | Learning Portfolio</span><br><br><span style=\"font-weight:bold;color:darkred\">Functions (Good) Exercises</span></div>"
   ]
  },
  {
   "cell_type": "markdown",
   "id": "bde504a5",
   "metadata": {},
   "source": [
    "## Exercise 1 (Celsius to Fahrenheit or Kelvin)"
   ]
  },
  {
   "cell_type": "code",
   "execution_count": 19,
   "id": "c8c991b0",
   "metadata": {},
   "outputs": [
    {
     "data": {
      "text/plain": [
       "373.15"
      ]
     },
     "execution_count": 19,
     "metadata": {},
     "output_type": "execute_result"
    }
   ],
   "source": [
    "def convert_celsius(temperature_celsius, target_scale = \"Fahrenheit\"):\n",
    "    if target_scale == \"Kelvin\":\n",
    "        temperature_kelvin = temperature_celsius + 273.15\n",
    "        return temperature_kelvin\n",
    "    return (temperature_celsius*9/5) + 32\n",
    "convert_celsius(100, \"Kelvin\")"
   ]
  },
  {
   "cell_type": "markdown",
   "id": "80d93efb",
   "metadata": {},
   "source": [
    "## Exercise 2 (Fahrenheit to Celsius or Kelvin)"
   ]
  },
  {
   "cell_type": "code",
   "execution_count": 18,
   "id": "0f246add",
   "metadata": {},
   "outputs": [
    {
     "data": {
      "text/plain": [
       "373.15"
      ]
     },
     "execution_count": 18,
     "metadata": {},
     "output_type": "execute_result"
    }
   ],
   "source": [
    "def convert_fahrenheit(temperature_fahrenheit, target_scale = 'Celsius'):\n",
    "    if target_scale == \"Kelvin\":\n",
    "        temperature_kelvin = (temperature_fahrenheit-32)*5/9 + 273.15\n",
    "        return temperature_kelvin\n",
    "    return (temperature_fahrenheit-32)*5/9\n",
    "convert_fahrenheit(212, \"Kelvin\")"
   ]
  },
  {
   "cell_type": "markdown",
   "id": "ebd60126",
   "metadata": {},
   "source": [
    "## Exercise 3 (General Temperature Conversion)\n",
    "\n",
    "The function should take three arguments:\n",
    "temperature: The temperature to be converted.\n",
    "source_scale (string): The scale of the input temperature (either 'Celsius', 'Fahrenheit', or 'Kelvin').\n",
    "target_scale (string): The desired scale for the output temperature.\n",
    "\n",
    "Remember to reuse your previous functions!\n"
   ]
  },
  {
   "cell_type": "code",
   "execution_count": 34,
   "id": "d09340bf",
   "metadata": {},
   "outputs": [],
   "source": [
    "def convert_kelvin(temperature_kelvin, target_scale = 'Celsius'):\n",
    "    if target_scale == \"Fahrenheit\":\n",
    "        temperature_fahrenheit = (temperature_kelvin-273.15)*9/5 + 32\n",
    "        return temperature_fahrenheit\n",
    "    return temperature_kelvin - 273.15\n",
    "\n",
    "def convert_temperature(temperature, source_scale, target_scale):\n",
    "        if source_scale == \"Celsius\":\n",
    "            return convert_celsius(temperature, target_scale)\n",
    "        elif source_scale == \"Fahrenheit\":\n",
    "            return convert_fahrenheit(temperature, target_scale)\n",
    "        else:\n",
    "            return convert_kelvin(temperature, target_scale)\n",
    "            \n",
    "            "
   ]
  },
  {
   "cell_type": "code",
   "execution_count": 33,
   "id": "4ca43f46",
   "metadata": {},
   "outputs": [
    {
     "name": "stdout",
     "output_type": "stream",
     "text": [
      "273.15\n"
     ]
    }
   ],
   "source": [
    "print(convert_temperature(32, \"Fahrenheit\", \"Kelvin\"))"
   ]
  }
 ],
 "metadata": {
  "kernelspec": {
   "display_name": "Python 3 (ipykernel)",
   "language": "python",
   "name": "python3"
  },
  "language_info": {
   "codemirror_mode": {
    "name": "ipython",
    "version": 3
   },
   "file_extension": ".py",
   "mimetype": "text/x-python",
   "name": "python",
   "nbconvert_exporter": "python",
   "pygments_lexer": "ipython3",
   "version": "3.11.5"
  },
  "toc": {
   "base_numbering": 1,
   "nav_menu": {},
   "number_sections": true,
   "sideBar": true,
   "skip_h1_title": false,
   "title_cell": "Table of Contents",
   "title_sidebar": "Contents",
   "toc_cell": false,
   "toc_position": {},
   "toc_section_display": true,
   "toc_window_display": false
  },
  "vscode": {
   "interpreter": {
    "hash": "31f2aee4e71d21fbe5cf8b01ff0e069b9275f58929596ceb00d14d90e3e16cd6"
   }
  }
 },
 "nbformat": 4,
 "nbformat_minor": 5
}
