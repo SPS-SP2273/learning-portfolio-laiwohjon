{
 "cells": [
  {
   "cell_type": "markdown",
   "id": "123456",
   "metadata": {},
   "source": [
    "<div style=\"text-align:left;font-size:2em\"><span style=\"font-weight:bolder;font-size:1.25em\">SP2273 | Learning Portfolio</span><br><br><span style=\"font-weight:bold;color:darkred\">Files, Folders & OS (Need) Exercises</span></div>"
   ]
  },
  {
   "cell_type": "markdown",
   "id": "ea333f2e",
   "metadata": {},
   "source": [
    "## Scenario \n",
    "You are a member of an international team analysing environmental pollution. The project involves ten cities: Cairo, Dhaka, Jakarta, Karachi, Manila, Melbourne, Osaka, Shanghai, Singapore, and Tokyo.\n",
    "\n",
    "Your task is to process and organise data from various environmental measurements. The provided zip file, os-collaboration-exercise-data.zip, contains all relevant data files for the past year.\n",
    "\n",
    "## Things to note\n",
    "\n",
    "**Data Files**: Each data file is named in the format month-date_city.txt (e.g., may-10_singapore.txt).\n",
    "**Data Collection**: Data was recorded sporadically; not all days of each month have corresponding data files. The dates of data collection vary across the cities.\n",
    "**Exclusion of Files**: Ignore any non-text files, such as those in .pdf, .png, or .jpg formats."
   ]
  },
  {
   "cell_type": "markdown",
   "id": "31c93cae",
   "metadata": {},
   "source": [
    "## Task 1:\n",
    "We like to convert the filename to a more useful numerical format. Specifically, we want to convert month-date-city.txt. (i.e. may-10-singapore.txt) to a mm-dd-city.txt (i.e. 05-10-singapore.txt) format.\n",
    "\n",
    "Using the following dictionary (or otherwise), write a snippet of Python code to convert 'oct-08_singapore.txt' to 10-08-singapore.txt."
   ]
  },
  {
   "cell_type": "code",
   "execution_count": 7,
   "id": "8f82b11a",
   "metadata": {},
   "outputs": [
    {
     "name": "stdout",
     "output_type": "stream",
     "text": [
      "10-08-singapore.txt\n"
     ]
    }
   ],
   "source": [
    "   \n",
    "month_dict = {\n",
    "'jan': '01', 'feb': '02', 'mar': '03',\n",
    "'apr': '04', 'may': '05', 'jun': '06',\n",
    "'jul': '07', 'aug': '08', 'sep': '09',\n",
    "'oct': '10', 'nov': '11', 'dec': '12'\n",
    "}\n",
    "old_file_name = 'oct-08_singapore.txt'\n",
    "\n",
    "# Extracting month, day, and city\n",
    "\n",
    "#Take the part before \"_\" and splits it with \"-\" as separator. \n",
    "parts = old_file_name.split('_')[0].split('-')\n",
    "\n",
    "#month corresponds to part[0]\n",
    "#day corresponds to parts[1]\n",
    "#To get city, you take the part after _, and take the first part before \".\"\n",
    "#The part after \".\" corresponds to the file extension. \n",
    "month, day, city = parts[0], parts[1], old_file_name.split('_')[1].split('.')[0]\n",
    "\n",
    "# Converting month abbreviation to numerical format\n",
    "month_numerical = month_dict.get(month.lower())\n",
    "\n",
    "# Creating the new filename\n",
    "new_filename = f'{month_numerical}-{day}-{city}.txt'\n",
    "\n",
    "print(new_filename)\n",
    "\n",
    "\n"
   ]
  },
  {
   "cell_type": "markdown",
   "id": "b3b56f71",
   "metadata": {},
   "source": [
    "## Task 2\n",
    "\n",
    "Incorporate your previous code into a function named rename_my_file(old_file_name) that accepts the old filename as the argument and returns the new file name."
   ]
  },
  {
   "cell_type": "code",
   "execution_count": 87,
   "id": "fc52b804",
   "metadata": {},
   "outputs": [
    {
     "name": "stdout",
     "output_type": "stream",
     "text": [
      "01-11-singapore.txt\n"
     ]
    }
   ],
   "source": [
    "def rename_my_file(old_file_name): \n",
    "    month_dict = {\n",
    "    'jan': '01', 'feb': '02', 'mar': '03',\n",
    "    'apr': '04', 'may': '05', 'jun': '06',\n",
    "    'jul': '07', 'aug': '08', 'sep': '09',\n",
    "    'oct': '10', 'nov': '11', 'dec': '12'\n",
    "    }\n",
    "    # Extracting month, day, and city\n",
    "    try:\n",
    "        #Take the part before \"_\" and splits it with \"-\" as separator. \n",
    "        parts = old_file_name.split('_')[0].split('-')\n",
    "\n",
    "        #month corresponds to part[0]\n",
    "        #day corresponds to parts[1]\n",
    "        #To get city, you take the part after _, and take the first part before \".\"\n",
    "        #The part after \".\" corresponds to the file extension. \n",
    "        month, day, city = parts[0], parts[1], old_file_name.split('_')[1].split('.')[0]\n",
    "\n",
    "        # Converting month abbreviation to numerical format\n",
    "        month_numerical = month_dict[month]\n",
    "\n",
    "        # Creating the new filename\n",
    "        new_filename = f'{month_numerical}-{day}-{city}.txt'\n",
    "\n",
    "        return new_filename\n",
    "    except:\n",
    "        return old_file_name\n",
    "\n",
    "print(rename_my_file('01-11-singapore.txt'))"
   ]
  },
  {
   "cell_type": "markdown",
   "id": "8b40927d",
   "metadata": {},
   "source": [
    "## Task 3\n",
    "Use a for loop to apply the function rename_my_file() to the file list below.\n",
    "\n",
    "['oct-08_singapore.txt', 'jul-10_cairo.txt', 'may-15_dhaka.txt',\n",
    " 'may-13_cairo.txt', 'oct-21_cairo.txt', 'jan-10_singapore.txt',\n",
    " 'jun-20_tokyo.txt', 'aug-06_jakarta.txt', 'dec-21_karachi.txt',\n",
    " 'jan-01_tokyo.txt']\n",
    " \n",
    "Print out your progress in the form old-file-name ----> new-file-name"
   ]
  },
  {
   "cell_type": "code",
   "execution_count": 48,
   "id": "8d749534",
   "metadata": {},
   "outputs": [
    {
     "name": "stdout",
     "output_type": "stream",
     "text": [
      "oct-08_singapore.txt ----> 10-08-singapore.txt\n",
      "jul-10_cairo.txt ----> 07-10-cairo.txt\n",
      "may-15_dhaka.txt ----> 05-15-dhaka.txt\n",
      "may-13_cairo.txt ----> 05-13-cairo.txt\n",
      "oct-21_cairo.txt ----> 10-21-cairo.txt\n",
      "jan-10_singapore.txt ----> 01-10-singapore.txt\n",
      "jun-20_tokyo.txt ----> 06-20-tokyo.txt\n",
      "aug-06_jakarta.txt ----> 08-06-jakarta.txt\n",
      "dec-21_karachi.txt ----> 12-21-karachi.txt\n",
      "jan-01_tokyo.txt ----> 01-01-tokyo.txt\n"
     ]
    }
   ],
   "source": [
    "file_list = ['oct-08_singapore.txt', 'jul-10_cairo.txt', 'may-15_dhaka.txt', 'may-13_cairo.txt', 'oct-21_cairo.txt', 'jan-10_singapore.txt', 'jun-20_tokyo.txt', 'aug-06_jakarta.txt', 'dec-21_karachi.txt', 'jan-01_tokyo.txt']\n",
    "\n",
    "for old_file in file_list:\n",
    "    new_file = rename_my_file(old_file)\n",
    "    print(f\"{old_file} ----> {new_file}\")"
   ]
  },
  {
   "cell_type": "markdown",
   "id": "84d5fda5",
   "metadata": {},
   "source": [
    "## Task 4\n",
    "With the help of glob, use rename_my_file() to rename all the .txt files in the folder.\n",
    "\n",
    "Note that you might have to adjust your function rename_my_file() to accommodate the already renamed files.\n"
   ]
  },
  {
   "cell_type": "code",
   "execution_count": 104,
   "id": "27b47e5b",
   "metadata": {},
   "outputs": [],
   "source": [
    "import os\n",
    "import glob\n",
    "\n",
    "name_list = glob.glob('./**/*.txt', recursive=True)\n",
    "#print(name_list)\n",
    "for file in name_list:\n",
    "    filename = os.path.split(file)[-1]      # Split filename from the rest \n",
    "    new_file = rename_my_file(filename)\n",
    "    name_path = os.path.join(os.path.split(file)[0], new_file)\n",
    "    os.rename(file, name_path)\n",
    "    #print(f'renaming {file} to {name_path}')\n"
   ]
  },
  {
   "cell_type": "markdown",
   "id": "2635b334",
   "metadata": {},
   "source": [
    "## Task 5\n",
    "Use a for loop to create a folder for each city.\n",
    "The list of cities is provided below for your convenience.\n",
    "\n",
    "['Cairo', 'Dhaka', 'Jakarta', 'Karachi', 'Manila',\n",
    " 'Melbourne', 'Osaka', 'Shanghai', 'Singapore', 'Tokyo']"
   ]
  },
  {
   "cell_type": "code",
   "execution_count": 89,
   "id": "9324501e",
   "metadata": {},
   "outputs": [],
   "source": [
    "cities = ['Cairo', 'Dhaka', 'Jakarta', 'Karachi', 'Manila', 'Melbourne', 'Osaka', 'Shanghai', 'Singapore', 'Tokyo']\n",
    "\n",
    "for city in cities:\n",
    "    path = os.path.join(\".\", city)\n",
    "    os.mkdir(path)"
   ]
  },
  {
   "cell_type": "markdown",
   "id": "9074b406",
   "metadata": {},
   "source": [
    "## Task 6 \n",
    "\n",
    "Use glob to list all the files from Cairo.\n",
    "Now use a for loop and shutil.copy() to copy all the files related to Cairo to the corresponding folder you created.\n"
   ]
  },
  {
   "cell_type": "code",
   "execution_count": 111,
   "id": "0e33a546",
   "metadata": {},
   "outputs": [
    {
     "ename": "PermissionError",
     "evalue": "[Errno 13] Permission denied: '.\\\\Cairo'",
     "output_type": "error",
     "traceback": [
      "\u001b[1;31m---------------------------------------------------------------------------\u001b[0m",
      "\u001b[1;31mPermissionError\u001b[0m                           Traceback (most recent call last)",
      "Cell \u001b[1;32mIn[111], line 7\u001b[0m\n\u001b[0;32m      5\u001b[0m \u001b[38;5;28;01mfor\u001b[39;00m file \u001b[38;5;129;01min\u001b[39;00m cairo_list:\n\u001b[0;32m      6\u001b[0m     cairo_file \u001b[38;5;241m=\u001b[39m os\u001b[38;5;241m.\u001b[39mpath\u001b[38;5;241m.\u001b[39mjoin(\u001b[38;5;124m'\u001b[39m\u001b[38;5;124mCairo\u001b[39m\u001b[38;5;124m'\u001b[39m)\n\u001b[1;32m----> 7\u001b[0m     \u001b[43mshutil\u001b[49m\u001b[38;5;241;43m.\u001b[39;49m\u001b[43mcopy\u001b[49m\u001b[43m(\u001b[49m\u001b[43mfile\u001b[49m\u001b[43m,\u001b[49m\u001b[43m \u001b[49m\u001b[43mcairo_file\u001b[49m\u001b[43m)\u001b[49m\n",
      "File \u001b[1;32m~\\miniconda3\\Lib\\shutil.py:419\u001b[0m, in \u001b[0;36mcopy\u001b[1;34m(src, dst, follow_symlinks)\u001b[0m\n\u001b[0;32m    417\u001b[0m \u001b[38;5;28;01mif\u001b[39;00m os\u001b[38;5;241m.\u001b[39mpath\u001b[38;5;241m.\u001b[39misdir(dst):\n\u001b[0;32m    418\u001b[0m     dst \u001b[38;5;241m=\u001b[39m os\u001b[38;5;241m.\u001b[39mpath\u001b[38;5;241m.\u001b[39mjoin(dst, os\u001b[38;5;241m.\u001b[39mpath\u001b[38;5;241m.\u001b[39mbasename(src))\n\u001b[1;32m--> 419\u001b[0m \u001b[43mcopyfile\u001b[49m\u001b[43m(\u001b[49m\u001b[43msrc\u001b[49m\u001b[43m,\u001b[49m\u001b[43m \u001b[49m\u001b[43mdst\u001b[49m\u001b[43m,\u001b[49m\u001b[43m \u001b[49m\u001b[43mfollow_symlinks\u001b[49m\u001b[38;5;241;43m=\u001b[39;49m\u001b[43mfollow_symlinks\u001b[49m\u001b[43m)\u001b[49m\n\u001b[0;32m    420\u001b[0m copymode(src, dst, follow_symlinks\u001b[38;5;241m=\u001b[39mfollow_symlinks)\n\u001b[0;32m    421\u001b[0m \u001b[38;5;28;01mreturn\u001b[39;00m dst\n",
      "File \u001b[1;32m~\\miniconda3\\Lib\\shutil.py:256\u001b[0m, in \u001b[0;36mcopyfile\u001b[1;34m(src, dst, follow_symlinks)\u001b[0m\n\u001b[0;32m    254\u001b[0m     os\u001b[38;5;241m.\u001b[39msymlink(os\u001b[38;5;241m.\u001b[39mreadlink(src), dst)\n\u001b[0;32m    255\u001b[0m \u001b[38;5;28;01melse\u001b[39;00m:\n\u001b[1;32m--> 256\u001b[0m     \u001b[38;5;28;01mwith\u001b[39;00m \u001b[38;5;28;43mopen\u001b[39;49m\u001b[43m(\u001b[49m\u001b[43msrc\u001b[49m\u001b[43m,\u001b[49m\u001b[43m \u001b[49m\u001b[38;5;124;43m'\u001b[39;49m\u001b[38;5;124;43mrb\u001b[39;49m\u001b[38;5;124;43m'\u001b[39;49m\u001b[43m)\u001b[49m \u001b[38;5;28;01mas\u001b[39;00m fsrc:\n\u001b[0;32m    257\u001b[0m         \u001b[38;5;28;01mtry\u001b[39;00m:\n\u001b[0;32m    258\u001b[0m             \u001b[38;5;28;01mwith\u001b[39;00m \u001b[38;5;28mopen\u001b[39m(dst, \u001b[38;5;124m'\u001b[39m\u001b[38;5;124mwb\u001b[39m\u001b[38;5;124m'\u001b[39m) \u001b[38;5;28;01mas\u001b[39;00m fdst:\n\u001b[0;32m    259\u001b[0m                 \u001b[38;5;66;03m# macOS\u001b[39;00m\n",
      "\u001b[1;31mPermissionError\u001b[0m: [Errno 13] Permission denied: '.\\\\Cairo'"
     ]
    }
   ],
   "source": [
    "import shutil\n",
    "\n",
    "cairo_list = glob.glob('./**/*cairo*', recursive=True)\n",
    "\n",
    "for file in cairo_list:\n",
    "    cairo_file = os.path.join('Cairo')\n",
    "    shutil.copy(file, cairo_file)\n"
   ]
  },
  {
   "cell_type": "code",
   "execution_count": null,
   "id": "5fd9624d",
   "metadata": {},
   "outputs": [],
   "source": [
    "\n",
    "'''\n",
    "path_to_destination = os.path.join(\".\", \"Cairo\")\n",
    "\n",
    "cairo_pattern = '**/*Cairo*.txt'\n",
    "cairo_files = glob.glob(cairo_pattern, recursive=True)\n",
    "\n",
    "shutil.copy(cairo_files, path_to_destination)\n",
    "'''"
   ]
  }
 ],
 "metadata": {
  "kernelspec": {
   "display_name": "Python 3 (ipykernel)",
   "language": "python",
   "name": "python3"
  },
  "language_info": {
   "codemirror_mode": {
    "name": "ipython",
    "version": 3
   },
   "file_extension": ".py",
   "mimetype": "text/x-python",
   "name": "python",
   "nbconvert_exporter": "python",
   "pygments_lexer": "ipython3",
   "version": "3.11.5"
  },
  "toc": {
   "base_numbering": 1,
   "nav_menu": {},
   "number_sections": true,
   "sideBar": true,
   "skip_h1_title": false,
   "title_cell": "Table of Contents",
   "title_sidebar": "Contents",
   "toc_cell": false,
   "toc_position": {},
   "toc_section_display": true,
   "toc_window_display": false
  },
  "vscode": {
   "interpreter": {
    "hash": "31f2aee4e71d21fbe5cf8b01ff0e069b9275f58929596ceb00d14d90e3e16cd6"
   }
  }
 },
 "nbformat": 4,
 "nbformat_minor": 5
}
