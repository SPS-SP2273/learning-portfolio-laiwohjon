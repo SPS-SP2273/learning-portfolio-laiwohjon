{
 "cells": [
  {
   "cell_type": "markdown",
   "id": "123456",
   "metadata": {},
   "source": [
    "<div style=\"text-align:left;font-size:2em\"><span style=\"font-weight:bolder;font-size:1.25em\">SP2273 | Learning Portfolio</span><br><br><span style=\"font-weight:bold;color:darkred\">Loops (Need) Exercises</span></div>"
   ]
  },
  {
   "cell_type": "markdown",
   "id": "66d3b8bb",
   "metadata": {},
   "source": [
    "## Exercise 1 (Celcius to Farenheit)\n",
    "\n",
    "You are provided with the following list of temperatures in Celsius. Write a quick Python snippet that converts each temperature to Fahrenheit and prints both temperatures."
   ]
  },
  {
   "cell_type": "code",
   "execution_count": 7,
   "id": "0c4525ed",
   "metadata": {},
   "outputs": [
    {
     "name": "stdout",
     "output_type": "stream",
     "text": [
      "0 degree celsius corresponds to 32.0 fahrenheit.\n",
      "5 degree celsius corresponds to 41.0 fahrenheit.\n",
      "10 degree celsius corresponds to 50.0 fahrenheit.\n",
      "15 degree celsius corresponds to 59.0 fahrenheit.\n",
      "20 degree celsius corresponds to 68.0 fahrenheit.\n",
      "25 degree celsius corresponds to 77.0 fahrenheit.\n",
      "30 degree celsius corresponds to 86.0 fahrenheit.\n",
      "35 degree celsius corresponds to 95.0 fahrenheit.\n",
      "40 degree celsius corresponds to 104.0 fahrenheit.\n",
      "45 degree celsius corresponds to 113.0 fahrenheit.\n",
      "50 degree celsius corresponds to 122.0 fahrenheit.\n"
     ]
    }
   ],
   "source": [
    "temperatures_celsius = [\n",
    "    0, 5, 10, 15, 20, 25,\n",
    "    30, 35, 40, 45, 50\n",
    "]\n",
    "\n",
    "temp_celsius_copy = temperatures_celsius.copy()\n",
    "temperatures_fahrenheit = []\n",
    "for temp in temp_celsius_copy:\n",
    "    temperatures_fahrenheit += [temp*(9/5) + 32]\n",
    "    \n",
    "for index, temp in enumerate(temperatures_celsius):\n",
    "    fahrenheit = temperatures_fahrenheit[index]\n",
    "    print(f\"{temp} degree celsius corresponds to {fahrenheit} fahrenheit.\")\n",
    "    "
   ]
  },
  {
   "cell_type": "markdown",
   "id": "d3b597d1",
   "metadata": {},
   "source": [
    "## Exercise 2 (Multiplication table)\n",
    "\n",
    "You can put a loop within a loop to do doubly loopy stuff. Here is an example:"
   ]
  },
  {
   "cell_type": "code",
   "execution_count": 8,
   "id": "7102377e",
   "metadata": {},
   "outputs": [
    {
     "name": "stdout",
     "output_type": "stream",
     "text": [
      "A1\tA2\tA3\t\n",
      "\n",
      "B1\tB2\tB3\t\n",
      "\n",
      "C1\tC2\tC3\t\n",
      "\n"
     ]
    }
   ],
   "source": [
    "for letter in ['A', 'B', 'C']:\n",
    "    for number in [1, 2, 3]:\n",
    "        print(f'{letter}{number}', end='\\t')\n",
    "    print('\\n')"
   ]
  },
  {
   "cell_type": "markdown",
   "id": "27ea9c44",
   "metadata": {},
   "source": [
    "What the above code does is that for \"A\" in the outer loop, the inner loop iterates through integers 1, 2 and 3 and print the concatenated letter and number together with a tab. This is followed by a command to move to the next line after the inner for loop is completed. After 1 iteration of the outer loop, the same process repeats with \"B\" instead of A. This will form a 3x3 arrangement of letter-number pairs. "
   ]
  },
  {
   "cell_type": "markdown",
   "id": "fee77b8e",
   "metadata": {},
   "source": [
    "### Task \n",
    "\n",
    "Write a Python snippet that prints a multiplication table (up to 5) for numbers 1 through 5 using nested for loops. \n",
    "\n"
   ]
  },
  {
   "cell_type": "code",
   "execution_count": 13,
   "id": "0f39a7fa",
   "metadata": {},
   "outputs": [
    {
     "name": "stdout",
     "output_type": "stream",
     "text": [
      "1 : 1\t2\t3\t4\t5\t\n",
      "\n",
      "2 : 2\t4\t6\t8\t10\t\n",
      "\n",
      "3 : 3\t6\t9\t12\t15\t\n",
      "\n",
      "4 : 4\t8\t12\t16\t20\t\n",
      "\n",
      "5 : 5\t10\t15\t20\t25\t\n",
      "\n"
     ]
    }
   ],
   "source": [
    "for number in range(1,6):\n",
    "    print(f\"{number} : \", end='')\n",
    "    for multiplier in range(1,6):\n",
    "          print(f\"{multiplier*number}\", end='\\t')\n",
    "    print('\\n')"
   ]
  },
  {
   "cell_type": "code",
   "execution_count": null,
   "id": "4e175d27",
   "metadata": {},
   "outputs": [],
   "source": []
  }
 ],
 "metadata": {
  "kernelspec": {
   "display_name": "Python 3 (ipykernel)",
   "language": "python",
   "name": "python3"
  },
  "language_info": {
   "codemirror_mode": {
    "name": "ipython",
    "version": 3
   },
   "file_extension": ".py",
   "mimetype": "text/x-python",
   "name": "python",
   "nbconvert_exporter": "python",
   "pygments_lexer": "ipython3",
   "version": "3.11.5"
  },
  "toc": {
   "base_numbering": 1,
   "nav_menu": {},
   "number_sections": true,
   "sideBar": true,
   "skip_h1_title": false,
   "title_cell": "Table of Contents",
   "title_sidebar": "Contents",
   "toc_cell": false,
   "toc_position": {},
   "toc_section_display": true,
   "toc_window_display": false
  },
  "vscode": {
   "interpreter": {
    "hash": "31f2aee4e71d21fbe5cf8b01ff0e069b9275f58929596ceb00d14d90e3e16cd6"
   }
  }
 },
 "nbformat": 4,
 "nbformat_minor": 5
}
