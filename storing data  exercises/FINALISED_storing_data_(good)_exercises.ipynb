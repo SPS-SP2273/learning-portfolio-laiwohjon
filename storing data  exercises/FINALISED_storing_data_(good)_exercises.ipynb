{
 "cells": [
  {
   "cell_type": "markdown",
   "id": "123456",
   "metadata": {},
   "source": [
    "<div style=\"text-align:left;font-size:2em\"><span style=\"font-weight:bolder;font-size:1.25em\">SP2273 | Learning Portfolio</span><br><br><span style=\"font-weight:bold;color:darkred\">Storing Data (Good) Exercises</span></div>"
   ]
  },
  {
   "cell_type": "markdown",
   "id": "4344ea4b",
   "metadata": {},
   "source": [
    "## Exercise 1 (Total recall)\n",
    "\n",
    "Purely from memory, write short descriptions of the following terms:\n",
    "\n",
    "Subsetting: Selecting just a portion or subset of a list or array (something that contains multiple elements)\n",
    "\n",
    "Indexing: Labelling the position of different elements in a data type that can contain multiple objects (eg list, arrays)\n",
    "\n",
    "Slicing: Selecting some portion or subset of a list. \n",
    "\n",
    "Masking: Selecting elements from a NumPy Array according to some condition. \n",
    "\n",
    "*my very layman impression of what these words are*"
   ]
  },
  {
   "cell_type": "markdown",
   "id": "85fc7645",
   "metadata": {},
   "source": [
    "## Exercise 2 (Show me the ‘odd’ letters)\n",
    "\n",
    "np_array_2d = np.array([[1, \"A\"], [3, \"C\"], [2, \"B\"], [4, \"D\"],\n",
    "                        [5, \"E\"], [7, \"G\"], [6, \"F\"], [8, \"H\"],\n",
    "                        [10, \"J\"], [9, \"I\"]])\n",
    "                        \n",
    "Use masking to subset letters that correspond to odd numbers (get result [A, C, E, G, I])"
   ]
  },
  {
   "cell_type": "code",
   "execution_count": 15,
   "id": "2d5f3a79",
   "metadata": {},
   "outputs": [
    {
     "data": {
      "text/plain": [
       "['A', 'C', 'E', 'G', 'I']"
      ]
     },
     "execution_count": 15,
     "metadata": {},
     "output_type": "execute_result"
    }
   ],
   "source": [
    "import numpy as np\n",
    "np_array_2d = np.array([[1, \"A\"], [3, \"C\"], [2, \"B\"], [4, \"D\"],\n",
    "                        [5, \"E\"], [7, \"G\"], [6, \"F\"], [8, \"H\"],\n",
    "                        [10, \"J\"], [9, \"I\"]])\n",
    "number_str = np_array_2d[:,0]\n",
    "number = number_str.astype(int)\n",
    "odd_or_even = number%2\n",
    "odd_or_even_boolean = odd_or_even == 1\n",
    "np_array_2d[odd_or_even_boolean][:, 1].tolist()\n",
    "\n"
   ]
  },
  {
   "cell_type": "code",
   "execution_count": null,
   "id": "fd78a9b8",
   "metadata": {},
   "outputs": [],
   "source": []
  }
 ],
 "metadata": {
  "kernelspec": {
   "display_name": "Python 3 (ipykernel)",
   "language": "python",
   "name": "python3"
  },
  "language_info": {
   "codemirror_mode": {
    "name": "ipython",
    "version": 3
   },
   "file_extension": ".py",
   "mimetype": "text/x-python",
   "name": "python",
   "nbconvert_exporter": "python",
   "pygments_lexer": "ipython3",
   "version": "3.11.5"
  },
  "toc": {
   "base_numbering": 1,
   "nav_menu": {},
   "number_sections": true,
   "sideBar": true,
   "skip_h1_title": false,
   "title_cell": "Table of Contents",
   "title_sidebar": "Contents",
   "toc_cell": false,
   "toc_position": {},
   "toc_section_display": true,
   "toc_window_display": false
  },
  "vscode": {
   "interpreter": {
    "hash": "31f2aee4e71d21fbe5cf8b01ff0e069b9275f58929596ceb00d14d90e3e16cd6"
   }
  }
 },
 "nbformat": 4,
 "nbformat_minor": 5
}
