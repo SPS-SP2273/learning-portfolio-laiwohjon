{
 "cells": [
  {
   "cell_type": "markdown",
   "id": "123456",
   "metadata": {},
   "source": [
    "<div style=\"text-align:left;font-size:2em\"><span style=\"font-weight:bolder;font-size:1.25em\">SP2273 | Learning Portfolio</span><br><br><span style=\"font-weight:bold;color:darkred\">Storing Data (Need) Exercises</span></div>"
   ]
  },
  {
   "cell_type": "markdown",
   "id": "ef2f79c3",
   "metadata": {},
   "source": [
    "## Exercise 1\n",
    "Purely from memory, jot down:\n",
    "\n",
    "1. Two similarities between lists and arrays.\n",
    "1. Two differences between lists and arrays.\n",
    "1. What is a dictionary?"
   ]
  },
  {
   "cell_type": "markdown",
   "id": "0e2e8c64",
   "metadata": {},
   "source": [
    "1. Both store multuple values. Both are mutable.\n",
    "2. List operations usually apply to the whole list without changing the elements while array operations usually change the elements themselves. Lists can store multiple data types while array can only store one. \n",
    "3. A dictionary is a way to store key-value pairs (keys and values associated with the key - kind of like descriptions)."
   ]
  },
  {
   "cell_type": "markdown",
   "id": "ada9b66e",
   "metadata": {},
   "source": [
    "## Exercise 2 (Indexing)\n",
    "\n",
    "Modify the following code to print out all elements with an odd number. I have done the one corresponding to i9 for you."
   ]
  },
  {
   "cell_type": "code",
   "execution_count": 1,
   "id": "4fe4568d",
   "metadata": {},
   "outputs": [
    {
     "name": "stdout",
     "output_type": "stream",
     "text": [
      "a1\n",
      "c3\n",
      "e5\n",
      "g7\n",
      "i9\n"
     ]
    }
   ],
   "source": [
    "py_list = [\"a1\", \"b2\", \"c3\", \"d4\", \"e5\", \"f6\", \"g7\", \"h8\", \"i9\", \"j10\"]\n",
    "\n",
    "for i in range(10):\n",
    "    if i % 2 == 0:\n",
    "        print(py_list[i])\n",
    "    else:\n",
    "        continue"
   ]
  },
  {
   "cell_type": "markdown",
   "id": "1f7a1615",
   "metadata": {},
   "source": [
    "## Exercise 3 (Index again)\n",
    "\n",
    "Given the following list in Python:\n",
    "\n",
    "elements = ['Hydrogen',\n",
    "            'Helium', 'Lithium',\n",
    "            'Beryllium', 'Boron', 'Carbon',\n",
    "            'Nitrogen', 'Oxygen',\n",
    "            'Fluorine',\n",
    "            'Neon']\n",
    "            \n",
    "1. Access and print the element at index 4 using forward indexing.\n",
    "\n",
    "1. Access and print the element at index 4 from the end of the list using reverse indexing.\n"
   ]
  },
  {
   "cell_type": "code",
   "execution_count": 3,
   "id": "30130d5c",
   "metadata": {},
   "outputs": [
    {
     "name": "stdout",
     "output_type": "stream",
     "text": [
      "Boron\n"
     ]
    }
   ],
   "source": [
    "elements = ['Hydrogen',\n",
    "            'Helium', 'Lithium',\n",
    "            'Beryllium', 'Boron', 'Carbon',\n",
    "            'Nitrogen', 'Oxygen',\n",
    "            'Fluorine',\n",
    "            'Neon']\n",
    "\n",
    "print(elements[4])"
   ]
  },
  {
   "cell_type": "code",
   "execution_count": 5,
   "id": "60714ff9",
   "metadata": {},
   "outputs": [
    {
     "name": "stdout",
     "output_type": "stream",
     "text": [
      "Boron\n"
     ]
    }
   ],
   "source": [
    "print(elements[-6])"
   ]
  },
  {
   "cell_type": "markdown",
   "id": "7d4fe7e7",
   "metadata": {},
   "source": [
    "## Exercise 4 (How many ones)\n",
    "\n",
    "Use the concepts you learned in this chapter to determine the number of 1’s in the following list of numbers.\n",
    "\n",
    "numbers=[45, 60, 1, 30, 96, 1, 96, 57, 16, 1,\n",
    "        99, 62, 86, 43, 42, 60, 59, 1, 1, 35,\n",
    "        83, 47, 34, 28, 68, 23, 22, 92, 1, 79,\n",
    "        1, 29, 94, 72, 46, 47, 1, 74, 32, 20,\n",
    "        8, 37, 35, 1, 89, 29, 86, 19, 43, 61]                  "
   ]
  },
  {
   "cell_type": "code",
   "execution_count": 14,
   "id": "ebde9d9a",
   "metadata": {},
   "outputs": [
    {
     "data": {
      "text/plain": [
       "9"
      ]
     },
     "execution_count": 14,
     "metadata": {},
     "output_type": "execute_result"
    }
   ],
   "source": [
    "import numpy as np\n",
    "\n",
    "numbers=[45, 60, 1, 30, 96, 1, 96, 57, 16, 1,\n",
    "        99, 62, 86, 43, 42, 60, 59, 1, 1, 35,\n",
    "        83, 47, 34, 28, 68, 23, 22, 92, 1, 79,\n",
    "        1, 29, 94, 72, 46, 47, 1, 74, 32, 20,\n",
    "        8, 37, 35, 1, 89, 29, 86, 19, 43, 61]                  \n",
    "\n",
    "numbers_array = np.array(numbers)\n",
    "len(numbers_array[numbers_array==1])\n",
    "\n",
    "#This work if I want to figure out how many elements\n",
    "#in the list is equal to 1. \n",
    "\n",
    "#If I want to find out the total number of digit 1's \n",
    "#in the code, the code will look different. \n"
   ]
  },
  {
   "cell_type": "code",
   "execution_count": null,
   "id": "5e17563c",
   "metadata": {},
   "outputs": [],
   "source": []
  }
 ],
 "metadata": {
  "kernelspec": {
   "display_name": "Python 3 (ipykernel)",
   "language": "python",
   "name": "python3"
  },
  "language_info": {
   "codemirror_mode": {
    "name": "ipython",
    "version": 3
   },
   "file_extension": ".py",
   "mimetype": "text/x-python",
   "name": "python",
   "nbconvert_exporter": "python",
   "pygments_lexer": "ipython3",
   "version": "3.11.5"
  },
  "toc": {
   "base_numbering": 1,
   "nav_menu": {},
   "number_sections": true,
   "sideBar": true,
   "skip_h1_title": false,
   "title_cell": "Table of Contents",
   "title_sidebar": "Contents",
   "toc_cell": false,
   "toc_position": {},
   "toc_section_display": true,
   "toc_window_display": false
  },
  "vscode": {
   "interpreter": {
    "hash": "31f2aee4e71d21fbe5cf8b01ff0e069b9275f58929596ceb00d14d90e3e16cd6"
   }
  }
 },
 "nbformat": 4,
 "nbformat_minor": 5
}
