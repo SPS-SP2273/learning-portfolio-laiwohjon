{
 "cells": [
  {
   "attachments": {},
   "cell_type": "markdown",
   "id": "123456",
   "metadata": {},
   "source": [
    "<div style=\"text-align:left;font-size:2em\"><span style=\"font-weight:bolder;font-size:1.25em\">SP2273 | Learning Portfolio</span><br><br><span style=\"font-weight:bold;color:darkred\">Using Jupyter (Good)</span></div>"
   ]
  },
  {
   "attachments": {},
   "cell_type": "markdown",
   "id": "60652574",
   "metadata": {},
   "source": [
    "# What to expect in this chapter"
   ]
  },
  {
   "cell_type": "markdown",
   "id": "1da10ce3-45bb-46ed-a5c3-f8e99423b17b",
   "metadata": {},
   "source": [
    "You should now know the basics of using a Jupyter Notebook. However, the Jupyter environment offers many more goodies (e.g., extensions, shell magic). In this chapter, I will show you a few of these and help you optimise your environment to make it easier and faster to use Jupyter."
   ]
  },
  {
   "attachments": {},
   "cell_type": "markdown",
   "id": "e8e91c2a",
   "metadata": {},
   "source": [
    "# 1 Some tips and tricks"
   ]
  },
  {
   "attachments": {},
   "cell_type": "markdown",
   "id": "53f19dfe",
   "metadata": {},
   "source": [
    "## 1.1 Keyboard Shortcuts"
   ]
  },
  {
   "cell_type": "markdown",
   "id": "81611194-13d9-4d73-87aa-2e8a3e18e49e",
   "metadata": {},
   "source": [
    "Using keyboard shortcuts will make your workflow smooth and efficient. Here are some essential shortcuts. It will help you to practice using all these keyboard shortcuts."
   ]
  },
  {
   "cell_type": "markdown",
   "id": "12258616-dce4-45c9-a72e-c409b1cbf5a9",
   "metadata": {},
   "source": [
    "You will notice that many shortcut commands use the escape button (`ESC`). This is because typing `ESC` puts Jupyter into command mode, ready for a command, not code or text."
   ]
  },
  {
   "attachments": {},
   "cell_type": "markdown",
   "id": "4b3bad0a",
   "metadata": {},
   "source": [
    "### Things to note"
   ]
  },
  {
   "cell_type": "markdown",
   "id": "4b2838a8-a86f-451f-8941-de883c527f57",
   "metadata": {},
   "source": [
    "- You can select one or more cells using `SHIFT` and the up and down arrow keys.\r",
    "- \n",
    "Be careful with the delete shortcut; it can be ruthless.- \r\n",
    "You can view (and set) shortcuts for Jupyter Notebooks by typi `ESC + H `H."
   ]
  },
  {
   "attachments": {},
   "cell_type": "markdown",
   "id": "dac8d09b",
   "metadata": {},
   "source": [
    "## 1.2 Shell commands"
   ]
  },
  {
   "cell_type": "markdown",
   "id": "4898ef88-53e0-4926-9e2b-a89b3954873f",
   "metadata": {},
   "source": [
    "You can run ‘terminal’ commands (called shell commands) from Jupyter without switching to the terminal. The only thing you need to do is to add a ! in front of the command.\r\n",
    "\r\n",
    "To test out this feature, run the following:"
   ]
  },
  {
   "cell_type": "code",
   "execution_count": 2,
   "id": "358122e0-fa9f-4999-8ade-4b416fe88359",
   "metadata": {},
   "outputs": [
    {
     "name": "stdout",
     "output_type": "stream",
     "text": [
      "C:\\Users\\Lai Woh Jon\\Documents\\GitHub\\learning-portfolio-laiwohjon\\using jupyter\n"
     ]
    }
   ],
   "source": [
    "#This will print the current working directory\n",
    "!cd "
   ]
  },
  {
   "cell_type": "code",
   "execution_count": 4,
   "id": "75614bad-7180-4c15-837c-e720b5e44681",
   "metadata": {},
   "outputs": [
    {
     "name": "stdout",
     "output_type": "stream",
     "text": [
      " Volume in drive C is OS\n",
      " Volume Serial Number is 841F-42E6\n",
      "\n",
      " Directory of C:\\Users\\Lai Woh Jon\\Documents\\GitHub\\learning-portfolio-laiwohjon\\using jupyter\n",
      "\n",
      "19/01/2024  05:13 PM    <DIR>          .\n",
      "17/01/2024  08:46 AM    <DIR>          ..\n",
      "19/01/2024  04:23 PM    <DIR>          .ipynb_checkpoints\n",
      "19/01/2024  05:13 PM             5,257 using_jupyter_(good).ipynb\n",
      "19/01/2024  05:07 PM            25,336 using_jupyter_(need).ipynb\n",
      "               2 File(s)         30,593 bytes\n",
      "               3 Dir(s)  384,590,385,152 bytes free\n"
     ]
    }
   ],
   "source": [
    "#This will show you a list of all the files in your folder. \n",
    "!dir "
   ]
  },
  {
   "attachments": {},
   "cell_type": "markdown",
   "id": "40a49007",
   "metadata": {},
   "source": [
    "# 2 Jupyter Extensions"
   ]
  },
  {
   "attachments": {},
   "cell_type": "markdown",
   "id": "5ccc931e",
   "metadata": {},
   "source": [
    "## 2.1 Installing the extensions"
   ]
  },
  {
   "cell_type": "markdown",
   "id": "b699f539-6203-4b44-a16c-fdd77ff7af2a",
   "metadata": {},
   "source": [
    "You can add several useful features (e.g., code formatting, TOC, equation numbers) to your Jupyter notebooks by installing jupyter_contrib_nbextensions (documentation).\r\n",
    "\r\n",
    "You can do this in the terminal by invoking the following."
   ]
  },
  {
   "cell_type": "code",
   "execution_count": null,
   "id": "b544081c-6b3b-40bb-81a5-96fabcdc7190",
   "metadata": {},
   "outputs": [],
   "source": [
    "!conda install -c conda-forge jupyter_contrib_nbextensions"
   ]
  },
  {
   "cell_type": "code",
   "execution_count": null,
   "id": "f32b2a70-5fd8-4364-92c1-0e3aeeca2cbb",
   "metadata": {},
   "outputs": [],
   "source": [
    "!jupyter contrib nbextension install --user"
   ]
  },
  {
   "attachments": {},
   "cell_type": "markdown",
   "id": "199bab02",
   "metadata": {},
   "source": [
    "## 2.2 Enabling the extensions"
   ]
  },
  {
   "attachments": {},
   "cell_type": "markdown",
   "id": "c187de72",
   "metadata": {},
   "source": [
    "# 3 Shell Magic"
   ]
  },
  {
   "attachments": {},
   "cell_type": "markdown",
   "id": "fe8cd6a5",
   "metadata": {},
   "source": [
    "# 4 The Kernel"
   ]
  },
  {
   "attachments": {},
   "cell_type": "markdown",
   "id": "92374b2d",
   "metadata": {},
   "source": [
    "# 5 EX"
   ]
  }
 ],
 "metadata": {
  "kernelspec": {
   "display_name": "Python 3 (ipykernel)",
   "language": "python",
   "name": "python3"
  },
  "language_info": {
   "codemirror_mode": {
    "name": "ipython",
    "version": 3
   },
   "file_extension": ".py",
   "mimetype": "text/x-python",
   "name": "python",
   "nbconvert_exporter": "python",
   "pygments_lexer": "ipython3",
   "version": "3.11.5"
  },
  "toc": {
   "base_numbering": 1,
   "nav_menu": {},
   "number_sections": true,
   "sideBar": true,
   "skip_h1_title": false,
   "title_cell": "Table of Contents",
   "title_sidebar": "Contents",
   "toc_cell": false,
   "toc_position": {},
   "toc_section_display": true,
   "toc_window_display": false
  },
  "vscode": {
   "interpreter": {
    "hash": "31f2aee4e71d21fbe5cf8b01ff0e069b9275f58929596ceb00d14d90e3e16cd6"
   }
  }
 },
 "nbformat": 4,
 "nbformat_minor": 5
}
