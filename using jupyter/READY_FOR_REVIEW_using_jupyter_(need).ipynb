{
 "cells": [
  {
   "cell_type": "markdown",
   "id": "123456",
   "metadata": {},
   "source": [
    "<div style=\"text-align:left;font-size:2em\"><span style=\"font-weight:bolder;font-size:1.25em\">SP2273 | Learning Portfolio</span><br><br><span style=\"font-weight:bold;color:darkred\">Using Jupyter (Need)</span></div>"
   ]
  },
  {
   "cell_type": "markdown",
   "id": "d3d02587",
   "metadata": {},
   "source": [
    "![](http://bollwyvl.github.io/jupyter.github.io/images/jupyter-sq-text.svg)"
   ]
  },
  {
   "cell_type": "markdown",
   "id": "5b430ac7",
   "metadata": {
    "jp-MarkdownHeadingCollapsed": true
   },
   "source": [
    "# 1 What to expect in this chapter"
   ]
  },
  {
   "cell_type": "markdown",
   "id": "b870eb8f",
   "metadata": {},
   "source": [
    "Jupyter is an interactive environment that allows you to have a (sort of) conversation with Python. I will show you how to get this to work. I will also show you features like Markdown, allowing you to ‘add value’ to your code.\n",
    "\n",
    "Incidentally, Jupyter works so that you can ask it to do something, and it immediately shows you the result. In fact, the older name for Jupyter Notebooks was ‘IPython notebooks’, meaning ‘**interactive** Python notebooks’."
   ]
  },
  {
   "cell_type": "markdown",
   "id": "d396edae",
   "metadata": {},
   "source": [
    "![](\"http://bollwyvl.github.io/jupyter.github.io/images/jupyter-sq-text.svg\")"
   ]
  },
  {
   "cell_type": "markdown",
   "id": "8d42b957",
   "metadata": {},
   "source": [
    "# 2 Getting ready"
   ]
  },
  {
   "cell_type": "markdown",
   "id": "db2d8b81",
   "metadata": {},
   "source": [
    "1. Use the terminal to navigate to the folder `Using Jupyter` in your Learning Portfolio.\n",
    "1. Start Jupyter notebooks through the terminal. Please refer to the previous chapter if you have forgotten how to do this.\n",
    "1. Use the button \"New\" to create a new `Python 3 (ipykernel)` notebook.\n",
    "1. Click the Untitled at the top (next to the Jupiter logo) and rename the file to `using-jupyter_need`.\n"
   ]
  },
  {
   "cell_type": "markdown",
   "id": "76e28854",
   "metadata": {},
   "source": [
    "# 3 Getting started with Jupyter"
   ]
  },
  {
   "cell_type": "markdown",
   "id": "19f8ede5",
   "metadata": {},
   "source": [
    "## 3.1 It is all about running cells"
   ]
  },
  {
   "cell_type": "markdown",
   "id": "084a7a5d",
   "metadata": {},
   "source": [
    "The basic unit of a Jupyter Notebook is a **cell**. A cell can either accept Python code or text in a format called Markdown."
   ]
  },
  {
   "cell_type": "markdown",
   "id": "d355a38f",
   "metadata": {},
   "source": [
    "A cell ready to accept Python is called a **code cell**, while one ready for Markdown is called a **Markdown cell**. To ‘get things done’, we **Run** a cell by using the Run button or the keyboard shortcut `CTRL + ENTER` (or `CMD + ENTER`)."
   ]
  },
  {
   "cell_type": "markdown",
   "id": "88a82580",
   "metadata": {},
   "source": [
    "![](https://problemsolvingwithpython.com/02-Jupyter-Notebooks/images/run_cell.png)\n",
    "\n",
    "#### How do I display images from my computer?"
   ]
  },
  {
   "cell_type": "markdown",
   "id": "c06cceaa",
   "metadata": {},
   "source": [
    "## 3.2 A traditional start"
   ]
  },
  {
   "cell_type": "markdown",
   "id": "67e31cf4",
   "metadata": {},
   "source": [
    "Let’s follow a programming tradition and use Jupyter to print `Hello World!`."
   ]
  },
  {
   "cell_type": "markdown",
   "id": "18f93a0e",
   "metadata": {},
   "source": [
    "1. Select a cell and convert it into a code cell. Actually, all new cells are, by default, code cells."
   ]
  },
  {
   "cell_type": "markdown",
   "id": "bb7f1ddc",
   "metadata": {},
   "source": [
    "![](https://problemsolvingwithpython.com/02-Jupyter-Notebooks/images/code_cell.png)"
   ]
  },
  {
   "cell_type": "markdown",
   "id": "a56be3ae",
   "metadata": {},
   "source": [
    "2. Then type the following and run the command (i.e., pass the instruction to Python) by pressing the run button or using the keyboard shortcut `CTRL + ENTER` (or `CMD + ENTER`)."
   ]
  },
  {
   "cell_type": "code",
   "execution_count": 3,
   "id": "4c31e465-fc6e-4e40-bb4d-cdfdbea3892d",
   "metadata": {},
   "outputs": [
    {
     "name": "stdout",
     "output_type": "stream",
     "text": [
      "Hello world!\n"
     ]
    }
   ],
   "source": [
    "print(\"Hello world!\")"
   ]
  },
  {
   "cell_type": "markdown",
   "id": "a75b0cb6",
   "metadata": {},
   "source": [
    "You will also see that the number before your code cell changes. This number is used to keep track of the history of the commands you have issued. It helps keep track of which input corresponds to which output."
   ]
  },
  {
   "cell_type": "markdown",
   "id": "89e87994",
   "metadata": {},
   "source": [
    "# 4 All about Markdown"
   ]
  },
  {
   "cell_type": "markdown",
   "id": "b4355c27-5164-4a19-accc-44758cad5727",
   "metadata": {},
   "source": [
    "Markdown is a minimalist ‘language’ that helps you to format your writing. Despite being lightweight, it is very powerful and gives fantastic results. Because it is simple and distraction-free, I often prefer to use Markdown when I write, as it helps me focus on the content.\n",
    "\n",
    "Let me now quickly take you through some basic Markdown, which will suffice for 73."
   ]
  },
  {
   "cell_type": "markdown",
   "id": "43733c7f",
   "metadata": {},
   "source": [
    "## 4.1 Rendering Markdown cells"
   ]
  },
  {
   "cell_type": "markdown",
   "id": "c029fb6a-9012-4106-898f-a4b5ba883200",
   "metadata": {},
   "source": [
    "The ships hung in the sky in much the same way that bricks don’t.\n"
   ]
  },
  {
   "cell_type": "markdown",
   "id": "70a118e0",
   "metadata": {},
   "source": [
    "## 4.2 Some basic syntax"
   ]
  },
  {
   "cell_type": "markdown",
   "id": "eba77152",
   "metadata": {},
   "source": [
    "| Style   |  Syntax   | \n",
    "| :--- | :--: | \n",
    "| **Bold**   | `** **` or `__ __`|   \n",
    "| *Italic*   |`* *` or `_ _`   |\n",
    "| ***All bold and italic*** | `*** ***` |\n",
    "| <sub>Subscript</sub>   |  `<sub>` `</sub>`  |\n",
    "| <sup>Superscript</sup> | `<sup>` `</sup>`|"
   ]
  },
  {
   "cell_type": "markdown",
   "id": "845ff027-a5a5-44fd-8911-42c0d51f03c6",
   "metadata": {},
   "source": [
    "The ships *hung in the sky* in much the same way that **bricks don't.**<sup>1</sup><sub>QUOTE</sub>\n"
   ]
  },
  {
   "cell_type": "markdown",
   "id": "8646a7a5",
   "metadata": {},
   "source": [
    "## 4.3 Headings"
   ]
  },
  {
   "cell_type": "markdown",
   "id": "4a4fad65-859e-4659-baa3-9e08a98d5131",
   "metadata": {},
   "source": [
    "Markdown uses `#` for headings as follows. The more the number of `#` preceding a statement, the smaller the heading (up to 4).\n",
    "\n",
    "# The largest heading \n",
    "## The second-largest heading \n",
    "### The third-largest heading \n",
    "#### The smallest heading \n",
    "normal text"
   ]
  },
  {
   "cell_type": "markdown",
   "id": "eef2e34d-681e-4305-a4d4-d5c10d596405",
   "metadata": {},
   "source": [
    "The following line is code `print('hello world!')` and the following is a variable `a=5`\n"
   ]
  },
  {
   "cell_type": "markdown",
   "id": "f658a81f",
   "metadata": {},
   "source": [
    "## 4.4 Displaying Code"
   ]
  },
  {
   "cell_type": "markdown",
   "id": "3a5f2f57",
   "metadata": {},
   "source": [
    "If you want to mention code inline, you can enclose it between two backticks (\\`), like ``print('Hello World')``. This will be rendered as `print('Hello World!')`."
   ]
  },
  {
   "cell_type": "markdown",
   "id": "1929b248",
   "metadata": {},
   "source": [
    "You can also have a block of code by using the following syntax.\n",
    "\n",
    "\\`\\`\\`python\\\n",
    "print('Hello World!')\\\n",
    "\\`\\`\\`\n",
    "\n",
    "This will be rendered as:\n",
    "\n",
    "```python\n",
    "print('Hello World!')\n",
    "```"
   ]
  },
  {
   "cell_type": "markdown",
   "id": "6932ae09",
   "metadata": {},
   "source": [
    "## 4.5 Links"
   ]
  },
  {
   "cell_type": "markdown",
   "id": "9027920c",
   "metadata": {},
   "source": [
    "Creating links with Markdown is trivial. You just enclose the display text in `[ ]` followed by the link-address in `( )` like:"
   ]
  },
  {
   "cell_type": "markdown",
   "id": "dbfd4cfe",
   "metadata": {},
   "source": [
    "[SPS video](https://www.youtube.com/watch?v=dQw4w9WgXcQ)"
   ]
  },
  {
   "cell_type": "markdown",
   "id": "fe68fa3f",
   "metadata": {},
   "source": [
    "## 4.6 Images"
   ]
  },
  {
   "cell_type": "markdown",
   "id": "2578fbd0",
   "metadata": {},
   "source": [
    "Syntax is similar to links, except there is a `!` in front.\n",
    "\n",
    "Syntax for image below is:\n",
    "\n",
    "`![](link)`"
   ]
  },
  {
   "cell_type": "markdown",
   "id": "b4ef52f9-a4eb-426d-ab95-df84337d5d85",
   "metadata": {},
   "source": [
    "![](data:image/jpeg;base64,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)"
   ]
  },
  {
   "cell_type": "markdown",
   "id": "1677eff7",
   "metadata": {},
   "source": [
    "You can also similarly include images on your computer. Just put the filename instead of the address. Again, you need to give enough information (full or relative path, see chapter os) for Jupyter to be able to find the file.\n",
    "\n",
    "**For some reason, I've trouble doing so.**"
   ]
  },
  {
   "cell_type": "markdown",
   "id": "ba1a5473",
   "metadata": {},
   "source": [
    "## 4.7 Tables"
   ]
  },
  {
   "cell_type": "markdown",
   "id": "9c3a35aa-f5dd-460a-88f4-fca6f7ce2dfc",
   "metadata": {},
   "source": [
    "Markdown following syntax to create tables:\n",
    "\n",
    "```\n",
    "| A    |  B   |    C |\n",
    "| :--- | :--: | ---: |\n",
    "| a1   |  b1  |   c1 |\n",
    "| a2   |  b2  |   c2 |\n",
    "| a3   |  b3  |   c3 |\n",
    "```"
   ]
  },
  {
   "cell_type": "markdown",
   "id": "a66d7acf-762e-4f13-b6e8-9497e5b633de",
   "metadata": {},
   "source": [
    "Which will be rendered as:\n",
    "\n",
    "| A    |  B   |    C |\n",
    "| :--- | :--: | ---: |\n",
    "| a1   |  b1  |   c1 |\n",
    "| a2   |  b2  |   c2 |\n",
    "| a3   |  b3  |   c3 |"
   ]
  },
  {
   "cell_type": "markdown",
   "id": "7852de4b-5051-4cc2-a9aa-46f70553d1ad",
   "metadata": {},
   "source": [
    "In my experience, tables are the most annoying things to create and format in a document. So I find it easier to organise the information in Excel or Sheets and then use a web tool like Table Generator to create the tables."
   ]
  },
  {
   "cell_type": "markdown",
   "id": "50f885fb",
   "metadata": {},
   "source": [
    "## 4.8 Lists"
   ]
  },
  {
   "cell_type": "markdown",
   "id": "323f2792-7b56-40f6-9533-f28d0bdc903d",
   "metadata": {},
   "source": [
    "Numbered lists:\n",
    "1) Master Yoda\n",
    "1) Luke Skywalker\n",
    "1) Anakin Skywalker  "
   ]
  },
  {
   "cell_type": "markdown",
   "id": "bd335f67-a23c-4122-ad91-2699d1776018",
   "metadata": {},
   "source": [
    "Unnumbered list:\n",
    "- Hi\n",
    "- I'm\n",
    "- Woh Jon"
   ]
  },
  {
   "cell_type": "markdown",
   "id": "863aa0e1-b821-481f-a9fc-e2adde9cd8d0",
   "metadata": {},
   "source": [
    "Numbered-numbered:\n",
    "1. Hello\n",
    "    1. abcd\n",
    "    1. efg\n",
    "    1. h\n",
    "1. irefie\n",
    "    1. knvfk\n",
    "    1. nskf"
   ]
  },
  {
   "cell_type": "markdown",
   "id": "ff75acba",
   "metadata": {},
   "source": [
    "## 4.9 Equations"
   ]
  },
  {
   "cell_type": "markdown",
   "id": "8b69f003-cbd9-49ee-8d24-b87098f3ded3",
   "metadata": {},
   "source": [
    "Markdown can produce phenomenal math equations\n",
    "\n",
    "- If you want to have inline math use two \\$ signs like `$\\sqrt{b^2-4ac}$`, which will be rendered as $\\sqrt{b^2-4ac}$\n",
    "- If you want a math block, you can use the following\n",
    "\n",
    "`$$\n",
    "x = \\dfrac{-b \\pm \\sqrt{b^2-4ac}}{2a}\n",
    "$$`\n",
    "\n",
    "Which will be rendered as:\n",
    "$$\n",
    "x = \\dfrac{-b \\pm \\sqrt{b^2-4ac}}{2a}\n",
    "$$\n",
    "\n",
    "Here are some helpful math commands that you can use. For more details, refer to the [mathematical documentation at Overleaf](https://www.overleaf.com/learn/latex/Mathematical_expressions)."
   ]
  },
  {
   "cell_type": "markdown",
   "id": "d026488c",
   "metadata": {},
   "source": [
    "|     |  Input   |    Output |\n",
    "| :--- | :--: | ---: |\n",
    "| Fraction   |  `$\\dfrac{y}{x}$`  |  $\\dfrac{y}{x}$ |\n",
    "| Subscript   |  `$x_{a}$`  |   $x_{a}$ |\n",
    "| Power   |  `$x^{(y+z)}$`  |   $x^{(y+z)}$ |\n",
    "| Squareroot    |  `$\\sqrt{a+b+c}$`   |   $\\sqrt{a+b+c}$ |\n",
    "| Sum\t |`$\\sum_{n=1}^{n=\\infty} x_n$`| $\\sum_{n=1}^{n=\\infty} x_n$ |\n",
    "| Integral   |  `$\\int_{x=1}^{x=\\infty} f(x)dx$`  |   $\\int_{x=1}^{x=\\infty} f(x)dx$|\n",
    "| Not equal\t   |  `$a \\ne b$`  |   $a \\ne b$ |\n",
    "| Less than\t   |  `$a \\lt b$`  |   $a \\lt b$ |\n",
    "| Less than or equal to\t    |  `$a \\leq b$`   |   $a \\leq b$ |\n",
    "| Greater than\t | `$a \\gt b$` | $a \\gt b$ |\n",
    "| Greater than or equal to\t   |  `$a \\geq b$`  |   $a \\geq b$ |\n",
    "| Greek letters\t   |  \t`$\\alpha, \\beta, \\gamma, \\pi, \\lambda$`  |  \t$\\alpha, \\beta, \\gamma, \\pi, \\lambda$ |\n"
   ]
  },
  {
   "cell_type": "markdown",
   "id": "785e9c15",
   "metadata": {},
   "source": [
    "## Footnotes"
   ]
  }
 ],
 "metadata": {
  "kernelspec": {
   "display_name": "Python 3 (ipykernel)",
   "language": "python",
   "name": "python3"
  },
  "language_info": {
   "codemirror_mode": {
    "name": "ipython",
    "version": 3
   },
   "file_extension": ".py",
   "mimetype": "text/x-python",
   "name": "python",
   "nbconvert_exporter": "python",
   "pygments_lexer": "ipython3",
   "version": "3.11.5"
  },
  "toc": {
   "base_numbering": 1,
   "nav_menu": {},
   "number_sections": true,
   "sideBar": true,
   "skip_h1_title": false,
   "title_cell": "Table of Contents",
   "title_sidebar": "Contents",
   "toc_cell": false,
   "toc_position": {},
   "toc_section_display": true,
   "toc_window_display": false
  },
  "vscode": {
   "interpreter": {
    "hash": "31f2aee4e71d21fbe5cf8b01ff0e069b9275f58929596ceb00d14d90e3e16cd6"
   }
  }
 },
 "nbformat": 4,
 "nbformat_minor": 5
}
