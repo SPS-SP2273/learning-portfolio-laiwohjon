{
 "cells": [
  {
   "cell_type": "markdown",
   "id": "123456",
   "metadata": {},
   "source": [
    "<div style=\"text-align:left;font-size:2em\"><span style=\"font-weight:bolder;font-size:1.25em\">SP2273 | Learning Portfolio</span><br><br><span style=\"font-weight:bold;color:darkred\">Storing Data (Good)</span></div>"
   ]
  },
  {
   "cell_type": "markdown",
   "id": "c2801b3f",
   "metadata": {},
   "source": [
    "# What to expect in this chapter"
   ]
  },
  {
   "cell_type": "markdown",
   "id": "61d56005",
   "metadata": {},
   "source": [
    "# 1 Subsetting: Indexing and Slicing"
   ]
  },
  {
   "cell_type": "markdown",
   "id": "96ddd8f7",
   "metadata": {},
   "source": [
    "You will often need to select a subset (subsetting) of the data in a list (or array). One form of this is picking a single element called indexing (You already know how to do this from the previous chapter). Another option is to select a range of elements. This is called slicing.\n",
    "\n",
    "Subsetting: Selecting \n",
    "\n",
    "Indexing: Selecting one element \n",
    "\n",
    "Slicing: selecting a range of elements"
   ]
  },
  {
   "cell_type": "markdown",
   "id": "27c9316d",
   "metadata": {},
   "source": [
    "## 1.1 Lists & Arrays in 1D | Subsetting & Indexing"
   ]
  },
  {
   "cell_type": "code",
   "execution_count": 2,
   "id": "1220e886",
   "metadata": {},
   "outputs": [],
   "source": [
    "import numpy as np\n",
    "py_list=[\"a1\", \"b2\", \"c3\", \"d4\", \"e5\",\n",
    "         \"f6\", \"g7\", \"h8\", \"i9\", \"j10\"]\n",
    "\n",
    "x = py_list \n",
    "\n",
    "np_array=np.array(py_list) #If I want to convert to array\n"
   ]
  },
  {
   "cell_type": "code",
   "execution_count": 3,
   "id": "cfc8c932",
   "metadata": {},
   "outputs": [
    {
     "data": {
      "text/plain": [
       "'a1'"
      ]
     },
     "execution_count": 3,
     "metadata": {},
     "output_type": "execute_result"
    }
   ],
   "source": [
    "x[0] #first element "
   ]
  },
  {
   "cell_type": "code",
   "execution_count": 4,
   "id": "39d50452",
   "metadata": {},
   "outputs": [
    {
     "data": {
      "text/plain": [
       "'j10'"
      ]
     },
     "execution_count": 4,
     "metadata": {},
     "output_type": "execute_result"
    }
   ],
   "source": [
    "x[-1] #last element "
   ]
  },
  {
   "cell_type": "code",
   "execution_count": 5,
   "id": "6e0b446d",
   "metadata": {},
   "outputs": [
    {
     "data": {
      "text/plain": [
       "['a1', 'b2', 'c3']"
      ]
     },
     "execution_count": 5,
     "metadata": {},
     "output_type": "execute_result"
    }
   ],
   "source": [
    "x[0:3] #Select from 0th element to 2nd element \n",
    "#2nd number is not inclusive "
   ]
  },
  {
   "cell_type": "code",
   "execution_count": 7,
   "id": "82095591",
   "metadata": {},
   "outputs": [
    {
     "data": {
      "text/plain": [
       "['b2', 'd4', 'f6']"
      ]
     },
     "execution_count": 7,
     "metadata": {},
     "output_type": "execute_result"
    }
   ],
   "source": [
    "x[1:6:2] #last position represent step\n",
    "# In this case, for any given ith element,\n",
    "#the next element we select is (i+step)th element"
   ]
  },
  {
   "cell_type": "code",
   "execution_count": 9,
   "id": "49ec2b5c",
   "metadata": {},
   "outputs": [
    {
     "data": {
      "text/plain": [
       "['a1', 'b2', 'c3', 'd4', 'e5', 'f6']"
      ]
     },
     "execution_count": 9,
     "metadata": {},
     "output_type": "execute_result"
    }
   ],
   "source": [
    "x[:6] #Is theres no first position, assumption\n",
    "#is that it is 0."
   ]
  },
  {
   "cell_type": "code",
   "execution_count": 10,
   "id": "f7888ffa",
   "metadata": {},
   "outputs": [
    {
     "data": {
      "text/plain": [
       "['f6', 'e5', 'd4']"
      ]
     },
     "execution_count": 10,
     "metadata": {},
     "output_type": "execute_result"
    }
   ],
   "source": [
    "x[5:2:-1] #Go backwards from 5th to 3rd. "
   ]
  },
  {
   "cell_type": "markdown",
   "id": "5809a7cb",
   "metadata": {},
   "source": [
    "In general , [i:j] gives you j-i elements. "
   ]
  },
  {
   "cell_type": "markdown",
   "id": "cb4dda39",
   "metadata": {},
   "source": [
    "## 1.2 Arrays only | Subsetting by masking"
   ]
  },
  {
   "cell_type": "markdown",
   "id": "5a17ac79",
   "metadata": {},
   "source": [
    "Only works for NumPy arrays. "
   ]
  },
  {
   "cell_type": "code",
   "execution_count": 12,
   "id": "99fda3d2",
   "metadata": {},
   "outputs": [
    {
     "data": {
      "text/plain": [
       "array([False, False, False,  True,  True,  True,  True,  True,  True,\n",
       "        True])"
      ]
     },
     "execution_count": 12,
     "metadata": {},
     "output_type": "execute_result"
    }
   ],
   "source": [
    "np_array = np.array([1, 2, 3, 4, 5, 6, 7, 8, 9, 10])\n",
    "my_mask = np_array > 3 \n",
    "my_mask #Assesses whether certain condition is met\n",
    "#and outputs a boolean."
   ]
  },
  {
   "cell_type": "code",
   "execution_count": 13,
   "id": "f8dc9f6e",
   "metadata": {},
   "outputs": [
    {
     "data": {
      "text/plain": [
       "array([ 4,  5,  6,  7,  8,  9, 10])"
      ]
     },
     "execution_count": 13,
     "metadata": {},
     "output_type": "execute_result"
    }
   ],
   "source": [
    "np_array[my_mask]\n",
    "\n",
    "#Shows all the elements where a certain condition\n",
    "#is met. In this case element > 3\n",
    "#allows only the True subset to be seen"
   ]
  },
  {
   "cell_type": "code",
   "execution_count": 15,
   "id": "21ae8be3",
   "metadata": {},
   "outputs": [
    {
     "data": {
      "text/plain": [
       "array([ 4,  5,  6,  7,  8,  9, 10])"
      ]
     },
     "execution_count": 15,
     "metadata": {},
     "output_type": "execute_result"
    }
   ],
   "source": [
    "np_array[np_array > 3]\n",
    "#More succint way of creating a mask"
   ]
  },
  {
   "cell_type": "markdown",
   "id": "20c9aca6",
   "metadata": {},
   "source": [
    "We can also apply logic statements such as NOT, AND, OR in our mask as well.  "
   ]
  },
  {
   "cell_type": "code",
   "execution_count": 17,
   "id": "72a2a8f3",
   "metadata": {},
   "outputs": [
    {
     "data": {
      "text/plain": [
       "array([1, 2, 3])"
      ]
     },
     "execution_count": 17,
     "metadata": {},
     "output_type": "execute_result"
    }
   ],
   "source": [
    "np_array[~(np_array > 3)]      # '~' means 'NOT'\n",
    "# Output those that do not meet (np_array > 3) condition\n",
    "# ~ is called the Bitwise Not operator. "
   ]
  },
  {
   "cell_type": "code",
   "execution_count": 18,
   "id": "7f760849",
   "metadata": {},
   "outputs": [
    {
     "data": {
      "text/plain": [
       "array([4, 5, 6, 7])"
      ]
     },
     "execution_count": 18,
     "metadata": {},
     "output_type": "execute_result"
    }
   ],
   "source": [
    "np_array[(np_array > 3) & (np_array < 8)] \n",
    "# '&' means 'AND'"
   ]
  },
  {
   "cell_type": "code",
   "execution_count": null,
   "id": "9d1f3ae8",
   "metadata": {},
   "outputs": [],
   "source": [
    "np_array[(np_array < 3) | (np_array > 8)] \n",
    "# '|' means 'OR'"
   ]
  },
  {
   "cell_type": "markdown",
   "id": "ee18d783",
   "metadata": {},
   "source": []
  },
  {
   "cell_type": "markdown",
   "id": "e1fc14d2",
   "metadata": {},
   "source": [
    "## 1.3 Lists & Arrays in 2D | Indexing & Slicing"
   ]
  },
  {
   "cell_type": "code",
   "execution_count": null,
   "id": "40e9e5ff",
   "metadata": {},
   "outputs": [],
   "source": [
    "py_superhero_info = [\n",
    "    [\"Natasha\", \"Black Widow\"], #0\n",
    "    [\"Tony\", \"Iron Man\"], #1\n",
    "    [\"Stephen Strange\", \"Doctor Strange\"] #2\n",
    "]"
   ]
  },
  {
   "cell_type": "code",
   "execution_count": 20,
   "id": "fe66acc1",
   "metadata": {},
   "outputs": [
    {
     "data": {
      "text/plain": [
       "'Tony'"
      ]
     },
     "execution_count": 20,
     "metadata": {},
     "output_type": "execute_result"
    }
   ],
   "source": [
    "py_superhero_info[1][0]\n",
    "#Select 1st element in outer list, which gives another list.\n",
    "#In the inner list, select the 0th element. "
   ]
  },
  {
   "cell_type": "code",
   "execution_count": 22,
   "id": "ef3fec7c",
   "metadata": {},
   "outputs": [],
   "source": [
    "import numpy as np\n",
    "py_list_2d = [[1, \"A\"], [2, \"B\"], [3, \"C\"], [4, \"D\"],\n",
    "              [5, \"E\"], [6, \"F\"], [7, \"G\"], [8, \"H\"],\n",
    "              [9, \"I\"], [10, \"J\"]]\n",
    "\n",
    "np_array_2d = np.array(py_list_2d)"
   ]
  },
  {
   "cell_type": "code",
   "execution_count": 26,
   "id": "6e509d1e",
   "metadata": {},
   "outputs": [
    {
     "data": {
      "text/plain": [
       "[[1, 'A'],\n",
       " [2, 'B'],\n",
       " [3, 'C'],\n",
       " [4, 'D'],\n",
       " [5, 'E'],\n",
       " [6, 'F'],\n",
       " [7, 'G'],\n",
       " [8, 'H'],\n",
       " [9, 'I'],\n",
       " [10, 'J']]"
      ]
     },
     "execution_count": 26,
     "metadata": {},
     "output_type": "execute_result"
    }
   ],
   "source": [
    "py_list_2d "
   ]
  },
  {
   "cell_type": "markdown",
   "id": "47acc644",
   "metadata": {},
   "source": [
    "There are differences between doing indexing and slicing for lists and arrays. Recall that data type for array must be the same"
   ]
  },
  {
   "cell_type": "code",
   "execution_count": 24,
   "id": "96a41f49",
   "metadata": {},
   "outputs": [
    {
     "data": {
      "text/plain": [
       "[4, 'D']"
      ]
     },
     "execution_count": 24,
     "metadata": {},
     "output_type": "execute_result"
    }
   ],
   "source": [
    "py_list_2d[3]"
   ]
  },
  {
   "cell_type": "code",
   "execution_count": 25,
   "id": "4ee4d4d3",
   "metadata": {},
   "outputs": [
    {
     "data": {
      "text/plain": [
       "array(['4', 'D'], dtype='<U11')"
      ]
     },
     "execution_count": 25,
     "metadata": {},
     "output_type": "execute_result"
    }
   ],
   "source": [
    "np_array_2d[3]"
   ]
  },
  {
   "cell_type": "markdown",
   "id": "9f2208ac",
   "metadata": {},
   "source": [
    "Arrays uses just a single pair of square brackets separated by commas but lists need multiple square brackets. "
   ]
  },
  {
   "cell_type": "code",
   "execution_count": 27,
   "id": "eed5496c",
   "metadata": {},
   "outputs": [
    {
     "data": {
      "text/plain": [
       "4"
      ]
     },
     "execution_count": 27,
     "metadata": {},
     "output_type": "execute_result"
    }
   ],
   "source": [
    "py_list_2d[3][0]"
   ]
  },
  {
   "cell_type": "code",
   "execution_count": 28,
   "id": "be559bf5",
   "metadata": {},
   "outputs": [
    {
     "data": {
      "text/plain": [
       "'4'"
      ]
     },
     "execution_count": 28,
     "metadata": {},
     "output_type": "execute_result"
    }
   ],
   "source": [
    "np_array_2d[3, 0]"
   ]
  },
  {
   "cell_type": "markdown",
   "id": "a844ed6a",
   "metadata": {},
   "source": [
    "Both works similarly when it comes to indexing in the following case. "
   ]
  },
  {
   "cell_type": "code",
   "execution_count": 29,
   "id": "f5fe0ced",
   "metadata": {},
   "outputs": [
    {
     "data": {
      "text/plain": [
       "[[1, 'A'], [2, 'B'], [3, 'C']]"
      ]
     },
     "execution_count": 29,
     "metadata": {},
     "output_type": "execute_result"
    }
   ],
   "source": [
    "py_list_2d[:3]"
   ]
  },
  {
   "cell_type": "code",
   "execution_count": 30,
   "id": "46fa2e8c",
   "metadata": {},
   "outputs": [
    {
     "data": {
      "text/plain": [
       "array([['1', 'A'],\n",
       "       ['2', 'B'],\n",
       "       ['3', 'C']], dtype='<U11')"
      ]
     },
     "execution_count": 30,
     "metadata": {},
     "output_type": "execute_result"
    }
   ],
   "source": [
    "np_array_2d[:3]"
   ]
  },
  {
   "cell_type": "markdown",
   "id": "67b1e6f6",
   "metadata": {},
   "source": [
    "But if we do this:"
   ]
  },
  {
   "cell_type": "code",
   "execution_count": 31,
   "id": "d13f3f87",
   "metadata": {},
   "outputs": [
    {
     "data": {
      "text/plain": [
       "[1, 'A']"
      ]
     },
     "execution_count": 31,
     "metadata": {},
     "output_type": "execute_result"
    }
   ],
   "source": [
    "py_list_2d[:3][0]"
   ]
  },
  {
   "cell_type": "markdown",
   "id": "47d1494c",
   "metadata": {},
   "source": [
    "You might think that this will yield the first elements (i.e., [1, 2, 3]) of all the sub-lists up to index 2.\n",
    "\n",
    "But instead it gives you the first of the list you get from py_list_2d[:3]. Just to illustrate with another example:"
   ]
  },
  {
   "cell_type": "code",
   "execution_count": 35,
   "id": "fad5766d",
   "metadata": {},
   "outputs": [
    {
     "data": {
      "text/plain": [
       "[2, 'B']"
      ]
     },
     "execution_count": 35,
     "metadata": {},
     "output_type": "execute_result"
    }
   ],
   "source": [
    "py_list_2d[1:3][0]\n",
    "#It is like taking the 0th element of the new list\n",
    "#the new list being the original list with the 0th element\n",
    "#removed. "
   ]
  },
  {
   "cell_type": "markdown",
   "id": "68654bd9",
   "metadata": {},
   "source": [
    "Notice what happens when we do the same thing with arrays. This will yield the first elements (i.e., [1, 2, 3]) of all the sub-lists up to index 2."
   ]
  },
  {
   "cell_type": "code",
   "execution_count": 32,
   "id": "81399805",
   "metadata": {},
   "outputs": [
    {
     "data": {
      "text/plain": [
       "array(['1', '2', '3'], dtype='<U11')"
      ]
     },
     "execution_count": 32,
     "metadata": {},
     "output_type": "execute_result"
    }
   ],
   "source": [
    "np_array_2d[:3, 0]"
   ]
  },
  {
   "cell_type": "markdown",
   "id": "13c4bca2",
   "metadata": {},
   "source": [
    "Here are some more examples:"
   ]
  },
  {
   "cell_type": "code",
   "execution_count": 37,
   "id": "47a10186",
   "metadata": {},
   "outputs": [
    {
     "data": {
      "text/plain": [
       "array(['4', '5', '6'], dtype='<U11')"
      ]
     },
     "execution_count": 37,
     "metadata": {},
     "output_type": "execute_result"
    }
   ],
   "source": [
    "np_array_2d[3:6, 0]"
   ]
  },
  {
   "cell_type": "code",
   "execution_count": 38,
   "id": "ad94e44d",
   "metadata": {},
   "outputs": [
    {
     "data": {
      "text/plain": [
       "array(['D', 'E', 'F'], dtype='<U11')"
      ]
     },
     "execution_count": 38,
     "metadata": {},
     "output_type": "execute_result"
    }
   ],
   "source": [
    "np_array_2d[3:6, 1]"
   ]
  },
  {
   "cell_type": "code",
   "execution_count": 39,
   "id": "b66862fb",
   "metadata": {},
   "outputs": [
    {
     "data": {
      "text/plain": [
       "array(['1', '2', '3', '4', '5', '6', '7', '8', '9', '10'], dtype='<U11')"
      ]
     },
     "execution_count": 39,
     "metadata": {},
     "output_type": "execute_result"
    }
   ],
   "source": [
    "np_array_2d[:, 0] \n",
    "#If you want the starting element of every nested array"
   ]
  },
  {
   "cell_type": "markdown",
   "id": "bc1ac63a",
   "metadata": {},
   "source": [
    "## 1.4 Growing lists"
   ]
  },
  {
   "cell_type": "markdown",
   "id": "695693d8",
   "metadata": {},
   "source": [
    "Why do we even bother with lists if the slicing syntax for NumPy arrays are more intuitive than lists? \n",
    "\n",
    "One advantage of lists is their ease and efficiency in growing. NumPy arrays are fantastic for fast math operations, provided you do not change their size.\n",
    "\n",
    "Lets learn how to grow a list. Useful for solving differential equations numerically."
   ]
  },
  {
   "cell_type": "code",
   "execution_count": 41,
   "id": "0dd7efc8",
   "metadata": {},
   "outputs": [
    {
     "data": {
      "text/plain": [
       "[1, 2, 1, 2, 1, 2, 1, 2, 1, 2]"
      ]
     },
     "execution_count": 41,
     "metadata": {},
     "output_type": "execute_result"
    }
   ],
   "source": [
    "x=[1, 2]*5\n",
    "x\n",
    "\n",
    "#Recall that mutiplication don't work element-wise"
   ]
  },
  {
   "cell_type": "markdown",
   "id": "914baa08",
   "metadata": {},
   "source": [
    "What are the 3 ways to frow a list by appending one element at a time?"
   ]
  },
  {
   "cell_type": "code",
   "execution_count": 42,
   "id": "2bd25f43",
   "metadata": {},
   "outputs": [
    {
     "data": {
      "text/plain": [
       "[1, 2, 3, 4]"
      ]
     },
     "execution_count": 42,
     "metadata": {},
     "output_type": "execute_result"
    }
   ],
   "source": [
    "#method 1\n",
    "x=[1]\n",
    "x= x + [2]\n",
    "x= x + [3]\n",
    "x= x + [4]\n",
    "x"
   ]
  },
  {
   "cell_type": "code",
   "execution_count": 43,
   "id": "ab6e0506",
   "metadata": {},
   "outputs": [
    {
     "data": {
      "text/plain": [
       "[1, 2, 3, 4]"
      ]
     },
     "execution_count": 43,
     "metadata": {},
     "output_type": "execute_result"
    }
   ],
   "source": [
    "#Method 2\n",
    "x=[1]\n",
    "x+= [2]\n",
    "x+= [3]\n",
    "x+= [4]\n",
    "x"
   ]
  },
  {
   "cell_type": "code",
   "execution_count": 44,
   "id": "09c885bc",
   "metadata": {},
   "outputs": [
    {
     "data": {
      "text/plain": [
       "[1, 2, 3, 4]"
      ]
     },
     "execution_count": 44,
     "metadata": {},
     "output_type": "execute_result"
    }
   ],
   "source": [
    "#Method 3\n",
    "x=[1]\n",
    "x.append(2)\n",
    "x.append(3)\n",
    "x.append(4)\n",
    "x"
   ]
  },
  {
   "cell_type": "markdown",
   "id": "44d1d5b6",
   "metadata": {},
   "source": [
    "**Whats the difference between these 3 versions?**\n",
    "\n",
    "They differ in execution speed. The version with append() runs about 1.5 times faster than the rest!"
   ]
  },
  {
   "cell_type": "markdown",
   "id": "093dc740",
   "metadata": {},
   "source": [
    "**What are the 3 ways of incorporating multiple elements?**"
   ]
  },
  {
   "cell_type": "code",
   "execution_count": 45,
   "id": "61488d5a",
   "metadata": {},
   "outputs": [
    {
     "data": {
      "text/plain": [
       "[1, 2, 3, 4, 5, 6]"
      ]
     },
     "execution_count": 45,
     "metadata": {},
     "output_type": "execute_result"
    }
   ],
   "source": [
    "x = [1, 2, 3]\n",
    "x += [4, 5, 6]\n",
    "x"
   ]
  },
  {
   "cell_type": "code",
   "execution_count": 46,
   "id": "78cf2229",
   "metadata": {},
   "outputs": [
    {
     "data": {
      "text/plain": [
       "[1, 2, 3, 4, 5, 6]"
      ]
     },
     "execution_count": 46,
     "metadata": {},
     "output_type": "execute_result"
    }
   ],
   "source": [
    "x=[1, 2, 3]\n",
    "x.extend([4, 5, 6])\n",
    "x"
   ]
  },
  {
   "cell_type": "code",
   "execution_count": 47,
   "id": "409bc544",
   "metadata": {},
   "outputs": [
    {
     "data": {
      "text/plain": [
       "[1, 2, 3, [4, 5, 6]]"
      ]
     },
     "execution_count": 47,
     "metadata": {},
     "output_type": "execute_result"
    }
   ],
   "source": [
    "x=[1, 2, 3]\n",
    "x.append([4, 5, 6])\n",
    "x"
   ]
  },
  {
   "cell_type": "markdown",
   "id": "41ee8391",
   "metadata": {},
   "source": [
    "Extend adds the element from the new list to x, creating a longer list with elements within the new list.\n",
    "\n",
    "Append adds the new list to x. In this case, the list itself is the new element appended to x. "
   ]
  },
  {
   "cell_type": "markdown",
   "id": "e203fa23",
   "metadata": {},
   "source": [
    "# Some loose ends"
   ]
  },
  {
   "cell_type": "markdown",
   "id": "9cbd314f",
   "metadata": {},
   "source": [
    "## 1.5 Tuples"
   ]
  },
  {
   "cell_type": "markdown",
   "id": "e45b0b17",
   "metadata": {},
   "source": [
    "Tuples are similar to lists, except they use ( ) and cannot be changed after creation (i.e., they are immutable)."
   ]
  },
  {
   "cell_type": "code",
   "execution_count": 48,
   "id": "0fee73b0",
   "metadata": {},
   "outputs": [],
   "source": [
    "a=(1, 2, 3)     # Define tuple"
   ]
  },
  {
   "cell_type": "markdown",
   "id": "c5742eaa",
   "metadata": {},
   "source": [
    "We can assess data using:"
   ]
  },
  {
   "cell_type": "code",
   "execution_count": 49,
   "id": "85e1f66a",
   "metadata": {},
   "outputs": [
    {
     "name": "stdout",
     "output_type": "stream",
     "text": [
      "1\n"
     ]
    }
   ],
   "source": [
    "print(a[0])    # Access data"
   ]
  },
  {
   "cell_type": "markdown",
   "id": "9c0427e2",
   "metadata": {},
   "source": [
    "But we cannot change data. So the following code will produce error:"
   ]
  },
  {
   "cell_type": "code",
   "execution_count": 50,
   "id": "0b0fd28a",
   "metadata": {},
   "outputs": [
    {
     "ename": "TypeError",
     "evalue": "'tuple' object does not support item assignment",
     "output_type": "error",
     "traceback": [
      "\u001b[1;31m---------------------------------------------------------------------------\u001b[0m",
      "\u001b[1;31mTypeError\u001b[0m                                 Traceback (most recent call last)",
      "Cell \u001b[1;32mIn[50], line 1\u001b[0m\n\u001b[1;32m----> 1\u001b[0m \u001b[43ma\u001b[49m\u001b[43m[\u001b[49m\u001b[38;5;241;43m0\u001b[39;49m\u001b[43m]\u001b[49m\u001b[38;5;241m=\u001b[39m\u001b[38;5;241m-\u001b[39m\u001b[38;5;241m1\u001b[39m\n",
      "\u001b[1;31mTypeError\u001b[0m: 'tuple' object does not support item assignment"
     ]
    }
   ],
   "source": [
    "a[0]=-1"
   ]
  },
  {
   "cell_type": "markdown",
   "id": "e0b9a307",
   "metadata": {},
   "source": [
    "## 1.6 Be VERY careful when copying"
   ]
  },
  {
   "cell_type": "markdown",
   "id": "a47b9ff3",
   "metadata": {},
   "source": [
    "For example, if you want to copy a list, you might be tempted to do the following; PLEASE DON’T!"
   ]
  },
  {
   "cell_type": "code",
   "execution_count": 51,
   "id": "f0b3360d",
   "metadata": {},
   "outputs": [],
   "source": [
    "x=[1, 2, 3]\n",
    "y=x           # DON'T do this!\n",
    "z=x           # DON'T do this!"
   ]
  },
  {
   "cell_type": "markdown",
   "id": "d23a4ec9",
   "metadata": {},
   "source": [
    "What happens if I modify x? As we can see, modifying one list affects others. "
   ]
  },
  {
   "cell_type": "code",
   "execution_count": 1,
   "id": "2887bd96",
   "metadata": {},
   "outputs": [
    {
     "name": "stdout",
     "output_type": "stream",
     "text": [
      "[99, 2, 3]\n",
      "[99, 2, 3]\n",
      "[99, 2, 3]\n"
     ]
    }
   ],
   "source": [
    "x = [1, 2, 3]\n",
    "y = x  \n",
    "z = x  \n",
    "\n",
    "y[0] = 99  \n",
    "\n",
    "print(x) \n",
    "print(y)  \n",
    "print(z)"
   ]
  },
  {
   "cell_type": "markdown",
   "id": "ee352cea",
   "metadata": {},
   "source": [
    "The correct way to do this is as follows:"
   ]
  },
  {
   "cell_type": "code",
   "execution_count": 52,
   "id": "0890c214",
   "metadata": {},
   "outputs": [],
   "source": [
    "x=[1, 2, 3]\n",
    "y=x.copy()\n",
    "z=x.copy()"
   ]
  },
  {
   "cell_type": "code",
   "execution_count": 2,
   "id": "8ca31d47",
   "metadata": {},
   "outputs": [
    {
     "name": "stdout",
     "output_type": "stream",
     "text": [
      "[1, 2, 3]\n",
      "[99, 2, 3]\n",
      "[1, 2, 3]\n"
     ]
    }
   ],
   "source": [
    "x = [1, 2, 3]\n",
    "y = x.copy()\n",
    "z = x.copy()\n",
    "\n",
    "y[0] = 99  \n",
    "\n",
    "print(x) \n",
    "print(y)  \n",
    "print(z)"
   ]
  },
  {
   "cell_type": "markdown",
   "id": "c0799cbe",
   "metadata": {},
   "source": [
    "According to ChatGPT: This is done to ensure that y and z are independent copies of the original list x, rather than references to the same list object. \n",
    "\n",
    "If you were to do y = x instead of y = x.copy(), both y and x would refer to the same list object. This means that if you modify the contents of the list through one variable, it will also affect the other. In contrast, using copy() creates a new list with the same elements as the original, but it is a separate object in memory."
   ]
  },
  {
   "cell_type": "markdown",
   "id": "57b2fd16",
   "metadata": {},
   "source": [
    "# Exercises & Self-Assessment"
   ]
  },
  {
   "cell_type": "code",
   "execution_count": null,
   "id": "ec0730d3",
   "metadata": {},
   "outputs": [],
   "source": [
    "\n",
    "\n",
    "\n",
    "# Your solution here\n",
    "\n",
    "\n"
   ]
  },
  {
   "cell_type": "markdown",
   "id": "f4b0048d",
   "metadata": {},
   "source": [
    "## Footnotes"
   ]
  }
 ],
 "metadata": {
  "kernelspec": {
   "display_name": "Python 3 (ipykernel)",
   "language": "python",
   "name": "python3"
  },
  "language_info": {
   "codemirror_mode": {
    "name": "ipython",
    "version": 3
   },
   "file_extension": ".py",
   "mimetype": "text/x-python",
   "name": "python",
   "nbconvert_exporter": "python",
   "pygments_lexer": "ipython3",
   "version": "3.11.5"
  },
  "toc": {
   "base_numbering": 1,
   "nav_menu": {},
   "number_sections": true,
   "sideBar": true,
   "skip_h1_title": false,
   "title_cell": "Table of Contents",
   "title_sidebar": "Contents",
   "toc_cell": false,
   "toc_position": {},
   "toc_section_display": true,
   "toc_window_display": false
  },
  "vscode": {
   "interpreter": {
    "hash": "31f2aee4e71d21fbe5cf8b01ff0e069b9275f58929596ceb00d14d90e3e16cd6"
   }
  }
 },
 "nbformat": 4,
 "nbformat_minor": 5
}
