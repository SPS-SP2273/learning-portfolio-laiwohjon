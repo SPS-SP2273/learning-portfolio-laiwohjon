{
 "cells": [
  {
   "cell_type": "markdown",
   "id": "123456",
   "metadata": {},
   "source": [
    "<div style=\"text-align:left;font-size:2em\"><span style=\"font-weight:bolder;font-size:1.25em\">SP2273 | Learning Portfolio</span><br><br><span style=\"font-weight:bold;color:darkred\">Functions (Need)</span></div>"
   ]
  },
  {
   "cell_type": "markdown",
   "id": "39171985",
   "metadata": {},
   "source": [
    "# What to expect in this chapter"
   ]
  },
  {
   "cell_type": "markdown",
   "id": "063c84d7",
   "metadata": {},
   "source": [
    "A function is just a chunk of code that does a specific conceptual task. There is also the advantage that you can treat a function as a black box and just use it without knowing exactly what is going on in it (functional abstraction). "
   ]
  },
  {
   "cell_type": "markdown",
   "id": "7c36e684",
   "metadata": {},
   "source": [
    "# 1 User-defined functions"
   ]
  },
  {
   "cell_type": "markdown",
   "id": "e1c7bad8",
   "metadata": {},
   "source": [
    "print() is an example of an internal function in Python. You can also create your own functions. There are two ways to do this: named and anonymous."
   ]
  },
  {
   "cell_type": "markdown",
   "id": "b3a2fe57",
   "metadata": {},
   "source": [
    "## 1.1 Named Functions"
   ]
  },
  {
   "cell_type": "markdown",
   "id": "ae60ca9a",
   "metadata": {},
   "source": [
    "As with all structures in Python, notice the keyword def, the colon (:) and the indentation that demarcates the function’s code block. Notice also that I have used the keyword return to get an output from the function. When Python sees a return keyword it jumps out of the function with the return value. You can pick up the returned value by assigning it to a variable or even use it directly."
   ]
  },
  {
   "cell_type": "code",
   "execution_count": 1,
   "id": "977a383b",
   "metadata": {},
   "outputs": [],
   "source": [
    "def greeting(name):\n",
    "    if name == 'Batman':\n",
    "        return 'Hello Batman! So, nice to meet you!'\n",
    "    else:\n",
    "        return f'Hello {name}!'"
   ]
  },
  {
   "cell_type": "markdown",
   "id": "535d2b99",
   "metadata": {},
   "source": [
    "### Named functions that return"
   ]
  },
  {
   "cell_type": "code",
   "execution_count": 2,
   "id": "3c5f4d99",
   "metadata": {},
   "outputs": [
    {
     "data": {
      "text/plain": [
       "'Hello jon!'"
      ]
     },
     "execution_count": 2,
     "metadata": {},
     "output_type": "execute_result"
    }
   ],
   "source": [
    "greeting(\"jon\")\n"
   ]
  },
  {
   "cell_type": "code",
   "execution_count": 4,
   "id": "5522c7ad",
   "metadata": {},
   "outputs": [
    {
     "data": {
      "text/plain": [
       "'Hello jon!'"
      ]
     },
     "execution_count": 4,
     "metadata": {},
     "output_type": "execute_result"
    }
   ],
   "source": [
    "greeting(name=\"jon\")"
   ]
  },
  {
   "cell_type": "markdown",
   "id": "568df3c9",
   "metadata": {},
   "source": [
    "How to use the returned value directly:"
   ]
  },
  {
   "cell_type": "code",
   "execution_count": 5,
   "id": "21d6f314",
   "metadata": {},
   "outputs": [
    {
     "name": "stdout",
     "output_type": "stream",
     "text": [
      "Hello Super Man!\n"
     ]
    }
   ],
   "source": [
    "greet = greeting(name='Super Man')\n",
    "print(greet)"
   ]
  },
  {
   "cell_type": "code",
   "execution_count": 6,
   "id": "7dee874c",
   "metadata": {},
   "outputs": [
    {
     "name": "stdout",
     "output_type": "stream",
     "text": [
      "Hello Super Man!\n"
     ]
    }
   ],
   "source": [
    "print(greeting(name='Super Man'))"
   ]
  },
  {
   "cell_type": "markdown",
   "id": "07fa6e2f",
   "metadata": {},
   "source": [
    "You can use return only within a function."
   ]
  },
  {
   "cell_type": "markdown",
   "id": "4a2357ab",
   "metadata": {},
   "source": [
    "I also like to point out that you can return almost anything! Here is an example of a function that accepts a list and returns the maximum, minimum and mean."
   ]
  },
  {
   "cell_type": "code",
   "execution_count": 8,
   "id": "3b4354a8",
   "metadata": {},
   "outputs": [],
   "source": [
    "def basic_stats(numbers):\n",
    "    np_numbers = np.array(numbers)\n",
    "    my_min = np_numbers.min()\n",
    "    my_max = np_numbers.max()\n",
    "    my_mean = np_numbers.mean()\n",
    "    return my_max, my_min, my_mean"
   ]
  },
  {
   "cell_type": "markdown",
   "id": "d4cd94da",
   "metadata": {},
   "source": [
    "### Named functions that don’t return"
   ]
  },
  {
   "cell_type": "markdown",
   "id": "ab7fef60",
   "metadata": {},
   "source": [
    "A function does not have to return anything. A good example is print(), which does something but does not return a value. You will often also need functions like these, for instance, to save data to a file. I will show you a few of such functions in later chapters."
   ]
  },
  {
   "cell_type": "markdown",
   "id": "aeb002ce",
   "metadata": {},
   "source": [
    "## 1.2 Anonymous functions"
   ]
  },
  {
   "cell_type": "markdown",
   "id": "71953632",
   "metadata": {},
   "source": [
    "Anonymous or lambda functions are suitable for short one-liners. "
   ]
  },
  {
   "cell_type": "code",
   "execution_count": 10,
   "id": "30779c55",
   "metadata": {},
   "outputs": [],
   "source": [
    "my_short_function = lambda name: f\"Hello {name}!\""
   ]
  },
  {
   "cell_type": "markdown",
   "id": "7dae07a6",
   "metadata": {},
   "source": [
    "The above function takes in name as input and return f-string \"Hello {name}\""
   ]
  },
  {
   "cell_type": "code",
   "execution_count": 11,
   "id": "928e5b11",
   "metadata": {},
   "outputs": [
    {
     "data": {
      "text/plain": [
       "'Hello Super Man!'"
      ]
     },
     "execution_count": 11,
     "metadata": {},
     "output_type": "execute_result"
    }
   ],
   "source": [
    "my_short_function(name=\"Super Man\")"
   ]
  },
  {
   "cell_type": "markdown",
   "id": "592eddb6",
   "metadata": {},
   "source": [
    "Let's say I want to sort the following 2D list. "
   ]
  },
  {
   "cell_type": "code",
   "execution_count": 12,
   "id": "d829dea9",
   "metadata": {},
   "outputs": [],
   "source": [
    "numbers=[[9, 0, -10],\n",
    "         [8, 1, -11],\n",
    "         [7, 2, -12],\n",
    "         [6, 3, -13],\n",
    "         [5, 4, -14],\n",
    "         [4, 5, -15],\n",
    "         [3, 6, -16],\n",
    "         [2, 7, -17],\n",
    "         [1, 8, -18],\n",
    "         [0, 9, -19]]"
   ]
  },
  {
   "cell_type": "markdown",
   "id": "a056980b",
   "metadata": {},
   "source": [
    "There are a few ways I can use a sorted() function to sort out the above 2D list. "
   ]
  },
  {
   "cell_type": "code",
   "execution_count": 13,
   "id": "699ca5f7",
   "metadata": {},
   "outputs": [
    {
     "data": {
      "text/plain": [
       "[[0, 9, -19],\n",
       " [1, 8, -18],\n",
       " [2, 7, -17],\n",
       " [3, 6, -16],\n",
       " [4, 5, -15],\n",
       " [5, 4, -14],\n",
       " [6, 3, -13],\n",
       " [7, 2, -12],\n",
       " [8, 1, -11],\n",
       " [9, 0, -10]]"
      ]
     },
     "execution_count": 13,
     "metadata": {},
     "output_type": "execute_result"
    }
   ],
   "source": [
    "# Sort by comparing the default key\n",
    "# (i.e., the 1st element)\n",
    "sorted(numbers)"
   ]
  },
  {
   "cell_type": "code",
   "execution_count": 17,
   "id": "0b0135e2",
   "metadata": {},
   "outputs": [
    {
     "data": {
      "text/plain": [
       "[[9, 0, -10],\n",
       " [8, 1, -11],\n",
       " [7, 2, -12],\n",
       " [6, 3, -13],\n",
       " [5, 4, -14],\n",
       " [4, 5, -15],\n",
       " [3, 6, -16],\n",
       " [2, 7, -17],\n",
       " [1, 8, -18],\n",
       " [0, 9, -19]]"
      ]
     },
     "execution_count": 17,
     "metadata": {},
     "output_type": "execute_result"
    }
   ],
   "source": [
    "# Sort by comparing a custom key\n",
    "# that uses the 2nd element (index=1)\n",
    "#Key is being ordered from smallest to largest\n",
    "sorted(numbers, key=lambda x: x[1])\n",
    "\n",
    "#Anonymous function will return x[1] given a list x."
   ]
  },
  {
   "cell_type": "code",
   "execution_count": 18,
   "id": "0622e5ac",
   "metadata": {},
   "outputs": [
    {
     "data": {
      "text/plain": [
       "[[0, 9, -19],\n",
       " [1, 8, -18],\n",
       " [2, 7, -17],\n",
       " [3, 6, -16],\n",
       " [4, 5, -15],\n",
       " [5, 4, -14],\n",
       " [6, 3, -13],\n",
       " [7, 2, -12],\n",
       " [8, 1, -11],\n",
       " [9, 0, -10]]"
      ]
     },
     "execution_count": 18,
     "metadata": {},
     "output_type": "execute_result"
    }
   ],
   "source": [
    "# Sort by comparing a custom key\n",
    "# that uses the sum of the elements.\n",
    "sorted(numbers, key=lambda x: sum(x))   "
   ]
  },
  {
   "cell_type": "markdown",
   "id": "d66a60f7",
   "metadata": {},
   "source": [
    "This is really powerful as I can specify almost any criterion I like. For example, I can sort according to the sum of the elements of the sub-lists."
   ]
  },
  {
   "cell_type": "markdown",
   "id": "f9f2f1a6",
   "metadata": {},
   "source": [
    "## 1.3 Optional arguments"
   ]
  },
  {
   "cell_type": "markdown",
   "id": "db24a875",
   "metadata": {},
   "source": [
    "Python allows us to make arguments to our function optional. To do this, we need to give the argument a default value so that it always has something to work with."
   ]
  },
  {
   "cell_type": "markdown",
   "id": "235fa973",
   "metadata": {},
   "source": [
    "In this case, the function will take \"no one\" as the default argument unless some other value is passed into the function. "
   ]
  },
  {
   "cell_type": "code",
   "execution_count": 19,
   "id": "ea6eeaa5",
   "metadata": {},
   "outputs": [],
   "source": [
    "def greeting(name='no one'):\n",
    "    if name == 'Batman':\n",
    "        return 'Hello Batman! So, nice to meet you!'\n",
    "    else:\n",
    "        return f'Hello {name}!'"
   ]
  },
  {
   "cell_type": "markdown",
   "id": "dff90525",
   "metadata": {},
   "source": [
    "Since there are no arguments passed in, the default argument will be used."
   ]
  },
  {
   "cell_type": "code",
   "execution_count": 20,
   "id": "99fa467c",
   "metadata": {},
   "outputs": [
    {
     "data": {
      "text/plain": [
       "'Hello no one!'"
      ]
     },
     "execution_count": 20,
     "metadata": {},
     "output_type": "execute_result"
    }
   ],
   "source": [
    "greeting()"
   ]
  },
  {
   "cell_type": "markdown",
   "id": "f95c79e8",
   "metadata": {},
   "source": [
    "The default argument will not be invoked in this case. "
   ]
  },
  {
   "cell_type": "code",
   "execution_count": 22,
   "id": "80c1d768",
   "metadata": {},
   "outputs": [
    {
     "data": {
      "text/plain": [
       "'Hello jon!'"
      ]
     },
     "execution_count": 22,
     "metadata": {},
     "output_type": "execute_result"
    }
   ],
   "source": [
    "greeting(\"jon\")"
   ]
  },
  {
   "cell_type": "code",
   "execution_count": 26,
   "id": "36d221fb",
   "metadata": {},
   "outputs": [],
   "source": [
    "?print"
   ]
  },
  {
   "cell_type": "markdown",
   "id": "a35367e5",
   "metadata": {},
   "source": [
    "You see that print() can accept other arguments that are optional with default values (eg the separation between values is a space by default). However, we can specify them if we like; here goes."
   ]
  },
  {
   "cell_type": "code",
   "execution_count": 27,
   "id": "3ea2f103",
   "metadata": {},
   "outputs": [
    {
     "name": "stdout",
     "output_type": "stream",
     "text": [
      "I am Batman!\n"
     ]
    }
   ],
   "source": [
    "# Using default values\n",
    "#Values separated with \" \"\n",
    "print('I', 'am', 'Batman!')"
   ]
  },
  {
   "cell_type": "code",
   "execution_count": 29,
   "id": "cc3f24f2",
   "metadata": {},
   "outputs": [
    {
     "name": "stdout",
     "output_type": "stream",
     "text": [
      "I---am---Batman!\n"
     ]
    }
   ],
   "source": [
    "# Specifying an optional argument\n",
    "# Values separated with '---'\n",
    "print('I', 'am', 'Batman!', sep='---')"
   ]
  },
  {
   "cell_type": "markdown",
   "id": "ab965de0",
   "metadata": {},
   "source": [
    "Functions don't always have to return anything. "
   ]
  },
  {
   "cell_type": "markdown",
   "id": "aa1ad0b0",
   "metadata": {},
   "source": [
    "## 1.4 The importance of functions?"
   ]
  },
  {
   "cell_type": "markdown",
   "id": "bd57d40f",
   "metadata": {},
   "source": [
    "### An argument for functions"
   ]
  },
  {
   "cell_type": "markdown",
   "id": "59c0c0b4",
   "metadata": {},
   "source": [
    "Why functions are a good idea?\n",
    "- **Abstraction of details.** Functions break down a complicated solution into modular chunks. This hides away certain details so you won't be distracted by unnecessary information (abstraction). Eg you don't need to know how the engine works to drive a car.\n",
    "- **Reusability of code**: Easier to reuse chunks of code.\n",
    "- **Maintainability of code**: Only need to make changes to one place (in the function body) instead of different places). "
   ]
  },
  {
   "cell_type": "markdown",
   "id": "3a48a1ba",
   "metadata": {},
   "source": [
    "### A word of caution"
   ]
  },
  {
   "cell_type": "markdown",
   "id": "0e5b6d25",
   "metadata": {},
   "source": [
    "I have seen many instances where functions are **abused**; for example, by trying to do too many things or having too many arguments. They can also be **overused**. Having too many functions can make it difficult to read your code and also increase computational overheads. You will get a better feel for when to use functions with experience, but please bear in mind that functions can be misused.\n"
   ]
  }
 ],
 "metadata": {
  "kernelspec": {
   "display_name": "Python 3 (ipykernel)",
   "language": "python",
   "name": "python3"
  },
  "language_info": {
   "codemirror_mode": {
    "name": "ipython",
    "version": 3
   },
   "file_extension": ".py",
   "mimetype": "text/x-python",
   "name": "python",
   "nbconvert_exporter": "python",
   "pygments_lexer": "ipython3",
   "version": "3.11.5"
  },
  "toc": {
   "base_numbering": 1,
   "nav_menu": {},
   "number_sections": true,
   "sideBar": true,
   "skip_h1_title": false,
   "title_cell": "Table of Contents",
   "title_sidebar": "Contents",
   "toc_cell": false,
   "toc_position": {},
   "toc_section_display": true,
   "toc_window_display": false
  },
  "vscode": {
   "interpreter": {
    "hash": "31f2aee4e71d21fbe5cf8b01ff0e069b9275f58929596ceb00d14d90e3e16cd6"
   }
  }
 },
 "nbformat": 4,
 "nbformat_minor": 5
}
