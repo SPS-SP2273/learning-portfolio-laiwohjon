{
 "cells": [
  {
   "cell_type": "markdown",
   "id": "123456",
   "metadata": {},
   "source": [
    "<div style=\"text-align:left;font-size:2em\"><span style=\"font-weight:bolder;font-size:1.25em\">SP2273 | Learning Portfolio</span><br><br><span style=\"font-weight:bold;color:darkred\">Functions (Good)</span></div>"
   ]
  },
  {
   "cell_type": "markdown",
   "id": "39297c45",
   "metadata": {},
   "source": [
    "# What to expect in this chapter"
   ]
  },
  {
   "cell_type": "markdown",
   "id": "c2f9c176",
   "metadata": {},
   "source": [
    "- Types of arguments and docstrings\n",
    "- Exceptional handling (better understand how to deal with errors)\n",
    "- know the difference between positional, keyword, and default arguments of functions.\n",
    "- write code that checks and handles potential problems"
   ]
  },
  {
   "cell_type": "markdown",
   "id": "b6e38a7a",
   "metadata": {},
   "source": [
    "# 1 Checks, balances, and contingencies"
   ]
  },
  {
   "cell_type": "markdown",
   "id": "d802ed61",
   "metadata": {},
   "source": [
    "## 1.1 assert"
   ]
  },
  {
   "cell_type": "markdown",
   "id": "2ad34254",
   "metadata": {},
   "source": [
    "Python has a command called assert that can check a condition and halt execution if necessary. It also gives the option of printing a message.\n",
    "\n",
    "In English, an assertion is a claim. So the program assesses the claim made following the `assert` statement for its truth value."
   ]
  },
  {
   "cell_type": "markdown",
   "id": "60b3268c",
   "metadata": {},
   "source": [
    "Basic syntax:\n",
    "`assert condition-to-check, message`"
   ]
  },
  {
   "cell_type": "code",
   "execution_count": 3,
   "id": "37351892",
   "metadata": {},
   "outputs": [
    {
     "ename": "NameError",
     "evalue": "name 'x' is not defined",
     "output_type": "error",
     "traceback": [
      "\u001b[1;31m---------------------------------------------------------------------------\u001b[0m",
      "\u001b[1;31mNameError\u001b[0m                                 Traceback (most recent call last)",
      "Cell \u001b[1;32mIn[3], line 1\u001b[0m\n\u001b[1;32m----> 1\u001b[0m \u001b[38;5;28;01massert\u001b[39;00m \u001b[43mx\u001b[49m \u001b[38;5;241m>\u001b[39m\u001b[38;5;241m=\u001b[39m \u001b[38;5;241m0\u001b[39m, \u001b[38;5;124m\"\u001b[39m\u001b[38;5;124mx is becoming negative!\u001b[39m\u001b[38;5;124m\"\u001b[39m\n\u001b[0;32m      2\u001b[0m \u001b[38;5;66;03m#Code will run as long as conditon is True.\u001b[39;00m\n\u001b[0;32m      3\u001b[0m \u001b[38;5;66;03m#If it fails, an AssertaionError is raised and program stops running.\u001b[39;00m\n",
      "\u001b[1;31mNameError\u001b[0m: name 'x' is not defined"
     ]
    }
   ],
   "source": [
    "assert x >= 0, \"x is becoming negative!\"\n",
    "#Code will run as long as conditon is True.\n",
    "#If it fails, an AssertaionError is raised and program stops running."
   ]
  },
  {
   "cell_type": "markdown",
   "id": "25565ddc",
   "metadata": {},
   "source": [
    "The following will run without a problem:"
   ]
  },
  {
   "cell_type": "code",
   "execution_count": 5,
   "id": "b92d3c26",
   "metadata": {},
   "outputs": [],
   "source": [
    "x = 10\n",
    "assert x >= 0, \"x is becoming negative!\"\n",
    "#This is because the condition is met."
   ]
  },
  {
   "cell_type": "markdown",
   "id": "261bc152",
   "metadata": {},
   "source": [
    "The following will throw an error and stop."
   ]
  },
  {
   "cell_type": "code",
   "execution_count": 6,
   "id": "877a35c6",
   "metadata": {},
   "outputs": [
    {
     "ename": "AssertionError",
     "evalue": "x is becoming negative!",
     "output_type": "error",
     "traceback": [
      "\u001b[1;31m---------------------------------------------------------------------------\u001b[0m",
      "\u001b[1;31mAssertionError\u001b[0m                            Traceback (most recent call last)",
      "Cell \u001b[1;32mIn[6], line 2\u001b[0m\n\u001b[0;32m      1\u001b[0m x \u001b[38;5;241m=\u001b[39m \u001b[38;5;241m-\u001b[39m\u001b[38;5;241m1\u001b[39m\n\u001b[1;32m----> 2\u001b[0m \u001b[38;5;28;01massert\u001b[39;00m x \u001b[38;5;241m>\u001b[39m\u001b[38;5;241m=\u001b[39m \u001b[38;5;241m0\u001b[39m, \u001b[38;5;124m\"\u001b[39m\u001b[38;5;124mx is becoming negative!\u001b[39m\u001b[38;5;124m\"\u001b[39m\n",
      "\u001b[1;31mAssertionError\u001b[0m: x is becoming negative!"
     ]
    }
   ],
   "source": [
    "x = -1\n",
    "assert x >= 0, \"x is becoming negative!\"\n",
    "#"
   ]
  },
  {
   "cell_type": "markdown",
   "id": "28f35e63",
   "metadata": {},
   "source": [
    "## 1.2 try-except"
   ]
  },
  {
   "cell_type": "markdown",
   "id": "e85f82dd",
   "metadata": {},
   "source": [
    "A technical name for things going wrong is exceptions. For example, division by zero will raise a ZeroDivisionError. An exception left unhandled will halt the flow of the programme. However, if you are a control freak, Python offers an (absurdly) simple ‘try-except’ structure to catch and handle these exceptions yourself."
   ]
  },
  {
   "cell_type": "markdown",
   "id": "0e731cb0",
   "metadata": {},
   "source": [
    "The try-except syntax can also ensure that your programme can handle some situations beyond your control. "
   ]
  },
  {
   "cell_type": "markdown",
   "id": "fe5bdd64",
   "metadata": {},
   "source": [
    "We can solicit a user response using the input() function. Let’s say we do this and ask for a number, as shown in the snippet below."
   ]
  },
  {
   "cell_type": "code",
   "execution_count": 10,
   "id": "454bfa4c",
   "metadata": {},
   "outputs": [
    {
     "name": "stdout",
     "output_type": "stream",
     "text": [
      "Give me a number and I will calculate its square.12\n",
      "The square of 12 is 144!\n"
     ]
    }
   ],
   "source": [
    "number=input(\"Give me a number and I will calculate its square.\")\n",
    "square=int(number)**2              # Convert English to number\n",
    "print(f'The square of {number} is {square}!')"
   ]
  },
  {
   "cell_type": "markdown",
   "id": "e2782a5e",
   "metadata": {},
   "source": [
    "The above code will not work if I input letters and other characters. We can use try-except to get around this problem.  "
   ]
  },
  {
   "cell_type": "code",
   "execution_count": 8,
   "id": "50139a2f",
   "metadata": {},
   "outputs": [
    {
     "name": "stdout",
     "output_type": "stream",
     "text": [
      "Give me a number and I will calculate its square.wedfrev\n",
      "Oh oh! I cannot square wedfrev!\n"
     ]
    }
   ],
   "source": [
    "try:\n",
    "    number=input(\"Give me a number and I will calculate its square.\")\n",
    "    square=int(number)**2\n",
    "    print(f'The square of {number} is {square}!')\n",
    "except:\n",
    "    print(f\"Oh oh! I cannot square {number}!\")"
   ]
  },
  {
   "cell_type": "markdown",
   "id": "ea040c88",
   "metadata": {},
   "source": [
    "If something (anything) goes wrong in the try block, Python will ignore the error and run the code in the except block."
   ]
  },
  {
   "cell_type": "markdown",
   "id": "41ef23c8",
   "metadata": {},
   "source": [
    "## 1.3 A simple suggestion"
   ]
  },
  {
   "cell_type": "markdown",
   "id": "93f2b3b4",
   "metadata": {},
   "source": [
    "When starting out with some code, it is always good for your code to signal to the outside world that it has finished certain milestones. A ‘soft’ way to do this is to include ‘print()’ statements here and there to let the outside world know what is happening in the innards of your program. Otherwise, you will stare at a blank cell, wondering what is happening."
   ]
  },
  {
   "cell_type": "markdown",
   "id": "4abaac7b",
   "metadata": {},
   "source": [
    "# 2 Some loose ends"
   ]
  },
  {
   "cell_type": "markdown",
   "id": "0c531c40",
   "metadata": {},
   "source": [
    "## 2.1 Positional, keyword and default arguments"
   ]
  },
  {
   "cell_type": "markdown",
   "id": "b865fb91",
   "metadata": {},
   "source": [
    "In the past chapter, some of you may have noticed that I was (carelessly) switching between passing two styles of passing arguments to the function greeting(). I wrote greeting('Super Man') or greeting(name='Super Man'). We need to talk a bit more about this so that you are not bewildered when you see other people’s code.\n",
    "\n",
    "There are three ‘ways’ to pass a value to an argument. I will call them positional, keyword or default. To make this clearer, consider the following function."
   ]
  },
  {
   "cell_type": "code",
   "execution_count": 11,
   "id": "ea6fab34",
   "metadata": {},
   "outputs": [],
   "source": [
    "def side_by_side(a, b, c=42):\n",
    "    return f'{a: 2d}|{b: 2d}|{c: 2d}'"
   ]
  },
  {
   "cell_type": "markdown",
   "id": "d0a7e92f",
   "metadata": {},
   "source": [
    "Here are three ways I can use this function."
   ]
  },
  {
   "cell_type": "markdown",
   "id": "3d6e65f6",
   "metadata": {},
   "source": [
    "### Positional"
   ]
  },
  {
   "cell_type": "code",
   "execution_count": 20,
   "id": "da166928",
   "metadata": {},
   "outputs": [
    {
     "data": {
      "text/plain": [
       "' 1| 2| 3'"
      ]
     },
     "execution_count": 20,
     "metadata": {},
     "output_type": "execute_result"
    }
   ],
   "source": [
    "side_by_side(1, 2, 3)"
   ]
  },
  {
   "cell_type": "markdown",
   "id": "1efd6429",
   "metadata": {},
   "source": [
    "Here, I am telling Python to assign 1, 2, 3 to a, b, c using the positional order of the arguments."
   ]
  },
  {
   "cell_type": "markdown",
   "id": "54f5761e",
   "metadata": {},
   "source": [
    "### Keywords"
   ]
  },
  {
   "cell_type": "code",
   "execution_count": 21,
   "id": "e06dd4e9",
   "metadata": {},
   "outputs": [
    {
     "data": {
      "text/plain": [
       "' 2| 1| 3'"
      ]
     },
     "execution_count": 21,
     "metadata": {},
     "output_type": "execute_result"
    }
   ],
   "source": [
    "side_by_side(c=3, b=1, a=2)"
   ]
  },
  {
   "cell_type": "markdown",
   "id": "a0da10ad",
   "metadata": {},
   "source": [
    "Here, I explicitly specify the keyword to assign the values to each of a, b, c. (No, the order does not matter)"
   ]
  },
  {
   "cell_type": "markdown",
   "id": "c40df2f8",
   "metadata": {},
   "source": [
    "### Default"
   ]
  },
  {
   "cell_type": "code",
   "execution_count": 22,
   "id": "d301143d",
   "metadata": {},
   "outputs": [
    {
     "data": {
      "text/plain": [
       "' 1| 2| 42'"
      ]
     },
     "execution_count": 22,
     "metadata": {},
     "output_type": "execute_result"
    }
   ],
   "source": [
    "side_by_side(1, b=2)"
   ]
  },
  {
   "cell_type": "markdown",
   "id": "f85542b5",
   "metadata": {},
   "source": [
    "Here, since c is optional, I can choose not to specify it (the function will then use the default value of c, 42)."
   ]
  },
  {
   "cell_type": "markdown",
   "id": "7efaf755",
   "metadata": {},
   "source": [
    "You can actually combine more than one styles. However, one style (keyword followed by positional) confuses Python and won’t work."
   ]
  },
  {
   "cell_type": "code",
   "execution_count": 23,
   "id": "d1127cb7",
   "metadata": {},
   "outputs": [
    {
     "data": {
      "text/plain": [
       "' 1| 2| 42'"
      ]
     },
     "execution_count": 23,
     "metadata": {},
     "output_type": "execute_result"
    }
   ],
   "source": [
    "side_by_side(1, 2)           # Two positional, 1 default\n",
    "## ' 1| 2| 42'\n",
    "side_by_side(1, 2, 3)        # Three positional\n",
    "## ' 1| 2| 3'\n",
    "side_by_side(a=1, b=2)       # Two keyword, 1 default\n",
    "## ' 1| 2| 42'\n",
    "side_by_side(c=3, b=1, a=2)  # Three keyword\n",
    "## ' 2| 1| 3'\n",
    "side_by_side(1, c=3, b=2)    # One positional, 2 keyword\n",
    "## ' 1| 2| 3'\n",
    "side_by_side(1, b=2)         # One positional, 1 keyword, 1 default\n",
    "## ' 1| 2| 42'"
   ]
  },
  {
   "cell_type": "code",
   "execution_count": 25,
   "id": "ae061e41",
   "metadata": {},
   "outputs": [
    {
     "ename": "SyntaxError",
     "evalue": "positional argument follows keyword argument (4153749514.py, line 1)",
     "output_type": "error",
     "traceback": [
      "\u001b[1;36m  Cell \u001b[1;32mIn[25], line 1\u001b[1;36m\u001b[0m\n\u001b[1;33m    side_by_side(a=3, 1, 2)\u001b[0m\n\u001b[1;37m                          ^\u001b[0m\n\u001b[1;31mSyntaxError\u001b[0m\u001b[1;31m:\u001b[0m positional argument follows keyword argument\n"
     ]
    }
   ],
   "source": [
    "side_by_side(a=3, 1, 2) \n",
    "#Won't work because python is confused."
   ]
  },
  {
   "cell_type": "markdown",
   "id": "075a4a88",
   "metadata": {},
   "source": [
    "In the above example, python cannot unambiguously determine the position of '1' and '2'."
   ]
  },
  {
   "cell_type": "markdown",
   "id": "9417ea15",
   "metadata": {},
   "source": [
    "## 2.2 Docstrings"
   ]
  },
  {
   "cell_type": "markdown",
   "id": "77cb5001",
   "metadata": {},
   "source": [
    "Python has a docstring feature that allows us to document what a function does inside the function. This documentation (i.e., the docstring) is displayed when we ask Python to show us the help info using help()."
   ]
  },
  {
   "cell_type": "code",
   "execution_count": 27,
   "id": "7c0228f8",
   "metadata": {},
   "outputs": [],
   "source": [
    "def side_by_side(a, b, c=42):\n",
    "    '''\n",
    "    A test function to demonstrate how \n",
    "    positional, keyword and default arguments \n",
    "    work.\n",
    "    '''\n",
    "    return f'{a: 2d}|{b: 2d}|{c: 2d}'"
   ]
  },
  {
   "cell_type": "markdown",
   "id": "a8fb88d7",
   "metadata": {},
   "source": [
    "A docstring needs to be sandwiched between a pair of ''' (or \"\"\") and can span multiple lines."
   ]
  },
  {
   "cell_type": "code",
   "execution_count": 28,
   "id": "8fdc8259",
   "metadata": {},
   "outputs": [
    {
     "name": "stdout",
     "output_type": "stream",
     "text": [
      "Help on function side_by_side in module __main__:\n",
      "\n",
      "side_by_side(a, b, c=42)\n",
      "    A test function to demonstrate how \n",
      "    positional, keyword and default arguments \n",
      "    work.\n",
      "\n"
     ]
    }
   ],
   "source": [
    "help(side_by_side)"
   ]
  },
  {
   "cell_type": "markdown",
   "id": "82ce0386",
   "metadata": {},
   "source": [
    "Docstrings can be used for writing multiline comments, but the practice is frowned upon by Puritans; so if you misuse it be ready for their ire!"
   ]
  },
  {
   "cell_type": "markdown",
   "id": "264fe31f",
   "metadata": {},
   "source": [
    "## 2.3 Function are first-class citizens"
   ]
  },
  {
   "cell_type": "markdown",
   "id": "7df91ba7",
   "metadata": {},
   "source": [
    "Python functions are called first-class citizens because they have the same privileges as variables. This opens up useful possibilities for scientific programming because we can **pass a function as an argument to another function**!"
   ]
  },
  {
   "cell_type": "code",
   "execution_count": 29,
   "id": "0fa2e94c",
   "metadata": {},
   "outputs": [],
   "source": [
    "import numpy as np\n",
    "def my_function(angle, trig_function):\n",
    "        return trig_function(angle)"
   ]
  },
  {
   "cell_type": "code",
   "execution_count": 31,
   "id": "9567d2da",
   "metadata": {},
   "outputs": [
    {
     "data": {
      "text/plain": [
       "1.0"
      ]
     },
     "execution_count": 31,
     "metadata": {},
     "output_type": "execute_result"
    }
   ],
   "source": [
    "my_function(np.pi/2, np.sin)    "
   ]
  },
  {
   "cell_type": "code",
   "execution_count": 32,
   "id": "f5dc9fa6",
   "metadata": {},
   "outputs": [
    {
     "data": {
      "text/plain": [
       "6.123233995736766e-17"
      ]
     },
     "execution_count": 32,
     "metadata": {},
     "output_type": "execute_result"
    }
   ],
   "source": [
    "my_function(np.pi/2, np.cos)  \n",
    "#Output a number very close to 0 due to rounding error."
   ]
  },
  {
   "cell_type": "code",
   "execution_count": 33,
   "id": "d348c6fc",
   "metadata": {},
   "outputs": [
    {
     "data": {
      "text/plain": [
       "-1.0"
      ]
     },
     "execution_count": 33,
     "metadata": {},
     "output_type": "execute_result"
    }
   ],
   "source": [
    "my_function(np.pi/2, lambda x: np.cos(2*x)) "
   ]
  },
  {
   "cell_type": "markdown",
   "id": "6a416cd6",
   "metadata": {},
   "source": [
    "Note: When we pass a function as an argument, we do not include the parenthesis ()."
   ]
  },
  {
   "cell_type": "markdown",
   "id": "083de229",
   "metadata": {},
   "source": [
    "## 2.4 More about unpacking"
   ]
  },
  {
   "cell_type": "markdown",
   "id": "2c65764d",
   "metadata": {},
   "source": [
    "There is more to unpacking. For example, unpacking can make extracting information from lists and arrays a breeze. Here are some examples."
   ]
  },
  {
   "cell_type": "code",
   "execution_count": 34,
   "id": "933ab1ce",
   "metadata": {},
   "outputs": [
    {
     "data": {
      "text/plain": [
       "(1, 2, 3)"
      ]
     },
     "execution_count": 34,
     "metadata": {},
     "output_type": "execute_result"
    }
   ],
   "source": [
    "x, y, z = [1, 2, 3]\n",
    "x, y, z"
   ]
  },
  {
   "cell_type": "markdown",
   "id": "4dacbbc5",
   "metadata": {},
   "source": [
    "The following code only returns the first 2 elements of the array."
   ]
  },
  {
   "cell_type": "code",
   "execution_count": 35,
   "id": "05074fd4",
   "metadata": {},
   "outputs": [
    {
     "data": {
      "text/plain": [
       "(1, 2)"
      ]
     },
     "execution_count": 35,
     "metadata": {},
     "output_type": "execute_result"
    }
   ],
   "source": [
    "x, y, z = np.array([1, 2, 3])\n",
    "x, y"
   ]
  },
  {
   "cell_type": "markdown",
   "id": "01544411",
   "metadata": {},
   "source": [
    "This is extended iterable unpacking. It assigns the first element of the array to x, the last element to z, and all the elements in between to y as a list.\n",
    "\n",
    "*y: Collects all the elements in between into a list named y. In this case, it will be [2, 3, 4]."
   ]
  },
  {
   "cell_type": "code",
   "execution_count": 36,
   "id": "0a2365a7",
   "metadata": {},
   "outputs": [
    {
     "data": {
      "text/plain": [
       "(1, [2, 3, 4], 5)"
      ]
     },
     "execution_count": 36,
     "metadata": {},
     "output_type": "execute_result"
    }
   ],
   "source": [
    "x, *y, z = np.array([1, 2, 3, 4, 5])\n",
    "x, y, z"
   ]
  },
  {
   "cell_type": "markdown",
   "id": "fb600f5f",
   "metadata": {},
   "source": [
    "The list in the middle will not be in the output in the following example. "
   ]
  },
  {
   "cell_type": "code",
   "execution_count": 37,
   "id": "026a199b",
   "metadata": {},
   "outputs": [
    {
     "data": {
      "text/plain": [
       "(1, 5)"
      ]
     },
     "execution_count": 37,
     "metadata": {},
     "output_type": "execute_result"
    }
   ],
   "source": [
    "x, *_, y = [1, 2, 3, 4, 5]\n",
    "x, y"
   ]
  }
 ],
 "metadata": {
  "kernelspec": {
   "display_name": "Python 3 (ipykernel)",
   "language": "python",
   "name": "python3"
  },
  "language_info": {
   "codemirror_mode": {
    "name": "ipython",
    "version": 3
   },
   "file_extension": ".py",
   "mimetype": "text/x-python",
   "name": "python",
   "nbconvert_exporter": "python",
   "pygments_lexer": "ipython3",
   "version": "3.11.5"
  },
  "toc": {
   "base_numbering": 1,
   "nav_menu": {},
   "number_sections": true,
   "sideBar": true,
   "skip_h1_title": false,
   "title_cell": "Table of Contents",
   "title_sidebar": "Contents",
   "toc_cell": false,
   "toc_position": {},
   "toc_section_display": true,
   "toc_window_display": false
  },
  "vscode": {
   "interpreter": {
    "hash": "31f2aee4e71d21fbe5cf8b01ff0e069b9275f58929596ceb00d14d90e3e16cd6"
   }
  }
 },
 "nbformat": 4,
 "nbformat_minor": 5
}
