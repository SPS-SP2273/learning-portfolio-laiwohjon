{
 "cells": [
  {
   "cell_type": "markdown",
   "id": "123456",
   "metadata": {},
   "source": [
    "<div style=\"text-align:left;font-size:2em\"><span style=\"font-weight:bolder;font-size:1.25em\">SP2273 | Learning Portfolio</span><br><br><span style=\"font-weight:bold;color:darkred\">Plotting (Good) Exercises</span></div>"
   ]
  },
  {
   "cell_type": "markdown",
   "id": "b2581c86",
   "metadata": {},
   "source": [
    "## Before "
   ]
  },
  {
   "cell_type": "markdown",
   "id": "bb8f3c00",
   "metadata": {},
   "source": [
    "![](https://sps.nus.edu.sg/sp2273/docs/python_basics/07_plotting/__imgs__/plotting_good_exercise-01_problem.png)"
   ]
  },
  {
   "cell_type": "markdown",
   "id": "c084aa4b",
   "metadata": {},
   "source": [
    "## After"
   ]
  },
  {
   "cell_type": "markdown",
   "id": "3b476e4d",
   "metadata": {},
   "source": [
    "![](https://sps.nus.edu.sg/sp2273/docs/python_basics/07_plotting/__imgs__/plotting_good_exercise-01_solution.png)"
   ]
  },
  {
   "cell_type": "markdown",
   "id": "ec46426c",
   "metadata": {},
   "source": [
    "The code shown in the Code tab generates the ‘Before’ figure shown in the Plots tab.\n",
    "Your task is to modify this code to end with the ‘After’ figure in jpg format.\n",
    "Here are some things to get you started:\n",
    "\n",
    "1. Remove the text ‘I am..’\n",
    "1. Change the colours used for filling.\n",
    "1. Change the limits of the filled areas.\n",
    "1. Add titles to each subplot.\n",
    "Share the x axis across columns.\n",
    "Add/Remove labels to the x-axis.\n",
    "Make the tick labels of the two bottom plots the same.\n",
    "Add grids to all subplots.\n",
    "Add a legend to all subplots in the upper right position.\n",
    "Use tight_layout() to improve the figure.\n",
    "Save the figure as a jpg"
   ]
  }
 ],
 "metadata": {
  "kernelspec": {
   "display_name": "Python 3 (ipykernel)",
   "language": "python",
   "name": "python3"
  },
  "language_info": {
   "codemirror_mode": {
    "name": "ipython",
    "version": 3
   },
   "file_extension": ".py",
   "mimetype": "text/x-python",
   "name": "python",
   "nbconvert_exporter": "python",
   "pygments_lexer": "ipython3",
   "version": "3.11.5"
  },
  "toc": {
   "base_numbering": 1,
   "nav_menu": {},
   "number_sections": true,
   "sideBar": true,
   "skip_h1_title": false,
   "title_cell": "Table of Contents",
   "title_sidebar": "Contents",
   "toc_cell": false,
   "toc_position": {},
   "toc_section_display": true,
   "toc_window_display": false
  },
  "vscode": {
   "interpreter": {
    "hash": "31f2aee4e71d21fbe5cf8b01ff0e069b9275f58929596ceb00d14d90e3e16cd6"
   }
  }
 },
 "nbformat": 4,
 "nbformat_minor": 5
}
