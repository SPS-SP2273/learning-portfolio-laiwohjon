{
 "cells": [
  {
   "cell_type": "markdown",
   "id": "123456",
   "metadata": {},
   "source": [
    "<div style=\"text-align:left;font-size:2em\"><span style=\"font-weight:bolder;font-size:1.25em\">SP2273 | Learning Portfolio</span><br><br><span style=\"font-weight:bold;color:darkred\">Loops (Good)</span></div>"
   ]
  },
  {
   "cell_type": "markdown",
   "id": "9edd69a0",
   "metadata": {},
   "source": [
    "# What to expect in this chapter"
   ]
  },
  {
   "cell_type": "markdown",
   "id": "9b3d8751",
   "metadata": {},
   "source": [
    "# 1 Interrupting the flow"
   ]
  },
  {
   "cell_type": "markdown",
   "id": "fb576c1a",
   "metadata": {},
   "source": [
    "Break and continue allows us to change the flow of a loop. \n",
    "\n",
    "Break: Break-out of loop and terminate it. We typically use it with an \"if\" statement so that we break out if a certain condition is met. "
   ]
  },
  {
   "cell_type": "code",
   "execution_count": 25,
   "id": "e6082c31",
   "metadata": {},
   "outputs": [
    {
     "name": "stdout",
     "output_type": "stream",
     "text": [
      "0 1\n",
      "1 10\n",
      "2 100\n",
      "3 1000\n"
     ]
    }
   ],
   "source": [
    "for power in range(5):\n",
    "    number = 10**power\n",
    "    if number > 5000:\n",
    "        break\n",
    "    print(power, number)"
   ]
  },
  {
   "cell_type": "markdown",
   "id": "8b1f2c74",
   "metadata": {},
   "source": [
    "Sometimes we want to skip an iteration and just move on to the next. continue allows us to do this by skipping everything after it.\n",
    "\n",
    "There is no printout for power == 3 in the following example."
   ]
  },
  {
   "cell_type": "code",
   "execution_count": 27,
   "id": "212f319b",
   "metadata": {},
   "outputs": [
    {
     "name": "stdout",
     "output_type": "stream",
     "text": [
      "0 1\n",
      "1 10\n",
      "2 100\n",
      "4 10000\n"
     ]
    }
   ],
   "source": [
    "for power in range(5):\n",
    "    if power == 3:\n",
    "        continue        # Don't proceed further\n",
    "                        # IN THE CURRENT LOOP\n",
    "                        # if i == 3\n",
    "    number = 10**power\n",
    "    print(power, number)"
   ]
  },
  {
   "cell_type": "markdown",
   "id": "16674467",
   "metadata": {},
   "source": [
    "Continue is typically used with if."
   ]
  },
  {
   "cell_type": "markdown",
   "id": "b972d359",
   "metadata": {},
   "source": [
    "Continue works with a while loop as well."
   ]
  },
  {
   "cell_type": "code",
   "execution_count": 28,
   "id": "84bc60e7",
   "metadata": {},
   "outputs": [
    {
     "name": "stdout",
     "output_type": "stream",
     "text": [
      "1\n",
      "3\n",
      "5\n",
      "7\n",
      "9\n"
     ]
    }
   ],
   "source": [
    "for number in range(10):\n",
    "    # Don't proceed if the remainder is zero\n",
    "    # I.e. if the number is even\n",
    "    if number % 2 == 0:\n",
    "        continue\n",
    "    print(number)"
   ]
  },
  {
   "cell_type": "code",
   "execution_count": 2,
   "id": "08451eef",
   "metadata": {},
   "outputs": [
    {
     "name": "stdout",
     "output_type": "stream",
     "text": [
      "0\n",
      "1\n",
      "2\n",
      "3\n",
      "4\n"
     ]
    }
   ],
   "source": [
    "number=0\n",
    "\n",
    "while True:\n",
    "    print(number)\n",
    "    number += 1\n",
    "    if number > 4: break\n",
    "#Same as while number<= 4"
   ]
  },
  {
   "cell_type": "markdown",
   "id": "7f8a90c1",
   "metadata": {},
   "source": [
    "# 2 List comprehension!"
   ]
  },
  {
   "cell_type": "markdown",
   "id": "4c545087",
   "metadata": {},
   "source": [
    "The exercises of the previous chapter had you using loops to create lists. However, creating new lists from other lists is so common that Python has an optimised syntax called list comprehension to do just that."
   ]
  },
  {
   "cell_type": "markdown",
   "id": "efce8591",
   "metadata": {},
   "source": [
    "## 2.1 Basic syntax"
   ]
  },
  {
   "cell_type": "markdown",
   "id": "5f46cd8a",
   "metadata": {},
   "source": [
    "According to Wikipedia: In computer science, syntactic sugar is syntax within a programming language that is designed to make things easier to read or to express. It makes the language \"sweeter\" for human use: things can be expressed more clearly, more concisely, or in an alternative style that some may prefer."
   ]
  },
  {
   "cell_type": "markdown",
   "id": "c731cad0",
   "metadata": {},
   "source": [
    "For the following code, you just need to put the thing you want as an output at the front. "
   ]
  },
  {
   "cell_type": "code",
   "execution_count": 1,
   "id": "545e0530",
   "metadata": {},
   "outputs": [
    {
     "name": "stdout",
     "output_type": "stream",
     "text": [
      "0\n",
      "1\n",
      "2\n",
      "3\n",
      "4\n"
     ]
    }
   ],
   "source": [
    "for number in range(5):\n",
    "    print(number)"
   ]
  },
  {
   "cell_type": "markdown",
   "id": "b250713c",
   "metadata": {},
   "source": [
    "The following command tells the computer what to do for each of the elements in a given range. "
   ]
  },
  {
   "cell_type": "markdown",
   "id": "65d69eb5",
   "metadata": {},
   "source": [
    "The syntax is \"newlist = [**expression** for **item** in **iterable**]\""
   ]
  },
  {
   "cell_type": "code",
   "execution_count": 5,
   "id": "509b147f",
   "metadata": {},
   "outputs": [
    {
     "data": {
      "text/plain": [
       "[0, 1, 2, 3, 4]"
      ]
     },
     "execution_count": 5,
     "metadata": {},
     "output_type": "execute_result"
    }
   ],
   "source": [
    "[number for number in range(5)]"
   ]
  },
  {
   "cell_type": "code",
   "execution_count": 4,
   "id": "c4004f62",
   "metadata": {},
   "outputs": [
    {
     "name": "stdout",
     "output_type": "stream",
     "text": [
      "[0, 1, 2, 3, 4]\n"
     ]
    }
   ],
   "source": [
    "print([number for number in range(5)])"
   ]
  },
  {
   "cell_type": "markdown",
   "id": "ef899854",
   "metadata": {},
   "source": [
    "Following command takes each number in range(5) and makes it a power of 2. The expression is \"2\\*\\*number\", the item is \"number\" and the iterable is \"range(5)\""
   ]
  },
  {
   "cell_type": "code",
   "execution_count": 6,
   "id": "801c9e26",
   "metadata": {},
   "outputs": [
    {
     "data": {
      "text/plain": [
       "[1, 2, 4, 8, 16]"
      ]
     },
     "execution_count": 6,
     "metadata": {},
     "output_type": "execute_result"
    }
   ],
   "source": [
    "[2**number for number in range(5)]"
   ]
  },
  {
   "cell_type": "markdown",
   "id": "c833ee1a",
   "metadata": {},
   "source": [
    "## 2.2 List comprehension with conditions"
   ]
  },
  {
   "cell_type": "markdown",
   "id": "18afb768",
   "metadata": {},
   "source": [
    "We can specify a condition in list comprehension. "
   ]
  },
  {
   "cell_type": "markdown",
   "id": "7d05ae68",
   "metadata": {},
   "source": [
    "The updated syntax is \"newlist = [**expression** for **item** in **iterable** if **condition**]\""
   ]
  },
  {
   "cell_type": "code",
   "execution_count": 30,
   "id": "fa4627eb",
   "metadata": {},
   "outputs": [
    {
     "data": {
      "text/plain": [
       "[1, 4, 16, 64, 256]"
      ]
     },
     "execution_count": 30,
     "metadata": {},
     "output_type": "execute_result"
    }
   ],
   "source": [
    "[2**power for power in range(10) if power%2 == 0]\n",
    "#Take even numbers between 0 and 10(exclusive) and makes it a power of 2"
   ]
  },
  {
   "cell_type": "code",
   "execution_count": 5,
   "id": "5cd3bb44",
   "metadata": {},
   "outputs": [
    {
     "data": {
      "text/plain": [
       "[0, 2, 4, 6, 8]"
      ]
     },
     "execution_count": 5,
     "metadata": {},
     "output_type": "execute_result"
    }
   ],
   "source": [
    "[number for number in range(10) if number % 2 ==0]"
   ]
  },
  {
   "cell_type": "markdown",
   "id": "53935cfe",
   "metadata": {},
   "source": [
    "# 3 Other useful stuff"
   ]
  },
  {
   "cell_type": "markdown",
   "id": "ee6310cd",
   "metadata": {},
   "source": [
    "## 3.1 for with unpacking"
   ]
  },
  {
   "cell_type": "markdown",
   "id": "daf11986",
   "metadata": {},
   "source": [
    "We can extract elements using unpacking. An example:"
   ]
  },
  {
   "cell_type": "code",
   "execution_count": 9,
   "id": "cbb82ef4",
   "metadata": {},
   "outputs": [
    {
     "name": "stdout",
     "output_type": "stream",
     "text": [
      "x = 1, y = 2, z = 3\n"
     ]
    }
   ],
   "source": [
    "x, y, z=[1, 2, 3]\n",
    "print(f'x = {x}, y = {y}, z = {z}')"
   ]
  },
  {
   "cell_type": "markdown",
   "id": "11dedc74",
   "metadata": {},
   "source": [
    "Another example:"
   ]
  },
  {
   "cell_type": "code",
   "execution_count": 10,
   "id": "eff4b0d3",
   "metadata": {},
   "outputs": [
    {
     "name": "stdout",
     "output_type": "stream",
     "text": [
      "x = 123, y = hello, z = True\n"
     ]
    }
   ],
   "source": [
    "x, y, z=[\"123\", \"hello\", True]\n",
    "print(f'x = {x}, y = {y}, z = {z}')"
   ]
  },
  {
   "cell_type": "markdown",
   "id": "3206111d",
   "metadata": {},
   "source": [
    "Alternate method:"
   ]
  },
  {
   "cell_type": "code",
   "execution_count": 6,
   "id": "d4945528",
   "metadata": {},
   "outputs": [
    {
     "name": "stdout",
     "output_type": "stream",
     "text": [
      "23\n"
     ]
    }
   ],
   "source": [
    "x = [34, 29, 23, 90][2]\n",
    "print(x)"
   ]
  },
  {
   "cell_type": "markdown",
   "id": "11e30e35",
   "metadata": {},
   "source": [
    "Unpacking can be put to good use (for example) when we are dealing with 2D list. We can combine unpacking with a for loop to extract elements as follows:"
   ]
  },
  {
   "cell_type": "code",
   "execution_count": 18,
   "id": "3e2ea944",
   "metadata": {},
   "outputs": [
    {
     "name": "stdout",
     "output_type": "stream",
     "text": [
      "a is the 1st letter in the alphabet\n",
      "b is the 2st letter in the alphabet\n",
      "c is the 3st letter in the alphabet\n"
     ]
    }
   ],
   "source": [
    "order_of_numbers = [\n",
    "    [\"a\", \"1\"],\n",
    "    [\"b\", \"2\"],\n",
    "    [\"c\", \"3\"]\n",
    "]\n",
    "\n",
    "for letter, number in order_of_numbers:\n",
    "    print(f\"{letter} is the {number}st letter in the alphabet\")"
   ]
  },
  {
   "cell_type": "markdown",
   "id": "e4b85bc4",
   "metadata": {},
   "source": [
    "Another example:"
   ]
  },
  {
   "cell_type": "code",
   "execution_count": 8,
   "id": "d0ce9dfd",
   "metadata": {},
   "outputs": [
    {
     "name": "stdout",
     "output_type": "stream",
     "text": [
      "Natasha Romanoff is Marvel's Black Widow!\n",
      "Tony Stark is Marvel's Iron Man!\n",
      "Stephen Strange is Marvel's Doctor Strange!\n"
     ]
    }
   ],
   "source": [
    "py_superhero_info = [['Natasha Romanoff', 'Black Widow'],\n",
    "                     ['Tony Stark', 'Iron Man'],\n",
    "                     ['Stephen Strange', 'Doctor Strange']]\n",
    "\n",
    "for real_name, super_name in py_superhero_info:\n",
    "    print(f\"{real_name} is Marvel's {super_name}!\")\n",
    "    \n",
    "#Goes through each element in outer loop and extracts\n",
    "#0th and 1st element from inner loop."
   ]
  },
  {
   "cell_type": "markdown",
   "id": "c16a0bcd",
   "metadata": {},
   "source": [
    "## 3.2 for with zip()"
   ]
  },
  {
   "cell_type": "markdown",
   "id": "95373883",
   "metadata": {},
   "source": [
    "Let’s revisit the example from the previous chapter that had two lists of real and superhero names that we used to print. There is yet another way to solve this task using a function called zip(). "
   ]
  },
  {
   "cell_type": "markdown",
   "id": "48d6ab64",
   "metadata": {},
   "source": [
    "The zip function pairs up elements from multiple lists or tuples, creating tuples with elements from the same positions in each input iterable. \n",
    "\n",
    "(A tuple is an immutable sequence of Values - used for representing fixed collections of values (eg RGB values)) \n",
    "\n",
    "Lets see how it work in practice:"
   ]
  },
  {
   "cell_type": "code",
   "execution_count": 19,
   "id": "70af5520",
   "metadata": {},
   "outputs": [
    {
     "name": "stdout",
     "output_type": "stream",
     "text": [
      "[('Natasha Romanoff', 'Black Widow'), ('Tony Stark', 'Iron Man'), ('Stephen Strange', 'Doctor Strange')]\n"
     ]
    }
   ],
   "source": [
    "super_names = [\"Black Widow\", \"Iron Man\", \"Doctor Strange\"]\n",
    "real_names = [\"Natasha Romanoff\", \"Tony Stark\", \"Stephen Strange\"]\n",
    "\n",
    "print(list(zip(real_names,super_names)))\n"
   ]
  },
  {
   "cell_type": "code",
   "execution_count": 10,
   "id": "16d42bec",
   "metadata": {},
   "outputs": [
    {
     "name": "stdout",
     "output_type": "stream",
     "text": [
      "Natasha Romanoff is Marvel's Black Widow!\n",
      "Tony Stark is Marvel's Iron Man!\n",
      "Stephen Strange is Marvel's Doctor Strange!\n"
     ]
    }
   ],
   "source": [
    "super_names = [\"Black Widow\", \"Iron Man\", \"Doctor Strange\"]\n",
    "real_names = [\"Natasha Romanoff\", \"Tony Stark\", \"Stephen Strange\"]\n",
    "\n",
    "for real_name, super_name in zip(real_names,super_names):\n",
    "    print(f\"{real_name} is Marvel's {super_name}!\")"
   ]
  },
  {
   "cell_type": "code",
   "execution_count": null,
   "id": "4712fdf3",
   "metadata": {},
   "outputs": [],
   "source": []
  },
  {
   "cell_type": "markdown",
   "id": "fc07c37b",
   "metadata": {},
   "source": [
    "## 3.3 for with dictionaries"
   ]
  },
  {
   "cell_type": "code",
   "execution_count": 20,
   "id": "7f84cec4",
   "metadata": {},
   "outputs": [
    {
     "name": "stdout",
     "output_type": "stream",
     "text": [
      "Natasha Romanoff is Marvel's Black Widow!\n",
      "Tony Stark is Marvel's Iron Man!\n",
      "Stephen Strange is Marvel's Doctor Strange!\n",
      "dict_keys(['Natasha Romanoff', 'Tony Stark', 'Stephen Strange'])\n"
     ]
    }
   ],
   "source": [
    "superhero_info={\"Natasha Romanoff\": \"Black Widow\",\n",
    "                \"Tony Stark\": \"Iron Man\",\n",
    "                \"Stephen Strange\": \"Doctor Strange\"}\n",
    "\n",
    "for key, value in superhero_info.items(): #items() is important\n",
    "    print(f\"{key} is Marvel's {value}!\")\n",
    "    \n",
    "print(superhero_info.keys())"
   ]
  },
  {
   "cell_type": "markdown",
   "id": "a46280c9",
   "metadata": {},
   "source": [
    "You can replace key and value with other variables (eg \"a\" and \"b\"). "
   ]
  },
  {
   "cell_type": "code",
   "execution_count": 21,
   "id": "9c7d0c25",
   "metadata": {},
   "outputs": [
    {
     "name": "stdout",
     "output_type": "stream",
     "text": [
      "Natasha Romanoff is Marvel's Black Widow!\n",
      "Tony Stark is Marvel's Iron Man!\n",
      "Stephen Strange is Marvel's Doctor Strange!\n"
     ]
    }
   ],
   "source": [
    "superhero_info={\"Natasha Romanoff\": \"Black Widow\",\n",
    "                \"Tony Stark\": \"Iron Man\",\n",
    "                \"Stephen Strange\": \"Doctor Strange\"}\n",
    "\n",
    "for a, b in superhero_info.items(): #items() is important\n",
    "    print(f\"{a} is Marvel's {b}!\")"
   ]
  },
  {
   "cell_type": "markdown",
   "id": "3cd60905",
   "metadata": {},
   "source": [
    "The ‘hidden’ function items() spits out both the key and the corresponding value."
   ]
  },
  {
   "cell_type": "markdown",
   "id": "563805d3",
   "metadata": {},
   "source": [
    "We can directly access the keys using the keys() function as shown below. "
   ]
  },
  {
   "cell_type": "code",
   "execution_count": 22,
   "id": "3b1c0d0f",
   "metadata": {},
   "outputs": [
    {
     "name": "stdout",
     "output_type": "stream",
     "text": [
      "Natasha Romanoff is Marvel's Black Widow!\n",
      "Tony Stark is Marvel's Iron Man!\n",
      "Stephen Strange is Marvel's Doctor Strange!\n"
     ]
    }
   ],
   "source": [
    "for key in superhero_info.keys():\n",
    "    value=superhero_info[key]\n",
    "    print(f\"{key} is Marvel's {value}!\")"
   ]
  },
  {
   "cell_type": "markdown",
   "id": "75d47f8a",
   "metadata": {},
   "source": [
    "## Footnotes"
   ]
  }
 ],
 "metadata": {
  "kernelspec": {
   "display_name": "Python 3 (ipykernel)",
   "language": "python",
   "name": "python3"
  },
  "language_info": {
   "codemirror_mode": {
    "name": "ipython",
    "version": 3
   },
   "file_extension": ".py",
   "mimetype": "text/x-python",
   "name": "python",
   "nbconvert_exporter": "python",
   "pygments_lexer": "ipython3",
   "version": "3.11.5"
  },
  "toc": {
   "base_numbering": 1,
   "nav_menu": {},
   "number_sections": true,
   "sideBar": true,
   "skip_h1_title": false,
   "title_cell": "Table of Contents",
   "title_sidebar": "Contents",
   "toc_cell": false,
   "toc_position": {},
   "toc_section_display": true,
   "toc_window_display": false
  },
  "vscode": {
   "interpreter": {
    "hash": "31f2aee4e71d21fbe5cf8b01ff0e069b9275f58929596ceb00d14d90e3e16cd6"
   }
  }
 },
 "nbformat": 4,
 "nbformat_minor": 5
}
