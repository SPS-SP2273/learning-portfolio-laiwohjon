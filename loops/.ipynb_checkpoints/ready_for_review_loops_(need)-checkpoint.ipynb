{
 "cells": [
  {
   "cell_type": "markdown",
   "id": "123456",
   "metadata": {},
   "source": [
    "<div style=\"text-align:left;font-size:2em\"><span style=\"font-weight:bolder;font-size:1.25em\">SP2273 | Learning Portfolio</span><br><br><span style=\"font-weight:bold;color:darkred\">Loops (Need)</span></div>"
   ]
  },
  {
   "cell_type": "markdown",
   "id": "b22af946",
   "metadata": {},
   "source": [
    "# What to expect in this chapter"
   ]
  },
  {
   "cell_type": "markdown",
   "id": "dcba0fc7",
   "metadata": {},
   "source": [
    "Looping == repeating a task over and over again\n",
    "\n",
    "Python offers two mechanisms for looping. One is the for statement, and the other is the while statement. We will spend more time on the former as it is the more used of the two."
   ]
  },
  {
   "cell_type": "markdown",
   "id": "c51b6edf",
   "metadata": {},
   "source": [
    "# 1 The for iterator"
   ]
  },
  {
   "cell_type": "markdown",
   "id": "7c05c8c9",
   "metadata": {},
   "source": [
    "Let’s say I want to print a message corresponding to every superhero in the following list."
   ]
  },
  {
   "cell_type": "code",
   "execution_count": 1,
   "id": "70e8bdf7",
   "metadata": {},
   "outputs": [],
   "source": [
    "real_names = [\"Natasha Romanoff\", \"Tony Stark\", \"Stephen Strange\"]"
   ]
  },
  {
   "cell_type": "markdown",
   "id": "6d3b37c1",
   "metadata": {},
   "source": [
    "Bad way of doing it:"
   ]
  },
  {
   "cell_type": "code",
   "execution_count": 2,
   "id": "bddc676f",
   "metadata": {},
   "outputs": [
    {
     "name": "stdout",
     "output_type": "stream",
     "text": [
      "Natasha Romanoff is a Marvel superhero!\n",
      "Tony Stark is a Marvel superhero!\n",
      "Stephen Strange is a Marvel superhero!\n"
     ]
    }
   ],
   "source": [
    "name=real_names[0]\n",
    "print(f\"{name} is a Marvel superhero!\")\n",
    "\n",
    "name=real_names[1]\n",
    "print(f\"{name} is a Marvel superhero!\")\n",
    "\n",
    "name=real_names[2]\n",
    "print(f\"{name} is a Marvel superhero!\")"
   ]
  },
  {
   "cell_type": "markdown",
   "id": "afe885b2",
   "metadata": {},
   "source": [
    "**Why was it bad?**\n",
    "1. it does not scale very well (imagine if you have a 100 names!),\n",
    "1. it is cumbersome to make changes, you have to do it three times.\n",
    "1. it is highly error prone, since you need to type something new (even if you are copying and pasting most of it).\n",
    "\n",
    "Thats why we use a for loop.\n"
   ]
  },
  {
   "cell_type": "markdown",
   "id": "573691ce",
   "metadata": {},
   "source": [
    "## 1.1 for with a list"
   ]
  },
  {
   "cell_type": "markdown",
   "id": "8291bc6a",
   "metadata": {},
   "source": [
    "Much better way of printing a message corresponding to every superhero"
   ]
  },
  {
   "cell_type": "code",
   "execution_count": 3,
   "id": "11f7372f",
   "metadata": {},
   "outputs": [
    {
     "name": "stdout",
     "output_type": "stream",
     "text": [
      "Natasha Romanoff is a Marvel superhero!\n",
      "Tony Stark is a Marvel superhero!\n",
      "Stephen Strange is a Marvel superhero!\n"
     ]
    }
   ],
   "source": [
    "for name in real_names:\n",
    "    print(f\"{name} is a Marvel superhero!\")"
   ]
  },
  {
   "cell_type": "markdown",
   "id": "46c1023b",
   "metadata": {},
   "source": [
    "For loops iterate through elements in real_names and replaces {name} with an element from real_names. \"for x in real_names\" work as well, but its a bit less intuitive. "
   ]
  },
  {
   "cell_type": "markdown",
   "id": "773c2e5a",
   "metadata": {},
   "source": [
    "## 1.2 for with enumerate"
   ]
  },
  {
   "cell_type": "markdown",
   "id": "269778ff",
   "metadata": {},
   "source": [
    "Let’s say we want to do a bit more, like using the information in both of the following lists."
   ]
  },
  {
   "cell_type": "code",
   "execution_count": 6,
   "id": "66bc8213",
   "metadata": {},
   "outputs": [],
   "source": [
    "super_names = [\"Black Widow\", \"Iron Man\", \"Doctor Strange\"]\n",
    "real_names = [\"Natasha Romanoff\", \"Tony Stark\", \"Stephen Strange\"]"
   ]
  },
  {
   "cell_type": "markdown",
   "id": "04d43c53",
   "metadata": {},
   "source": [
    "Since the for loop only accepts one list, we need to do something else to access the data in both lists. One way is through enumerate(). "
   ]
  },
  {
   "cell_type": "code",
   "execution_count": 5,
   "id": "fc7bd11e",
   "metadata": {},
   "outputs": [
    {
     "name": "stdout",
     "output_type": "stream",
     "text": [
      "0: Natasha Romanoff is a Marvel superhero!\n",
      "1: Tony Stark is a Marvel superhero!\n",
      "2: Stephen Strange is a Marvel superhero!\n"
     ]
    }
   ],
   "source": [
    "for count, name in enumerate(real_names):\n",
    "    print(f'{count}: {name} is a Marvel superhero!')"
   ]
  },
  {
   "cell_type": "markdown",
   "id": "1c318a25",
   "metadata": {},
   "source": [
    "You can think of enumerate() as something that keeps count. In the above example, enumerate() not only gives the elements of the list, it also gives you a number (that is stored in count)."
   ]
  },
  {
   "cell_type": "markdown",
   "id": "fed64263",
   "metadata": {},
   "source": [
    "Other than counting, we can use the count given by enumerate() to index the other list!"
   ]
  },
  {
   "cell_type": "code",
   "execution_count": 6,
   "id": "6695d63d",
   "metadata": {},
   "outputs": [
    {
     "name": "stdout",
     "output_type": "stream",
     "text": [
      "Natasha Romanoff is Black Widow!\n",
      "Tony Stark is Iron Man!\n",
      "Stephen Strange is Doctor Strange!\n"
     ]
    }
   ],
   "source": [
    "for index, name in enumerate(real_names):\n",
    "    superhero_name = super_names[index]\n",
    "    print(f'{name} is {superhero_name}!')"
   ]
  },
  {
   "cell_type": "markdown",
   "id": "22fbd30f",
   "metadata": {},
   "source": [
    "We use index this time as the number that increases corresponds to the index that we are going to extract elements from the other list. This allows us to use count to iterate through another list. "
   ]
  },
  {
   "cell_type": "markdown",
   "id": "26ec78cd",
   "metadata": {},
   "source": [
    "1. The variable name used with enumerate() varies to match their logical use. Python doesn't care but that makes it easier for us humans. \n",
    "1. enumerate() starts counting from 0 by default, but we can easily change it to start at another value, say 100. Here is how:"
   ]
  },
  {
   "cell_type": "code",
   "execution_count": 8,
   "id": "e3e30167",
   "metadata": {},
   "outputs": [
    {
     "name": "stdout",
     "output_type": "stream",
     "text": [
      "100: Natasha Romanoff is a Marvel superhero!\n",
      "101: Tony Stark is a Marvel superhero!\n",
      "102: Stephen Strange is a Marvel superhero!\n"
     ]
    }
   ],
   "source": [
    "for count, name in enumerate(real_names, 100):\n",
    "    print(f'{count}: {name} is a Marvel superhero!')\n",
    "    \n",
    "#enumerate can take in another parameter after the list\n",
    "#2nd parameter designate the starting point of \"count\""
   ]
  },
  {
   "cell_type": "markdown",
   "id": "ee7fcc82",
   "metadata": {},
   "source": [
    "## 1.3 for with range"
   ]
  },
  {
   "cell_type": "markdown",
   "id": "e9fcb673",
   "metadata": {},
   "source": [
    "Yet, another way to achieve the result above is by using the function range(). But, first lets see what range() can do."
   ]
  },
  {
   "cell_type": "code",
   "execution_count": 1,
   "id": "582ad8ba",
   "metadata": {},
   "outputs": [
    {
     "name": "stdout",
     "output_type": "stream",
     "text": [
      "0\n",
      "1\n",
      "2\n",
      "3\n",
      "4\n"
     ]
    }
   ],
   "source": [
    "for i in range(5):\n",
    "    print(i)"
   ]
  },
  {
   "cell_type": "code",
   "execution_count": 2,
   "id": "3428e0f6",
   "metadata": {},
   "outputs": [
    {
     "name": "stdout",
     "output_type": "stream",
     "text": [
      "5\n",
      "6\n",
      "7\n",
      "8\n",
      "9\n"
     ]
    }
   ],
   "source": [
    "for i in range(5, 10):\n",
    "    print(i)"
   ]
  },
  {
   "cell_type": "code",
   "execution_count": 3,
   "id": "56298699",
   "metadata": {},
   "outputs": [
    {
     "name": "stdout",
     "output_type": "stream",
     "text": [
      "1\n",
      "4\n",
      "7\n"
     ]
    }
   ],
   "source": [
    "for i in range(1, 10, 3):\n",
    "    print(i)"
   ]
  },
  {
   "cell_type": "markdown",
   "id": "0151a08d",
   "metadata": {},
   "source": [
    "Note:\n",
    "- Ending number is non-inclusive \n",
    "- range() and enumerate() only work with structures that loop."
   ]
  },
  {
   "cell_type": "markdown",
   "id": "47342449",
   "metadata": {},
   "source": [
    "We can print superhero names using range() as well. "
   ]
  },
  {
   "cell_type": "code",
   "execution_count": 7,
   "id": "69261e78",
   "metadata": {},
   "outputs": [
    {
     "name": "stdout",
     "output_type": "stream",
     "text": [
      "Natasha Romanoff is Marvel's Black Widow!\n",
      "Tony Stark is Marvel's Iron Man!\n",
      "Stephen Strange is Marvel's Doctor Strange!\n"
     ]
    }
   ],
   "source": [
    "for i in range(len(real_names)):\n",
    "    real_name = real_names[i]\n",
    "    super_name = super_names[i]        \n",
    "    print(f\"{real_name} is Marvel's {super_name}!\")"
   ]
  },
  {
   "cell_type": "markdown",
   "id": "1d1611ee",
   "metadata": {},
   "source": [
    "# 2 while"
   ]
  },
  {
   "cell_type": "markdown",
   "id": "adcbd96d",
   "metadata": {},
   "source": [
    "Unlike for loop, there might be a need to manually increment a counter. "
   ]
  },
  {
   "cell_type": "code",
   "execution_count": 8,
   "id": "f6723e06",
   "metadata": {},
   "outputs": [
    {
     "name": "stdout",
     "output_type": "stream",
     "text": [
      "0\n",
      "1\n",
      "2\n",
      "3\n",
      "4\n"
     ]
    }
   ],
   "source": [
    "number = 0\n",
    "\n",
    "while number < 5:\n",
    "    print(number)\n",
    "    number += 1"
   ]
  },
  {
   "cell_type": "markdown",
   "id": "63105797",
   "metadata": {},
   "source": [
    "A while loop is set up so that it keeps on running while a condition is True. So the while loop checks the condition at the start and begins another iteration if it is True (so you don't need to know beforehand how many iterations are needed). \n",
    "\n"
   ]
  }
 ],
 "metadata": {
  "kernelspec": {
   "display_name": "Python 3 (ipykernel)",
   "language": "python",
   "name": "python3"
  },
  "language_info": {
   "codemirror_mode": {
    "name": "ipython",
    "version": 3
   },
   "file_extension": ".py",
   "mimetype": "text/x-python",
   "name": "python",
   "nbconvert_exporter": "python",
   "pygments_lexer": "ipython3",
   "version": "3.11.5"
  },
  "toc": {
   "base_numbering": 1,
   "nav_menu": {},
   "number_sections": true,
   "sideBar": true,
   "skip_h1_title": false,
   "title_cell": "Table of Contents",
   "title_sidebar": "Contents",
   "toc_cell": false,
   "toc_position": {},
   "toc_section_display": true,
   "toc_window_display": false
  },
  "vscode": {
   "interpreter": {
    "hash": "31f2aee4e71d21fbe5cf8b01ff0e069b9275f58929596ceb00d14d90e3e16cd6"
   }
  }
 },
 "nbformat": 4,
 "nbformat_minor": 5
}
