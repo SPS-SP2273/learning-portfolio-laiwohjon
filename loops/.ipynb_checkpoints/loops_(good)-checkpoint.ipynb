{
 "cells": [
  {
   "cell_type": "markdown",
   "id": "123456",
   "metadata": {},
   "source": [
    "<div style=\"text-align:left;font-size:2em\"><span style=\"font-weight:bolder;font-size:1.25em\">SP2273 | Learning Portfolio</span><br><br><span style=\"font-weight:bold;color:darkred\">Loops (Good)</span></div>"
   ]
  },
  {
   "cell_type": "markdown",
   "id": "9edd69a0",
   "metadata": {},
   "source": [
    "# What to expect in this chapter"
   ]
  },
  {
   "cell_type": "markdown",
   "id": "9b3d8751",
   "metadata": {},
   "source": [
    "# 1 Interrupting the flow"
   ]
  },
  {
   "cell_type": "markdown",
   "id": "fb576c1a",
   "metadata": {},
   "source": [
    "Break and continue allows us to change the flow of a loop. \n",
    "\n",
    "Break: Break-out of loop and terminate it. We typically use it with an \"if\" statement so that we break out if a certain condition is met. "
   ]
  },
  {
   "cell_type": "code",
   "execution_count": 25,
   "id": "e6082c31",
   "metadata": {},
   "outputs": [
    {
     "name": "stdout",
     "output_type": "stream",
     "text": [
      "0 1\n",
      "1 10\n",
      "2 100\n",
      "3 1000\n"
     ]
    }
   ],
   "source": [
    "for power in range(5):\n",
    "    number = 10**power\n",
    "    if number > 5000:\n",
    "        break\n",
    "    print(power, number)"
   ]
  },
  {
   "cell_type": "markdown",
   "id": "8b1f2c74",
   "metadata": {},
   "source": [
    "Sometimes we want to skip an iteration and just move on to the next. continue allows us to do this by skipping everything after it."
   ]
  },
  {
   "cell_type": "code",
   "execution_count": 27,
   "id": "212f319b",
   "metadata": {},
   "outputs": [
    {
     "name": "stdout",
     "output_type": "stream",
     "text": [
      "0 1\n",
      "1 10\n",
      "2 100\n",
      "4 10000\n"
     ]
    }
   ],
   "source": [
    "for power in range(5):\n",
    "    if power == 3:\n",
    "        continue        # Don't proceed further\n",
    "                        # IN THE CURRENT LOOP\n",
    "                        # if i == 3\n",
    "    number = 10**power\n",
    "    print(power, number)"
   ]
  },
  {
   "cell_type": "code",
   "execution_count": 28,
   "id": "84bc60e7",
   "metadata": {},
   "outputs": [
    {
     "name": "stdout",
     "output_type": "stream",
     "text": [
      "1\n",
      "3\n",
      "5\n",
      "7\n",
      "9\n"
     ]
    }
   ],
   "source": [
    "for number in range(10):\n",
    "    # Don't proceed if the remainder is zero\n",
    "    # I.e. if the number is even\n",
    "    if number % 2 == 0:\n",
    "        continue\n",
    "    print(number)"
   ]
  },
  {
   "cell_type": "code",
   "execution_count": 29,
   "id": "08451eef",
   "metadata": {},
   "outputs": [
    {
     "name": "stdout",
     "output_type": "stream",
     "text": [
      "0\n",
      "1\n",
      "2\n",
      "3\n",
      "4\n"
     ]
    }
   ],
   "source": [
    "number=0\n",
    "\n",
    "while True:\n",
    "    print(number)\n",
    "    number += 1\n",
    "    if number > 4: break"
   ]
  },
  {
   "cell_type": "markdown",
   "id": "7f8a90c1",
   "metadata": {},
   "source": [
    "# 2 List comprehension!"
   ]
  },
  {
   "cell_type": "markdown",
   "id": "efce8591",
   "metadata": {},
   "source": [
    "## 2.1 Basic syntax"
   ]
  },
  {
   "cell_type": "markdown",
   "id": "5f46cd8a",
   "metadata": {},
   "source": [
    "According to Wikipedia: In computer science, syntactic sugar is syntax within a programming language that is designed to make things easier to read or to express. It makes the language \"sweeter\" for human use: things can be expressed more clearly, more concisely, or in an alternative style that some may prefer."
   ]
  },
  {
   "cell_type": "markdown",
   "id": "c731cad0",
   "metadata": {},
   "source": [
    "For the following code, you just need to put the thing you want as an output at the front. "
   ]
  },
  {
   "cell_type": "code",
   "execution_count": 1,
   "id": "545e0530",
   "metadata": {},
   "outputs": [
    {
     "name": "stdout",
     "output_type": "stream",
     "text": [
      "0\n",
      "1\n",
      "2\n",
      "3\n",
      "4\n"
     ]
    }
   ],
   "source": [
    "for number in range(5):\n",
    "    print(number)"
   ]
  },
  {
   "cell_type": "markdown",
   "id": "b250713c",
   "metadata": {},
   "source": [
    "THe following command tells the computer what to do for each of the elements in a given range"
   ]
  },
  {
   "cell_type": "code",
   "execution_count": 5,
   "id": "509b147f",
   "metadata": {},
   "outputs": [
    {
     "data": {
      "text/plain": [
       "[0, 1, 2, 3, 4]"
      ]
     },
     "execution_count": 5,
     "metadata": {},
     "output_type": "execute_result"
    }
   ],
   "source": [
    "[number for number in range(5)]"
   ]
  },
  {
   "cell_type": "markdown",
   "id": "ef899854",
   "metadata": {},
   "source": [
    "Following command takes each number in range(5) and makes it a power of 2. "
   ]
  },
  {
   "cell_type": "code",
   "execution_count": 6,
   "id": "801c9e26",
   "metadata": {},
   "outputs": [
    {
     "data": {
      "text/plain": [
       "[1, 2, 4, 8, 16]"
      ]
     },
     "execution_count": 6,
     "metadata": {},
     "output_type": "execute_result"
    }
   ],
   "source": [
    "[2**number for number in range(5)]"
   ]
  },
  {
   "cell_type": "markdown",
   "id": "c833ee1a",
   "metadata": {},
   "source": [
    "## 2.2 List comprehension with conditions"
   ]
  },
  {
   "cell_type": "markdown",
   "id": "18afb768",
   "metadata": {},
   "source": [
    "We can specify a condition in list comprehension. "
   ]
  },
  {
   "cell_type": "code",
   "execution_count": 30,
   "id": "fa4627eb",
   "metadata": {},
   "outputs": [
    {
     "data": {
      "text/plain": [
       "[1, 4, 16, 64, 256]"
      ]
     },
     "execution_count": 30,
     "metadata": {},
     "output_type": "execute_result"
    }
   ],
   "source": [
    "[2**power for power in range(10) if power%2 == 0]\n",
    "#Take even numbers between 0 and 10(exclusive) and makes it a power of 2"
   ]
  },
  {
   "cell_type": "markdown",
   "id": "53935cfe",
   "metadata": {},
   "source": [
    "# 3 Other useful stuff"
   ]
  },
  {
   "cell_type": "markdown",
   "id": "ee6310cd",
   "metadata": {},
   "source": [
    "## 3.1 for with unpacking"
   ]
  },
  {
   "cell_type": "code",
   "execution_count": 9,
   "id": "cbb82ef4",
   "metadata": {},
   "outputs": [
    {
     "name": "stdout",
     "output_type": "stream",
     "text": [
      "x = 1, y = 2, z = 3\n"
     ]
    }
   ],
   "source": [
    "x, y, z=[1, 2, 3]\n",
    "print(f'x = {x}, y = {y}, z = {z}')"
   ]
  },
  {
   "cell_type": "code",
   "execution_count": 10,
   "id": "eff4b0d3",
   "metadata": {},
   "outputs": [
    {
     "name": "stdout",
     "output_type": "stream",
     "text": [
      "x = 123, y = hello, z = True\n"
     ]
    }
   ],
   "source": [
    "x, y, z=[\"123\", \"hello\", True]\n",
    "print(f'x = {x}, y = {y}, z = {z}')"
   ]
  },
  {
   "cell_type": "markdown",
   "id": "3206111d",
   "metadata": {},
   "source": [
    "Alternate method:"
   ]
  },
  {
   "cell_type": "code",
   "execution_count": 12,
   "id": "d4945528",
   "metadata": {},
   "outputs": [
    {
     "name": "stdout",
     "output_type": "stream",
     "text": [
      "23\n"
     ]
    }
   ],
   "source": [
    "x = [34, 29, 23, 90][2]\n",
    "print(x)"
   ]
  },
  {
   "cell_type": "code",
   "execution_count": 18,
   "id": "3e2ea944",
   "metadata": {},
   "outputs": [
    {
     "name": "stdout",
     "output_type": "stream",
     "text": [
      "a is the 1st letter in the alphabet\n",
      "b is the 2st letter in the alphabet\n",
      "c is the 3st letter in the alphabet\n"
     ]
    }
   ],
   "source": [
    "order_of_numbers = [\n",
    "    [\"a\", \"1\"],\n",
    "    [\"b\", \"2\"],\n",
    "    [\"c\", \"3\"]\n",
    "]\n",
    "\n",
    "for letter, number in order_of_numbers:\n",
    "    print(f\"{letter} is the {number}st letter in the alphabet\")"
   ]
  },
  {
   "cell_type": "markdown",
   "id": "c16a0bcd",
   "metadata": {},
   "source": [
    "## 3.2 for with zip()"
   ]
  },
  {
   "cell_type": "markdown",
   "id": "48d6ab64",
   "metadata": {},
   "source": [
    "zip() function is used to combine multiple iterables (e.g., lists, tuples, or strings) element-wise.(A tuple is an immutable sequence of Values - used for representing fixed collections of values (eg RGB values)) "
   ]
  },
  {
   "cell_type": "code",
   "execution_count": 15,
   "id": "16d42bec",
   "metadata": {},
   "outputs": [
    {
     "name": "stdout",
     "output_type": "stream",
     "text": [
      "Natasha Romanoff is Marvel's Black Widow!\n",
      "Tony Stark is Marvel's Iron Man!\n",
      "Stephen Strange is Marvel's Doctor Strange!\n"
     ]
    }
   ],
   "source": [
    "super_names = [\"Black Widow\", \"Iron Man\", \"Doctor Strange\"]\n",
    "real_names = [\"Natasha Romanoff\", \"Tony Stark\", \"Stephen Strange\"]\n",
    "\n",
    "for real_name, super_name in zip(real_names,super_names):\n",
    "    print(f\"{real_name} is Marvel's {super_name}!\")"
   ]
  },
  {
   "cell_type": "markdown",
   "id": "fc07c37b",
   "metadata": {},
   "source": [
    "## 3.3 for with dictionaries"
   ]
  },
  {
   "cell_type": "code",
   "execution_count": 20,
   "id": "7f84cec4",
   "metadata": {},
   "outputs": [
    {
     "name": "stdout",
     "output_type": "stream",
     "text": [
      "Natasha Romanoff is Marvel's Black Widow!\n",
      "Tony Stark is Marvel's Iron Man!\n",
      "Stephen Strange is Marvel's Doctor Strange!\n",
      "dict_keys(['Natasha Romanoff', 'Tony Stark', 'Stephen Strange'])\n"
     ]
    }
   ],
   "source": [
    "superhero_info={\"Natasha Romanoff\": \"Black Widow\",\n",
    "                \"Tony Stark\": \"Iron Man\",\n",
    "                \"Stephen Strange\": \"Doctor Strange\"}\n",
    "\n",
    "for key, value in superhero_info.items():\n",
    "    print(f\"{key} is Marvel's {value}!\")\n",
    "    \n",
    "print(superhero_info.keys())"
   ]
  },
  {
   "cell_type": "markdown",
   "id": "a46280c9",
   "metadata": {},
   "source": [
    "You can replace key and value with other variables (eg \"a\" and \"b\". "
   ]
  },
  {
   "cell_type": "code",
   "execution_count": 24,
   "id": "9c7d0c25",
   "metadata": {},
   "outputs": [
    {
     "name": "stdout",
     "output_type": "stream",
     "text": [
      "Natasha Romanoff is Marvel's Black Widow!\n",
      "Tony Stark is Marvel's Iron Man!\n",
      "Stephen Strange is Marvel's Doctor Strange!\n"
     ]
    }
   ],
   "source": [
    "superhero_info={\"Natasha Romanoff\": \"Black Widow\",\n",
    "                \"Tony Stark\": \"Iron Man\",\n",
    "                \"Stephen Strange\": \"Doctor Strange\"}\n",
    "\n",
    "for a, b in superhero_info.items():\n",
    "    print(f\"{a} is Marvel's {b}!\")"
   ]
  },
  {
   "cell_type": "markdown",
   "id": "75d47f8a",
   "metadata": {},
   "source": [
    "## Footnotes"
   ]
  }
 ],
 "metadata": {
  "kernelspec": {
   "display_name": "Python 3 (ipykernel)",
   "language": "python",
   "name": "python3"
  },
  "language_info": {
   "codemirror_mode": {
    "name": "ipython",
    "version": 3
   },
   "file_extension": ".py",
   "mimetype": "text/x-python",
   "name": "python",
   "nbconvert_exporter": "python",
   "pygments_lexer": "ipython3",
   "version": "3.11.5"
  },
  "toc": {
   "base_numbering": 1,
   "nav_menu": {},
   "number_sections": true,
   "sideBar": true,
   "skip_h1_title": false,
   "title_cell": "Table of Contents",
   "title_sidebar": "Contents",
   "toc_cell": false,
   "toc_position": {},
   "toc_section_display": true,
   "toc_window_display": false
  },
  "vscode": {
   "interpreter": {
    "hash": "31f2aee4e71d21fbe5cf8b01ff0e069b9275f58929596ceb00d14d90e3e16cd6"
   }
  }
 },
 "nbformat": 4,
 "nbformat_minor": 5
}
