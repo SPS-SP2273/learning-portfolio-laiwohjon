{
 "cells": [
  {
   "cell_type": "markdown",
   "id": "123456",
   "metadata": {},
   "source": [
    "<div style=\"text-align:left;font-size:2em\"><span style=\"font-weight:bolder;font-size:1.25em\">SP2273 | Learning Portfolio</span><br><br><span style=\"font-weight:bold;color:darkred\">Fundamentals (Good) Exercises</span></div>"
   ]
  },
  {
   "cell_type": "code",
   "execution_count": null,
   "id": "3b3de918",
   "metadata": {},
   "outputs": [],
   "source": [
    "user_input = input('Give me a number?')\n",
    "print('You entered', user_input)"
   ]
  },
  {
   "cell_type": "code",
   "execution_count": 32,
   "id": "bb5b32cc",
   "metadata": {},
   "outputs": [
    {
     "name": "stdout",
     "output_type": "stream",
     "text": [
      "How much did you score (out of hundred): 90\n",
      "Your letter grade is: A. Very good!\n"
     ]
    }
   ],
   "source": [
    "def print_grade():\n",
    "    student_score = int(input(\"How much did you score (out of hundred): \"))\n",
    "\n",
    "    if 70 <= student_score <=100:\n",
    "        grade = \"A\"\n",
    "        comment = \"Very good!\"\n",
    "    elif 50 <= student_score <=69:\n",
    "        grade = \"B\"\n",
    "        comment = \"Not bad!\"\n",
    "    elif 35 <= student_score <= 49:\n",
    "        grade = \"C\"\n",
    "        comment = \"Work harder!\"\n",
    "    elif 0 <= student_score <= 34:\n",
    "        grade = \"Fail\"\n",
    "        comment = \"Skill issue.\"\n",
    "    else:\n",
    "        print(\"Please key in an integer between 0 and 100.\")\n",
    "        return print_grade()\n",
    "        \n",
    "    print(f\"Your letter grade is: {grade}. {comment}\")\n",
    "    \n",
    "\n",
    "print_grade()\n",
    "\n",
    "#print(f\"Your letter grade is: {grade}. {comment}\" ) This won't work because grade and comment is only stored when function\n",
    "#is run. grade and comment are localised variables, not global variables. "
   ]
  },
  {
   "cell_type": "code",
   "execution_count": null,
   "id": "b63760cc",
   "metadata": {},
   "outputs": [],
   "source": []
  }
 ],
 "metadata": {
  "kernelspec": {
   "display_name": "Python 3 (ipykernel)",
   "language": "python",
   "name": "python3"
  },
  "language_info": {
   "codemirror_mode": {
    "name": "ipython",
    "version": 3
   },
   "file_extension": ".py",
   "mimetype": "text/x-python",
   "name": "python",
   "nbconvert_exporter": "python",
   "pygments_lexer": "ipython3",
   "version": "3.11.5"
  },
  "toc": {
   "base_numbering": 1,
   "nav_menu": {},
   "number_sections": true,
   "sideBar": true,
   "skip_h1_title": false,
   "title_cell": "Table of Contents",
   "title_sidebar": "Contents",
   "toc_cell": false,
   "toc_position": {},
   "toc_section_display": true,
   "toc_window_display": false
  },
  "vscode": {
   "interpreter": {
    "hash": "31f2aee4e71d21fbe5cf8b01ff0e069b9275f58929596ceb00d14d90e3e16cd6"
   }
  }
 },
 "nbformat": 4,
 "nbformat_minor": 5
}
