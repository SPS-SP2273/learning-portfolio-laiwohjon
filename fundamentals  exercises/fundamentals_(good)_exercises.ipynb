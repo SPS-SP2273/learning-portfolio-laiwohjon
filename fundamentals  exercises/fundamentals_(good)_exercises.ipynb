{
 "cells": [
  {
   "cell_type": "markdown",
   "id": "123456",
   "metadata": {},
   "source": [
    "<div style=\"text-align:left;font-size:2em\"><span style=\"font-weight:bolder;font-size:1.25em\">SP2273 | Learning Portfolio</span><br><br><span style=\"font-weight:bold;color:darkred\">Fundamentals (Good) Exercises</span></div>"
   ]
  },
  {
   "cell_type": "code",
   "execution_count": null,
   "id": "3b3de918",
   "metadata": {},
   "outputs": [],
   "source": [
    "user_input = input('Give me a number?')\n",
    "print('You entered', user_input)"
   ]
  },
  {
   "cell_type": "code",
   "execution_count": 2,
   "id": "bb5b32cc",
   "metadata": {},
   "outputs": [
    {
     "name": "stdout",
     "output_type": "stream",
     "text": [
      "How much did you score (out of hundred): we\n"
     ]
    },
    {
     "ename": "ValueError",
     "evalue": "invalid literal for int() with base 10: 'we'",
     "output_type": "error",
     "traceback": [
      "\u001b[1;31m---------------------------------------------------------------------------\u001b[0m",
      "\u001b[1;31mValueError\u001b[0m                                Traceback (most recent call last)",
      "Cell \u001b[1;32mIn[2], line 23\u001b[0m\n\u001b[0;32m     18\u001b[0m         \u001b[38;5;28;01mreturn\u001b[39;00m print_grade()\n\u001b[0;32m     20\u001b[0m     \u001b[38;5;28mprint\u001b[39m(\u001b[38;5;124mf\u001b[39m\u001b[38;5;124m\"\u001b[39m\u001b[38;5;124mYour letter grade is: \u001b[39m\u001b[38;5;132;01m{\u001b[39;00mgrade\u001b[38;5;132;01m}\u001b[39;00m\u001b[38;5;124m. \u001b[39m\u001b[38;5;132;01m{\u001b[39;00mcomment\u001b[38;5;132;01m}\u001b[39;00m\u001b[38;5;124m\"\u001b[39m)\n\u001b[1;32m---> 23\u001b[0m \u001b[43mprint_grade\u001b[49m\u001b[43m(\u001b[49m\u001b[43m)\u001b[49m\n\u001b[0;32m     25\u001b[0m \u001b[38;5;66;03m#print(f\"Your letter grade is: {grade}. {comment}\" ) This won't work because grade and comment is only stored when function\u001b[39;00m\n\u001b[0;32m     26\u001b[0m \u001b[38;5;66;03m#is run. grade and comment are localised variables, not global variables. \u001b[39;00m\n",
      "Cell \u001b[1;32mIn[2], line 2\u001b[0m, in \u001b[0;36mprint_grade\u001b[1;34m()\u001b[0m\n\u001b[0;32m      1\u001b[0m \u001b[38;5;28;01mdef\u001b[39;00m \u001b[38;5;21mprint_grade\u001b[39m():\n\u001b[1;32m----> 2\u001b[0m     student_score \u001b[38;5;241m=\u001b[39m \u001b[38;5;28;43mint\u001b[39;49m\u001b[43m(\u001b[49m\u001b[38;5;28;43minput\u001b[39;49m\u001b[43m(\u001b[49m\u001b[38;5;124;43m\"\u001b[39;49m\u001b[38;5;124;43mHow much did you score (out of hundred): \u001b[39;49m\u001b[38;5;124;43m\"\u001b[39;49m\u001b[43m)\u001b[49m\u001b[43m)\u001b[49m\n\u001b[0;32m      4\u001b[0m     \u001b[38;5;28;01mif\u001b[39;00m \u001b[38;5;241m70\u001b[39m \u001b[38;5;241m<\u001b[39m\u001b[38;5;241m=\u001b[39m student_score \u001b[38;5;241m<\u001b[39m\u001b[38;5;241m=\u001b[39m\u001b[38;5;241m100\u001b[39m:\n\u001b[0;32m      5\u001b[0m         grade \u001b[38;5;241m=\u001b[39m \u001b[38;5;124m\"\u001b[39m\u001b[38;5;124mA\u001b[39m\u001b[38;5;124m\"\u001b[39m\n",
      "\u001b[1;31mValueError\u001b[0m: invalid literal for int() with base 10: 'we'"
     ]
    }
   ],
   "source": [
    "def print_grade():\n",
    "    student_score_str = input(\"How much did you score (out of hundred): \")\n",
    "    try:\n",
    "        student_score = int(student_score_str)\n",
    "    except:\n",
    "        print(\"Please key in an integer between 0 and 100.\")\n",
    "        print_grade\n",
    "\n",
    "    if 70 <= student_score <=100:\n",
    "        grade = \"A\"\n",
    "        comment = \"Very good!\"\n",
    "    elif 50 <= student_score < 70:\n",
    "        grade = \"B\"\n",
    "        comment = \"Not bad!\"\n",
    "    elif 35 <= student_score < 50:\n",
    "        grade = \"C\"\n",
    "        comment = \"Work harder!\"\n",
    "    elif 0 <= student_score < 35:\n",
    "        grade = \"Fail\"\n",
    "        comment = \"Skill issue.\"\n",
    "    else:\n",
    "        print(\"Please key in an integer between 0 and 100.\")\n",
    "        return print_grade()\n",
    "        \n",
    "    print(f\"Your letter grade is: {grade}. {comment}\")\n",
    "    \n",
    "\n",
    "print_grade()\n",
    "\n",
    "#print(f\"Your letter grade is: {grade}. {comment}\" ) This won't work because grade and comment is only stored when function\n",
    "#is run. grade and comment are localised variables, not global variables. "
   ]
  },
  {
   "cell_type": "code",
   "execution_count": null,
   "id": "b63760cc",
   "metadata": {},
   "outputs": [],
   "source": []
  }
 ],
 "metadata": {
  "kernelspec": {
   "display_name": "Python 3 (ipykernel)",
   "language": "python",
   "name": "python3"
  },
  "language_info": {
   "codemirror_mode": {
    "name": "ipython",
    "version": 3
   },
   "file_extension": ".py",
   "mimetype": "text/x-python",
   "name": "python",
   "nbconvert_exporter": "python",
   "pygments_lexer": "ipython3",
   "version": "3.11.5"
  },
  "toc": {
   "base_numbering": 1,
   "nav_menu": {},
   "number_sections": true,
   "sideBar": true,
   "skip_h1_title": false,
   "title_cell": "Table of Contents",
   "title_sidebar": "Contents",
   "toc_cell": false,
   "toc_position": {},
   "toc_section_display": true,
   "toc_window_display": false
  },
  "vscode": {
   "interpreter": {
    "hash": "31f2aee4e71d21fbe5cf8b01ff0e069b9275f58929596ceb00d14d90e3e16cd6"
   }
  }
 },
 "nbformat": 4,
 "nbformat_minor": 5
}
