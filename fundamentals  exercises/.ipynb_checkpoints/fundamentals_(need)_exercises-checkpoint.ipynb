{
 "cells": [
  {
   "cell_type": "markdown",
   "id": "123456",
   "metadata": {},
   "source": [
    "<div style=\"text-align:left;font-size:2em\"><span style=\"font-weight:bolder;font-size:1.25em\">SP2273 | Learning Portfolio</span><br><br><span style=\"font-weight:bold;color:darkred\">Fundamentals (Need) Exercises</span></div>"
   ]
  },
  {
   "cell_type": "markdown",
   "id": "421cf8bf",
   "metadata": {},
   "source": [
    "1. Purely from memory, list as many of the basic Python features I mentioned in my notes as you remember.\n",
    "\n",
    "- print()\n",
    "- sorted()\n",
    "- Arithmetic functions (*, +, -, /, **, etc)\n",
    "- / (escape sequence)\n",
    "- f'{text}'\n",
    "- name.upper()\n",
    "- name.lower()\n",
    "- *if - else*\n",
    "- *\"=\" assignment*\n",
    "- *str(), int(), float() etc*\n",
    "- *list*\n",
    "- *import math*\n",
    "- *\".\" indicate ownership \n",
    "- .split()\n",
    "\n",
    "2. Now, visit the notes and complete the list with the ones you missed. Indicate those you missed by putting them in italics.\n",
    "\n"
   ]
  },
  {
   "cell_type": "markdown",
   "id": "c1d0deb9",
   "metadata": {},
   "source": [
    "### Exercise 2 (Debug me)"
   ]
  },
  {
   "cell_type": "markdown",
   "id": "63d40616",
   "metadata": {},
   "source": [
    "Faulty code:"
   ]
  },
  {
   "cell_type": "code",
   "execution_count": 2,
   "id": "343a1500",
   "metadata": {},
   "outputs": [
    {
     "ename": "IndentationError",
     "evalue": "unindent does not match any outer indentation level (<tokenize>, line 3)",
     "output_type": "error",
     "traceback": [
      "\u001b[1;36m  File \u001b[1;32m<tokenize>:3\u001b[1;36m\u001b[0m\n\u001b[1;33m    Print(x, y, z)\u001b[0m\n\u001b[1;37m    ^\u001b[0m\n\u001b[1;31mIndentationError\u001b[0m\u001b[1;31m:\u001b[0m unindent does not match any outer indentation level\n"
     ]
    }
   ],
   "source": [
    "x, y = 3, 4\n",
    "        z = sqrt(x*2 + y**2)\n",
    "    Print(x, y, z)"
   ]
  },
  {
   "cell_type": "markdown",
   "id": "d105ebab",
   "metadata": {},
   "source": [
    "Fixed code:"
   ]
  },
  {
   "cell_type": "code",
   "execution_count": 3,
   "id": "0ebc720e",
   "metadata": {},
   "outputs": [
    {
     "name": "stdout",
     "output_type": "stream",
     "text": [
      "3 4 5.0\n"
     ]
    }
   ],
   "source": [
    "import math \n",
    "\n",
    "x, y = 3, 4\n",
    "z = math.sqrt(x**2 + y**2)\n",
    "print(x, y, z)"
   ]
  },
  {
   "cell_type": "markdown",
   "id": "a007dd71",
   "metadata": {},
   "source": [
    "### Exercise 3 (In your own words) "
   ]
  },
  {
   "cell_type": "markdown",
   "id": "3cac6ab8",
   "metadata": {},
   "source": [
    "| #    |  Term   |    Description |\n",
    "| :--- | :--: | ---: |\n",
    "| 1   |  Function  |   Something that takes in something as input and return something as output.  |\n",
    "| 2   |   Argument |   Something that is passed into the function |\n",
    "| 3   |  Comments  |   Something to help the humans understand the code but won't be executed by the program |\n",
    "| 4    |  Indentations   |    Useful to show that one block of code is encapsulated within another. |\n",
    "| 5 | Packages | Collection of code that other smart people have written to help you do more stuff beyond python's basic functionality |\n",
    "| 6   |  `.`  |   A symbol to represent ownership, where the function after the dot belongs to the package preceding the dot. |\n",
    "| 7   |   `:` |   Represent the end of a command (eg if x>0:)and may be used to separate different specifications (for a list for eg)ChatGPT3.5 output:In Python, the \":\" (colon) serves as a delimiter to indicate the start of an indented code block, such as in loops, conditional statements, functions, and classes, providing a clear structure to define the scope and execution context of the associated code.|\n",
    "| 8   |  `[]`  |   Empty list, can be used to store elements |\n",
    "| 9   |   `[[[]]]` |   empty list within an empty list within an empty list |\n",
    "| 10   |  `{}`  | Used to define dictionaries with keys and their associated values.   |"
   ]
  },
  {
   "cell_type": "markdown",
   "id": "f8adfd04",
   "metadata": {},
   "source": [
    "### Exercise 4 (More than one way to divide)"
   ]
  },
  {
   "cell_type": "markdown",
   "id": "62ff0bf2",
   "metadata": {},
   "source": [
    "5/2           # This returns a float of 5 divided by 2"
   ]
  },
  {
   "cell_type": "code",
   "execution_count": 4,
   "id": "addf4056",
   "metadata": {},
   "outputs": [
    {
     "data": {
      "text/plain": [
       "2.5"
      ]
     },
     "execution_count": 4,
     "metadata": {},
     "output_type": "execute_result"
    }
   ],
   "source": [
    "5/2 "
   ]
  },
  {
   "cell_type": "markdown",
   "id": "070a3106",
   "metadata": {},
   "source": [
    "5//2          # This divide 5 by 2 and round down the result to the nearest integer.  "
   ]
  },
  {
   "cell_type": "code",
   "execution_count": 5,
   "id": "fda0087b",
   "metadata": {},
   "outputs": [
    {
     "data": {
      "text/plain": [
       "1"
      ]
     },
     "execution_count": 5,
     "metadata": {},
     "output_type": "execute_result"
    }
   ],
   "source": [
    "5//3"
   ]
  },
  {
   "cell_type": "markdown",
   "id": "c5f23d46",
   "metadata": {},
   "source": [
    "5%2           # This finds the remainder when 5 is divided by 2. "
   ]
  },
  {
   "cell_type": "code",
   "execution_count": 8,
   "id": "ff45ab88",
   "metadata": {},
   "outputs": [
    {
     "data": {
      "text/plain": [
       "1"
      ]
     },
     "execution_count": 8,
     "metadata": {},
     "output_type": "execute_result"
    }
   ],
   "source": [
    "5%2\n"
   ]
  },
  {
   "cell_type": "code",
   "execution_count": 9,
   "id": "98099c0a",
   "metadata": {},
   "outputs": [
    {
     "data": {
      "text/plain": [
       "3"
      ]
     },
     "execution_count": 9,
     "metadata": {},
     "output_type": "execute_result"
    }
   ],
   "source": [
    "7%4"
   ]
  }
 ],
 "metadata": {
  "kernelspec": {
   "display_name": "Python 3 (ipykernel)",
   "language": "python",
   "name": "python3"
  },
  "language_info": {
   "codemirror_mode": {
    "name": "ipython",
    "version": 3
   },
   "file_extension": ".py",
   "mimetype": "text/x-python",
   "name": "python",
   "nbconvert_exporter": "python",
   "pygments_lexer": "ipython3",
   "version": "3.11.5"
  },
  "toc": {
   "base_numbering": 1,
   "nav_menu": {},
   "number_sections": true,
   "sideBar": true,
   "skip_h1_title": false,
   "title_cell": "Table of Contents",
   "title_sidebar": "Contents",
   "toc_cell": false,
   "toc_position": {},
   "toc_section_display": true,
   "toc_window_display": false
  },
  "vscode": {
   "interpreter": {
    "hash": "31f2aee4e71d21fbe5cf8b01ff0e069b9275f58929596ceb00d14d90e3e16cd6"
   }
  }
 },
 "nbformat": 4,
 "nbformat_minor": 5
}
