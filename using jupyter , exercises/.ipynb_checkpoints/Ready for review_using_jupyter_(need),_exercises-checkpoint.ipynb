{
 "cells": [
  {
   "cell_type": "markdown",
   "id": "123456",
   "metadata": {},
   "source": [
    "<div style=\"text-align:left;font-size:2em\"><span style=\"font-weight:bolder;font-size:1.25em\">SP2273 | Learning Portfolio</span><br><br><span style=\"font-weight:bold;color:darkred\">Using Jupyter (Need), Exercises</span></div>"
   ]
  },
  {
   "cell_type": "markdown",
   "id": "57871ea7",
   "metadata": {},
   "source": [
    "## Quadratic Equations"
   ]
  },
  {
   "cell_type": "markdown",
   "id": "fbdd8fc2",
   "metadata": {},
   "source": [
    "### Introduction"
   ]
  },
  {
   "attachments": {},
   "cell_type": "markdown",
   "id": "eebaf340",
   "metadata": {},
   "source": [
    "The general form of a quadratic equation is:\n",
    "\n",
    "$$ax^2 + bx + c = 0 $$\n"
   ]
  },
  {
   "cell_type": "markdown",
   "id": "90dbc58e",
   "metadata": {},
   "source": [
    "### Solutions"
   ]
  },
  {
   "cell_type": "markdown",
   "id": "64e5f46a",
   "metadata": {},
   "source": [
    "Provided $a \\ne 0$\n",
    ", we can use an elementary algebraic method called completing the square to show that a quadratic equation has the following solution:\n",
    "\n",
    "$$\n",
    "x = \\dfrac{-b \\pm \\sqrt{b^2-4ac}}{2a}\n",
    "$$\n",
    "\n",
    "Completing the square:\n",
    "$$ a(x^2 + (\\dfrac{b}{a})x) + c = 0 $$\n",
    "\n",
    "$$ a(x^2 + (\\dfrac{b}{a})x +(b/2a)^2 - (b/2a)^2) + c = 0 $$\n",
    "\n",
    "$$a(x+ \\dfrac{b}{2a})^2 + \\dfrac{4ac - b^2}{4a} = 0 $$\n",
    "\n",
    "After some manipulation (proof left as an exercise to the reader):\n",
    "\n",
    "$$ x = \\dfrac{b}{2a} \\pm \\dfrac{1}{2a}(\\sqrt{b^2 - 4ac}))$$\n",
    "\n",
    "Which gives:\n",
    "\n",
    "$$\n",
    "x = \\dfrac{-b \\pm \\sqrt{b^2-4ac}}{2a}\n",
    "$$\n",
    "\n",
    "\n",
    "\n",
    "\n",
    "\n",
    "\n"
   ]
  },
  {
   "cell_type": "markdown",
   "id": "97557d16",
   "metadata": {},
   "source": [
    "`\\begin{align*} \n",
    "2x - 5y &=  8 \\\\ \n",
    "3x &+ 9y =  -12\n",
    "\\end{align*}`\n",
    "\n",
    "Equations will alight whereever the `&` sign is \n",
    "\n",
    "\\begin{align*} \n",
    "2x - 5y &=  8 \\\\ \n",
    "3x + 9y &=  -12\n",
    "\\end{align*}"
   ]
  },
  {
   "cell_type": "markdown",
   "id": "ebdd6aa5",
   "metadata": {},
   "source": [
    "### Discriminant"
   ]
  },
  {
   "cell_type": "markdown",
   "id": "0f69a488",
   "metadata": {},
   "source": [
    "Discriminant: $\\Delta = b^2 - 4ac$\n"
   ]
  },
  {
   "cell_type": "markdown",
   "id": "f329762a",
   "metadata": {},
   "source": [
    "| Discriminant   |  Roots |\n",
    "| :--- | ---: |\n",
    "|$\\Delta=b^2-4ac$=0| A single solution of $\\dfrac{-b}{2a}$|\n",
    "|$\\Delta = b^2 - 4ac$ > 0|Two distinct solutions|\n",
    "|$\\Delta = b^2 - 4ac$ < 0|No real solutions; both are complex.|"
   ]
  },
  {
   "cell_type": "markdown",
   "id": "6ce49369",
   "metadata": {},
   "source": [
    "# Exercise 2 (in your own words)"
   ]
  },
  {
   "cell_type": "markdown",
   "id": "462ecd0d",
   "metadata": {},
   "source": [
    "1) What is a git repository?\n",
    "\n",
    "A place for storing files and collaborating. You can see version histories and build on each other's work.\n",
    "\n",
    "2) Git keeps tracks of __BLANK__ in the files in our repository\n",
    "\n",
    "Changes?\n",
    "\n",
    "3) What is a commit? \n",
    "\n",
    "It represents the changes you have made to a file. When you commit, it means you save these changes.\n",
    "\n",
    "4) What is a push?\n",
    "\n",
    "A push is the act of sending your changes to the cloud version of Github. Only then can your collaborators access the modified version of the file.\n",
    "\n",
    "5) What is a pull?\n",
    "\n",
    "A pull is the act of fetching changes from the cloud version of Github and using it to update the localised repository on Github desktop.\n",
    "\n",
    "6) What is the difference between Github and Github Desktop?\n",
    "Github: Online, cloud version where people can collaborate. \n",
    "Github Desktop: Localised version that only I can see. \n"
   ]
  }
 ],
 "metadata": {
  "kernelspec": {
   "display_name": "Python 3 (ipykernel)",
   "language": "python",
   "name": "python3"
  },
  "language_info": {
   "codemirror_mode": {
    "name": "ipython",
    "version": 3
   },
   "file_extension": ".py",
   "mimetype": "text/x-python",
   "name": "python",
   "nbconvert_exporter": "python",
   "pygments_lexer": "ipython3",
   "version": "3.11.5"
  },
  "toc": {
   "base_numbering": 1,
   "nav_menu": {},
   "number_sections": true,
   "sideBar": true,
   "skip_h1_title": false,
   "title_cell": "Table of Contents",
   "title_sidebar": "Contents",
   "toc_cell": false,
   "toc_position": {},
   "toc_section_display": true,
   "toc_window_display": false
  },
  "vscode": {
   "interpreter": {
    "hash": "31f2aee4e71d21fbe5cf8b01ff0e069b9275f58929596ceb00d14d90e3e16cd6"
   }
  }
 },
 "nbformat": 4,
 "nbformat_minor": 5
}
